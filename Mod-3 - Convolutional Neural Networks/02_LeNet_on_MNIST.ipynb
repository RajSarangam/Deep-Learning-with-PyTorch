{
  "cells": [
    {
      "cell_type": "markdown",
      "id": "bedf9681",
      "metadata": {
        "id": "bedf9681"
      },
      "source": [
        "<h1 style=\"font-size:30px;\">Implementing LeNet-5 in PyTorch</h1>\n",
        "\n",
        "In this notebook, we will build a model of the LenNet-5 CNN architecture in PyTorch, and we will use it to perform classification on the MNIST dataset that we used in Week 2. LetNet-5 is a small CNN model that was first introduced in 1998 [LeNet-5](http://yann.lecun.com/exdb/publis/pdf/lecun-98.pdf). Even though this network is very small, it performs much better than a standard MLP network because CNNs are much more effective at processing image data. This will also be an opportunity for us to add a little more structure to the code that we develop in order to formalize the training process by encapsulating the various steps into functions that allow us to build more modular code."
      ]
    },
    {
      "cell_type": "markdown",
      "id": "ed808f26",
      "metadata": {
        "id": "ed808f26"
      },
      "source": [
        "<img src='https://opencv.org/wp-content/uploads/2023/05/c3_week3_LeNet-5_architecture.png' width=1000 align='center'><br/>"
      ]
    },
    {
      "cell_type": "markdown",
      "id": "7f3edf06",
      "metadata": {
        "id": "7f3edf06"
      },
      "source": [
        "## Table of Contents\n",
        "\n",
        "* [1 System Configuration](#1-System-Configuration)\n",
        "* [2 Training Configuration](#2-Training-Configuration)\n",
        "* [3 Dataset Processing](#3-Dataset-Processing)\n",
        "* [4 Modeling the LeNet5 Architecture](#4-Modeling-the-LeNet5-Architecture)\n",
        "* [5 Training Pipeline](#5-Training-Pipeline)\n",
        "* [6 Plot Training Results](#6-Plot-Training-Results)\n",
        "* [7 Model Evaluation and Plotting Predictions](#7-Model-Evaluation-and-Plotting-Predictions)\n",
        "* [8 Conclusion](#8-Conclusion)"
      ]
    },
    {
      "cell_type": "code",
      "execution_count": null,
      "id": "950cad1b",
      "metadata": {
        "colab": {
          "base_uri": "https://localhost:8080/"
        },
        "id": "950cad1b",
        "outputId": "c453cf24-497e-47ac-e7bb-f2cde0411f64"
      },
      "outputs": [
        {
          "output_type": "stream",
          "name": "stdout",
          "text": [
            "Collecting torchinfo\n",
            "  Downloading torchinfo-1.8.0-py3-none-any.whl.metadata (21 kB)\n",
            "Downloading torchinfo-1.8.0-py3-none-any.whl (23 kB)\n",
            "Installing collected packages: torchinfo\n",
            "Successfully installed torchinfo-1.8.0\n"
          ]
        }
      ],
      "source": [
        "# Uncooment the line below, if you are using Colab.\n",
        "!pip install torchinfo"
      ]
    },
    {
      "cell_type": "markdown",
      "id": "763c97e4",
      "metadata": {
        "id": "763c97e4"
      },
      "source": [
        "We shall first begin with our imports."
      ]
    },
    {
      "cell_type": "code",
      "execution_count": null,
      "id": "1414ae4a",
      "metadata": {
        "id": "1414ae4a"
      },
      "outputs": [],
      "source": [
        "import os\n",
        "import random\n",
        "import math\n",
        "import numpy as np\n",
        "import time\n",
        "import copy\n",
        "\n",
        "from tqdm import tqdm\n",
        "\n",
        "import requests\n",
        "from zipfile import ZipFile\n",
        "\n",
        "from dataclasses import dataclass\n",
        "from typing import List, Tuple, Union\n",
        "\n",
        "import torch\n",
        "import torch.nn as nn\n",
        "import torch.optim as optim\n",
        "import torch.nn.functional as F\n",
        "from torch.utils.data import DataLoader, random_split\n",
        "from torch.optim import lr_scheduler\n",
        "\n",
        "from torchvision import datasets, transforms as T\n",
        "from torchvision.transforms import functional\n",
        "\n",
        "from torchinfo import summary\n",
        "\n",
        "import matplotlib.pyplot as plt\n",
        "from matplotlib.gridspec import GridSpec\n",
        "from matplotlib.ticker import (MultipleLocator, FormatStrFormatter)\n",
        "\n",
        "block_plot = False\n",
        "plt.rcParams['figure.figsize'] = (12, 9)\n",
        "\n",
        "%matplotlib inline"
      ]
    },
    {
      "cell_type": "code",
      "execution_count": null,
      "id": "f3a68b70",
      "metadata": {
        "id": "f3a68b70"
      },
      "outputs": [],
      "source": [
        "bold = f\"\\033[1m\"\n",
        "reset = f\"\\033[0m\""
      ]
    },
    {
      "cell_type": "markdown",
      "id": "1d2fe284",
      "metadata": {
        "id": "1d2fe284"
      },
      "source": [
        "## 1 System Configuration"
      ]
    },
    {
      "cell_type": "markdown",
      "id": "40df4b7e",
      "metadata": {
        "id": "40df4b7e"
      },
      "source": [
        "We need to set the required seeds to make the results **reproducible**."
      ]
    },
    {
      "cell_type": "code",
      "execution_count": null,
      "id": "f9b39b4f",
      "metadata": {
        "id": "f9b39b4f"
      },
      "outputs": [],
      "source": [
        "def set_seeds():\n",
        "    # fix random seeds\n",
        "    SEED_VALUE = 42\n",
        "\n",
        "    random.seed(SEED_VALUE)\n",
        "    np.random.seed(SEED_VALUE)\n",
        "    torch.manual_seed(SEED_VALUE)\n",
        "\n",
        "    if torch.cuda.is_available():\n",
        "        torch.cuda.manual_seed(SEED_VALUE)\n",
        "        torch.cuda.manual_seed_all(SEED_VALUE)\n",
        "        torch.backends.cudnn.deterministic = True\n",
        "        torch.backends.cudnn.benchmark = True\n",
        "\n",
        "\n",
        "set_seeds()"
      ]
    },
    {
      "cell_type": "markdown",
      "id": "428bd1bc",
      "metadata": {
        "id": "428bd1bc"
      },
      "source": [
        "## 2 Training Configuration"
      ]
    },
    {
      "cell_type": "code",
      "execution_count": null,
      "id": "0d034267",
      "metadata": {
        "id": "0d034267"
      },
      "outputs": [],
      "source": [
        "@dataclass(frozen=True)\n",
        "class DatasetConfig:\n",
        "    NUM_CLASSES: int = 10\n",
        "    IMG_HEIGHT:  int = 32\n",
        "    IMG_WIDTH:   int = 32\n",
        "    BATCH_SIZE:  int = 32\n",
        "    NUM_WORKERS: int = 2\n",
        "    DATA_ROOT:   str = \"DATA_MNIST\"\n",
        "\n",
        "\n",
        "@dataclass(frozen=True)\n",
        "class TrainingConfig:\n",
        "    EPOCHS:         int   = 20\n",
        "    LEARNING_RATE:  float = 1e-2\n",
        "    CHECKPOINT_DIR: str   = \"DATA_MNIST_CHECKPOINTS\"\n",
        "    DEVICE:         str   = \"cuda\""
      ]
    },
    {
      "cell_type": "markdown",
      "id": "ffff15c0",
      "metadata": {
        "id": "ffff15c0"
      },
      "source": [
        "For training on `cpu`, you san set the following configurations:\n",
        "\n",
        "- **`TrainingConfig`**:\n",
        "  * `DEVICE = \"cpu\"`"
      ]
    },
    {
      "cell_type": "markdown",
      "id": "711d3b59",
      "metadata": {
        "id": "711d3b59"
      },
      "source": [
        "## 3 Dataset Processing\n",
        "\n",
        "We will use the MNIST dataset that you are now familiar with.\n",
        "\n",
        "<img src='https://opencv.org/wp-content/uploads/2023/05/c3_week2_MNIST_Digits.png' width=650 align='center'>"
      ]
    },
    {
      "cell_type": "markdown",
      "id": "90c4b7f8",
      "metadata": {
        "id": "90c4b7f8"
      },
      "source": [
        "### 3.1 Define Preprocessing Transforms"
      ]
    },
    {
      "cell_type": "markdown",
      "id": "cf3e6894",
      "metadata": {
        "id": "cf3e6894"
      },
      "source": [
        "Before we start for preparing our dataset, it is essential to resize our data to some fixed dimensions. The `image_preprocess_transforms` resizes the image data to a shape of `(32, 32)` and converts them to a tensor which normalizes the image data in the range `[0., 1.]`. Besides, it also transposes the dimensions from `[H, W, C]` to `[C, H, W]`.\n",
        "\n",
        "Finally the image data needs to be **normalized** again, using the appropriate mean and standard deviation.\n",
        "\n",
        "In other words, following equation is used for Normalization across each image channel, $C$:\n",
        "\n",
        "$$ \\hat x_C = \\frac{x_C - \\mu_C}{\\sigma_C}$$\n",
        "\n",
        "For MNIST, we only have have a single channel. Its **mean** and **standard deviation** have already been computed, and turns out to be `(.1307,)` and `(.3081,)` respectively."
      ]
    },
    {
      "cell_type": "code",
      "execution_count": null,
      "id": "4e8830a8",
      "metadata": {
        "id": "4e8830a8"
      },
      "outputs": [],
      "source": [
        "def image_preprocess_transforms(img_size: Tuple[int] = (32,32)):\n",
        "\n",
        "    preprocess = T.Compose([\n",
        "                    # Resize image data to img_size.\n",
        "                    T.Resize(img_size, antialias=True),\n",
        "                    # Convert (H,W,C) to (C,H,W) and normalize data to [0., 1.].\n",
        "                    # by dividing with 255.\n",
        "                    T.ToTensor(),\n",
        "                    # Subtract mean (0.1307) and divide by variance (0.3081).\n",
        "                    # This mean and variance is calculated on training data.\n",
        "                    T.Normalize(mean=[.1307,], std=[.3081,])\n",
        "                 ])\n",
        "\n",
        "    return preprocess"
      ]
    },
    {
      "cell_type": "markdown",
      "id": "e384a3f3",
      "metadata": {
        "id": "e384a3f3"
      },
      "source": [
        "### 3.2 Download and Read the Dataset"
      ]
    },
    {
      "cell_type": "code",
      "execution_count": null,
      "id": "3ed2bd69",
      "metadata": {
        "id": "3ed2bd69"
      },
      "outputs": [],
      "source": [
        "def get_data(img_size, root_dir):\n",
        "\n",
        "    train_test_transforms = image_preprocess_transforms(img_size)\n",
        "\n",
        "    if os.path.exists(root_dir):\n",
        "        download = False\n",
        "    else:\n",
        "        download = True\n",
        "\n",
        "    train_dataset = datasets.MNIST(\n",
        "                             root=root_dir,\n",
        "                             download=download,\n",
        "                             train=True,\n",
        "                             transform=train_test_transforms\n",
        "                        )\n",
        "\n",
        "    test_dataset = datasets.MNIST(\n",
        "                            root=root_dir,\n",
        "                            download=download,\n",
        "                            train=False,\n",
        "                            transform=train_test_transforms\n",
        "                        )\n",
        "\n",
        "    return train_dataset, test_dataset"
      ]
    },
    {
      "cell_type": "markdown",
      "id": "f7910f1f",
      "metadata": {
        "id": "f7910f1f"
      },
      "source": [
        "### 3.3 Create the Train, Validation and Test Data Loaders"
      ]
    },
    {
      "cell_type": "code",
      "execution_count": null,
      "id": "24d1d509",
      "metadata": {
        "id": "24d1d509"
      },
      "outputs": [],
      "source": [
        "def create_data_loaders(train_set, test_set, batch_size, num_workers=1, seed=42):\n",
        "\n",
        "    torch.manual_seed(seed)\n",
        "    # Split train_dataset into 90-10 train-val splits\n",
        "    train_data, valid_data = random_split(train_set, [.9, .1])\n",
        "\n",
        "\n",
        "    # Train dataloader\n",
        "    train_loader = DataLoader(\n",
        "                        train_data,\n",
        "                        batch_size=batch_size,\n",
        "                        shuffle=True,\n",
        "                        num_workers=num_workers\n",
        "                    )\n",
        "    # Validation loader\n",
        "    valid_loader = DataLoader(\n",
        "                        valid_data,\n",
        "                        batch_size=batch_size,\n",
        "                        shuffle=False,\n",
        "                        num_workers=num_workers)\n",
        "\n",
        "    # Test loader\n",
        "    test_loader = DataLoader(\n",
        "                        test_set,\n",
        "                        batch_size=batch_size,\n",
        "                        shuffle=False,\n",
        "                        num_workers=num_workers\n",
        "                    )\n",
        "\n",
        "\n",
        "    # Print stats.\n",
        "    print(\"Dataset Statistics:\\n\")\n",
        "    print(f\"There are {len(train_data)} training examples\")\n",
        "    print(f\"There are {len(valid_data)} validation examples\")\n",
        "    print(f\"There are {len(test_set)} test examples\")\n",
        "    print(f\"Image data shape: {train_set[0][0].shape}\")\n",
        "    print(f\"There are {len(train_set.classes)} classes\")\n",
        "    print(\"\\n\\n\")\n",
        "\n",
        "    return train_loader, valid_loader, test_loader"
      ]
    },
    {
      "cell_type": "markdown",
      "id": "af9dc4f5",
      "metadata": {
        "id": "af9dc4f5"
      },
      "source": [
        "### 3.4 Data Visualization"
      ]
    },
    {
      "cell_type": "markdown",
      "id": "a9f5a14c",
      "metadata": {
        "id": "a9f5a14c"
      },
      "source": [
        "It's always a good idea to explore the dataset you are using. We have already used the MNIST dataset before, but it's good to build a small function that can easily display a small portion of the dataset."
      ]
    },
    {
      "cell_type": "code",
      "execution_count": null,
      "id": "2fd17e54",
      "metadata": {
        "id": "2fd17e54"
      },
      "outputs": [],
      "source": [
        "def visualize_samples(sample_set):\n",
        "\n",
        "    plt.figure(figsize=(18, 8))\n",
        "    for i in range(10):\n",
        "        plt.subplot(2, 5, i + 1)\n",
        "        plt.grid(False)\n",
        "        plt.imshow(sample_set[i][0].permute(1,2,0), cmap='gray')\n",
        "        plt.xlabel(sample_set[i][1])\n",
        "        plt.axis(\"off\")\n",
        "\n",
        "    plt.suptitle('Dataset Samples', fontsize=18)\n",
        "    plt.subplots_adjust(wspace=0.2, hspace=0.2)\n",
        "    plt.show(block=block_plot)\n",
        "    plt.close()"
      ]
    },
    {
      "cell_type": "code",
      "execution_count": null,
      "id": "b77f3b56",
      "metadata": {
        "scrolled": true,
        "colab": {
          "base_uri": "https://localhost:8080/"
        },
        "id": "b77f3b56",
        "outputId": "9b59600d-2221-43b8-87cd-d2103a7ed3fc"
      },
      "outputs": [
        {
          "output_type": "stream",
          "name": "stdout",
          "text": [
            "Downloading http://yann.lecun.com/exdb/mnist/train-images-idx3-ubyte.gz\n",
            "Failed to download (trying next):\n",
            "<urlopen error [SSL: CERTIFICATE_VERIFY_FAILED] certificate verify failed: certificate has expired (_ssl.c:1007)>\n",
            "\n",
            "Downloading https://ossci-datasets.s3.amazonaws.com/mnist/train-images-idx3-ubyte.gz\n",
            "Downloading https://ossci-datasets.s3.amazonaws.com/mnist/train-images-idx3-ubyte.gz to DATA_MNIST/MNIST/raw/train-images-idx3-ubyte.gz\n"
          ]
        },
        {
          "output_type": "stream",
          "name": "stderr",
          "text": [
            "100%|██████████| 9.91M/9.91M [00:00<00:00, 12.7MB/s]\n"
          ]
        },
        {
          "output_type": "stream",
          "name": "stdout",
          "text": [
            "Extracting DATA_MNIST/MNIST/raw/train-images-idx3-ubyte.gz to DATA_MNIST/MNIST/raw\n",
            "\n",
            "Downloading http://yann.lecun.com/exdb/mnist/train-labels-idx1-ubyte.gz\n",
            "Failed to download (trying next):\n",
            "<urlopen error [SSL: CERTIFICATE_VERIFY_FAILED] certificate verify failed: certificate has expired (_ssl.c:1007)>\n",
            "\n",
            "Downloading https://ossci-datasets.s3.amazonaws.com/mnist/train-labels-idx1-ubyte.gz\n",
            "Downloading https://ossci-datasets.s3.amazonaws.com/mnist/train-labels-idx1-ubyte.gz to DATA_MNIST/MNIST/raw/train-labels-idx1-ubyte.gz\n"
          ]
        },
        {
          "output_type": "stream",
          "name": "stderr",
          "text": [
            "100%|██████████| 28.9k/28.9k [00:00<00:00, 347kB/s]\n"
          ]
        },
        {
          "output_type": "stream",
          "name": "stdout",
          "text": [
            "Extracting DATA_MNIST/MNIST/raw/train-labels-idx1-ubyte.gz to DATA_MNIST/MNIST/raw\n",
            "\n",
            "Downloading http://yann.lecun.com/exdb/mnist/t10k-images-idx3-ubyte.gz\n",
            "Failed to download (trying next):\n",
            "<urlopen error [SSL: CERTIFICATE_VERIFY_FAILED] certificate verify failed: certificate has expired (_ssl.c:1007)>\n",
            "\n",
            "Downloading https://ossci-datasets.s3.amazonaws.com/mnist/t10k-images-idx3-ubyte.gz\n",
            "Downloading https://ossci-datasets.s3.amazonaws.com/mnist/t10k-images-idx3-ubyte.gz to DATA_MNIST/MNIST/raw/t10k-images-idx3-ubyte.gz\n"
          ]
        },
        {
          "output_type": "stream",
          "name": "stderr",
          "text": [
            "100%|██████████| 1.65M/1.65M [00:00<00:00, 2.78MB/s]\n"
          ]
        },
        {
          "output_type": "stream",
          "name": "stdout",
          "text": [
            "Extracting DATA_MNIST/MNIST/raw/t10k-images-idx3-ubyte.gz to DATA_MNIST/MNIST/raw\n",
            "\n",
            "Downloading http://yann.lecun.com/exdb/mnist/t10k-labels-idx1-ubyte.gz\n",
            "Failed to download (trying next):\n",
            "<urlopen error [SSL: CERTIFICATE_VERIFY_FAILED] certificate verify failed: certificate has expired (_ssl.c:1007)>\n",
            "\n",
            "Downloading https://ossci-datasets.s3.amazonaws.com/mnist/t10k-labels-idx1-ubyte.gz\n",
            "Downloading https://ossci-datasets.s3.amazonaws.com/mnist/t10k-labels-idx1-ubyte.gz to DATA_MNIST/MNIST/raw/t10k-labels-idx1-ubyte.gz\n"
          ]
        },
        {
          "output_type": "stream",
          "name": "stderr",
          "text": [
            "100%|██████████| 4.54k/4.54k [00:00<00:00, 10.0MB/s]\n"
          ]
        },
        {
          "output_type": "stream",
          "name": "stdout",
          "text": [
            "Extracting DATA_MNIST/MNIST/raw/t10k-labels-idx1-ubyte.gz to DATA_MNIST/MNIST/raw\n",
            "\n"
          ]
        }
      ],
      "source": [
        "data_config = DatasetConfig()\n",
        "\n",
        "# Download the MNIST dataset.\n",
        "train_set, test_set = get_data(\n",
        "                       img_size=(data_config.IMG_HEIGHT, data_config.IMG_WIDTH),\n",
        "                       root_dir=data_config.DATA_ROOT)"
      ]
    },
    {
      "cell_type": "code",
      "execution_count": null,
      "id": "028a21af",
      "metadata": {
        "colab": {
          "base_uri": "https://localhost:8080/",
          "height": 713
        },
        "id": "028a21af",
        "outputId": "7fd86884-371e-45b6-fed3-081b6f07d2d9"
      },
      "outputs": [
        {
          "output_type": "display_data",
          "data": {
            "text/plain": [
              "<Figure size 1800x800 with 10 Axes>"
            ],
            "image/png": "[encoded data removed]"
          },
          "metadata": {}
        }
      ],
      "source": [
        "visualize_samples(train_set)"
      ]
    },
    {
      "cell_type": "markdown",
      "id": "5e584345",
      "metadata": {
        "id": "5e584345"
      },
      "source": [
        "## 4 Modeling the LeNet5 Architecture"
      ]
    },
    {
      "cell_type": "markdown",
      "id": "f3698566",
      "metadata": {
        "id": "f3698566"
      },
      "source": [
        "This network has two convolutional layers and three fully connected layers. The model architecture can be then divided into two parts:\n",
        "\n",
        "\n",
        "1. **`_body`**: This implements the Convolutional part of the network, which consists of the two convolutional layers. Each convolutional layer is followed by a pooling layer. In classical Machine Learning terms, it also works as a feature extractor.\n",
        "2. **`_head`**: This implements the fully-connected part of the network. It consists of three fully-connected layers, with the last layer having ten output classes."
      ]
    },
    {
      "cell_type": "markdown",
      "id": "2222a5d5",
      "metadata": {
        "id": "2222a5d5"
      },
      "source": [
        "### 4.1 Convolutional Layer Function Syntax"
      ]
    },
    {
      "cell_type": "markdown",
      "id": "664e3dbe",
      "metadata": {
        "id": "664e3dbe"
      },
      "source": [
        "\n",
        "```python\n",
        "torch.nn.Conv2d(in_channels, out_channels,\n",
        "                kernel_size, stride=1, padding=0,\n",
        "                dilation=1, groups=1, bias=True, padding_mode='zeros',\n",
        "                device=None, dtype=None)\n",
        "```\n",
        "\n",
        "Where,\n",
        "\n",
        "* `in_channels`: number of input channels. For example, for colored image inputs, in_channel must be `3`. If out_channels of the first conv2d layer is `6` then in_channels of the second conv2d layer must be `6`.\n",
        "<br>\n",
        "* `out_channels`: The dimensionality of the output space (i.e. the number of output filters in the convolution).\n",
        "</br>\n",
        "\n",
        "* `kernel_size`: `int` or a `tuple of int`. If it is `int`, height and width will be the same. If it is a `tuple of int`, the first element will be the height (number of rows) of filter, while second element denotes its width (number of columns) of the filter.\n",
        "<br>\n",
        "* `padding`: controls the amount of padding applied to the input. It can be either a `string` {‘valid’, ‘same’} or an `int` or a `tuple of ints` giving the amount of implicit padding applied on both sides. Here, `padding='valid'` is the same as no padding, whereas, `padding='same'` pads the input so the output has the shape as the input. If it is `int` same padding will be done across the height and width. The default is `zero` padding.\n",
        "<br>\n",
        "* `stride`: An `int` or a `tuple or list of 2 ints`, specifying the strides of the convolution along the height and width. It can be a single integer to specify the same value for all spatial dimensions.\n",
        "<br>\n",
        "* `bias`: `Boolean`, whether the layer uses a bias vector (default is `True`).\n",
        "\n",
        "\n",
        "The full documentation is available here:  [Conv2D Documentation](https://pytorch.org/docs/stable/generated/torch.nn.Conv2d.html#torch.nn.Conv2d).\n",
        "\n",
        "**Note:** There is no activation after the last `Linear` layer. So while during inference, if we want probability as the output, we need to pass the model output through `softmax`."
      ]
    },
    {
      "cell_type": "markdown",
      "id": "13e721bb",
      "metadata": {
        "id": "13e721bb"
      },
      "source": [
        "### 4.2 LeNet-5 Model\n",
        "\n",
        "In this section, we are going to implement the LeNet-5 model in PyTorch using the `nn.Module`. This particualr model is slightly different from the original version which used Average Pooling and Tanh activations. Here, we will use Max Pooling and Relu activations."
      ]
    },
    {
      "cell_type": "code",
      "execution_count": null,
      "id": "466c713a",
      "metadata": {
        "id": "466c713a"
      },
      "outputs": [],
      "source": [
        "class LeNet5(nn.Module):\n",
        "    def __init__(self, num_classes):\n",
        "        super().__init__()\n",
        "\n",
        "        # convolution layers\n",
        "        self._body = nn.Sequential(\n",
        "            # First convolution Layer\n",
        "            # input size = (32, 32), output size = (28, 28)\n",
        "            nn.Conv2d(in_channels=1, out_channels=6, kernel_size=5),\n",
        "            # ReLU activation\n",
        "            nn.ReLU(inplace=True),\n",
        "            # Max pool 2-d\n",
        "            nn.MaxPool2d(kernel_size=2),\n",
        "\n",
        "            # Second convolution layer\n",
        "            # input size = (14, 14), output size = (10, 10)\n",
        "            nn.Conv2d(in_channels=6, out_channels=16, kernel_size=5),\n",
        "            nn.ReLU(inplace=True),\n",
        "            nn.MaxPool2d(kernel_size=2),\n",
        "            # output size = (5, 5)\n",
        "        )\n",
        "\n",
        "        # Fully connected layers\n",
        "        self._head = nn.Sequential(\n",
        "            # First fully connected layer\n",
        "            # in_features = total number of weights in last conv layer = 16 * 5 * 5\n",
        "            nn.Linear(in_features=16 * 5 * 5, out_features=120),\n",
        "\n",
        "            # ReLU activation\n",
        "            nn.ReLU(inplace=True),\n",
        "\n",
        "            # second fully connected layer\n",
        "            # in_features = output of last linear layer = 120\n",
        "            nn.Linear(in_features=120, out_features=84),\n",
        "\n",
        "            # ReLU activation\n",
        "            nn.ReLU(inplace=True),\n",
        "\n",
        "            # Third fully connected layer. It is also output layer\n",
        "            # in_features = output of last linear layer = 84\n",
        "            # and out_features = number of classes = 10 (MNIST data 0-9)\n",
        "            nn.Linear(in_features=84, out_features=num_classes)\n",
        "        )\n",
        "\n",
        "    def forward(self, x):\n",
        "        # apply feature extractor\n",
        "        x = self._body(x)\n",
        "        # flatten the output of conv layers\n",
        "        # dimension should be batch_size * number_of weights_in_last conv_layer\n",
        "        x = x.view(x.shape[0], -1)\n",
        "        # apply classification head\n",
        "        x = self._head(x)\n",
        "        return x"
      ]
    },
    {
      "cell_type": "markdown",
      "id": "c6b2db32",
      "metadata": {
        "id": "c6b2db32"
      },
      "source": [
        "## 5 Training Pipeline"
      ]
    },
    {
      "cell_type": "markdown",
      "id": "02f02ef8",
      "metadata": {
        "id": "02f02ef8"
      },
      "source": [
        "The `create_checkpoint_dir` utility function creates the specified directory to save the model with the best weights."
      ]
    },
    {
      "cell_type": "code",
      "execution_count": null,
      "id": "be1fba7d",
      "metadata": {
        "id": "be1fba7d"
      },
      "outputs": [],
      "source": [
        "def create_checkpoint_dir(checkpoint_dir):\n",
        "\n",
        "    # Create a new checkpoint directory every time.\n",
        "    if not os.path.exists(checkpoint_dir):\n",
        "        os.makedirs(checkpoint_dir)\n",
        "\n",
        "    print(f\"Checkpoint directory: {checkpoint_dir}\")\n",
        "    return checkpoint_dir"
      ]
    },
    {
      "cell_type": "markdown",
      "id": "dd085057",
      "metadata": {
        "id": "dd085057"
      },
      "source": [
        "### 5.1 Define Train Step\n",
        "\n",
        "The `train` function defines the training steps for model. This is where the model weights are updated  using backprop. We shall also print the loss and the accuracy for each epoch as the training progresses.\n",
        "\n",
        "The following steps summarizes the `train` function:\n",
        "\n",
        "1. Send the data to the required device ( CPU/GPU ).\n",
        "2. Make a forward pass using the forward method.\n",
        "3. Find the loss using the `Cross_Entropy` function.\n",
        "4. Find the gradients using the backward function.\n",
        "5. Update the weights using the optimizer.\n",
        "6. Compute the batch loss and accuracy of the model for each epoch."
      ]
    },
    {
      "cell_type": "code",
      "execution_count": null,
      "id": "37b2ed61",
      "metadata": {
        "id": "37b2ed61"
      },
      "outputs": [],
      "source": [
        "def train(\n",
        "    train_config: TrainingConfig,\n",
        "    model: nn.Module,\n",
        "    optimizer: torch.optim.Optimizer,\n",
        "    train_loader: torch.utils.data.DataLoader,\n",
        "    epoch_idx: int,\n",
        "    total_epochs: int\n",
        ") -> Tuple[float, float]:\n",
        "\n",
        "    # change model in training mode\n",
        "    model.train()\n",
        "\n",
        "    count_sample = 0\n",
        "    step_loss = 0\n",
        "    step_accuracy = 0\n",
        "\n",
        "    status = f\"Train:\\t{bold}Epoch: {epoch_idx}/{total_epochs}{reset}\"\n",
        "\n",
        "    prog_bar = tqdm(train_loader, bar_format='{l_bar}{bar:10}{r_bar}{bar:-10b}')\n",
        "\n",
        "    prog_bar.set_description(status)\n",
        "\n",
        "    for data, target in prog_bar:\n",
        "\n",
        "        # Send data and target to appropriate device.\n",
        "        data, target = data.to(train_config.DEVICE), target.to(train_config.DEVICE)\n",
        "\n",
        "        # Reset parameters gradient to zero.\n",
        "        optimizer.zero_grad()\n",
        "\n",
        "        # Forward pass to the model.\n",
        "        output = model(data)\n",
        "\n",
        "        # Cross Entropy loss\n",
        "        loss = F.cross_entropy(output, target)\n",
        "\n",
        "        # Find gradients w.r.t training parameters.\n",
        "        loss.backward()\n",
        "\n",
        "        # Update parameters using gradients.\n",
        "        optimizer.step()\n",
        "\n",
        "        # Get probability score using softmax.\n",
        "        prob = F.softmax(output, dim=1)\n",
        "\n",
        "        # Get the index of the max probability.\n",
        "        pred_idx = prob.detach().argmax(dim=1)\n",
        "\n",
        "        # Batch Loss.\n",
        "        step_loss+= loss.item() * data.shape[0]\n",
        "\n",
        "        # Batch accuracy.\n",
        "        step_accuracy+= (pred_idx.cpu() == target.cpu()).sum()\n",
        "\n",
        "        # Count samples.\n",
        "        count_sample+= data.shape[0]\n",
        "\n",
        "        # Update progress bar description.\n",
        "        step_status = status + f\"\\tLoss: {float(step_loss/count_sample):.4f}, \"\n",
        "        step_status+= f\"Acc: {float(step_accuracy/count_sample):.4f}\"\n",
        "        prog_bar.set_description(step_status)\n",
        "\n",
        "    epoch_loss = float(step_loss / len(train_loader.dataset))\n",
        "    epoch_acc = float(step_accuracy/ len(train_loader.dataset))\n",
        "\n",
        "    prog_bar.close()\n",
        "\n",
        "    return epoch_loss, epoch_acc"
      ]
    },
    {
      "cell_type": "markdown",
      "id": "cae085f9",
      "metadata": {
        "id": "cae085f9"
      },
      "source": [
        "### 5.2 Define Validation Step\n",
        "\n",
        "The `validate` function is used to calculate the validation loss and accuracy for each epoch."
      ]
    },
    {
      "cell_type": "code",
      "execution_count": null,
      "id": "522a366e",
      "metadata": {
        "id": "522a366e"
      },
      "outputs": [],
      "source": [
        "def validate(\n",
        "    train_config: TrainingConfig,\n",
        "    model: nn.Module,\n",
        "    test_loader: torch.utils.data.DataLoader,\n",
        "    epoch_idx: int,\n",
        "    total_epochs: int\n",
        ") -> Tuple[float, float]:\n",
        "    #\n",
        "    model.eval()\n",
        "\n",
        "    count_sample = 0\n",
        "    step_loss = 0\n",
        "    step_accuracy = 0\n",
        "\n",
        "    status = f\"Valid:\\t{bold}Epoch: {epoch_idx}/{total_epochs}{reset}\"\n",
        "\n",
        "    prog_bar = tqdm(test_loader, bar_format='{l_bar}{bar:10}{r_bar}{bar:-10b}')\n",
        "\n",
        "    prog_bar.set_description(status)\n",
        "\n",
        "    for data, target in prog_bar:\n",
        "\n",
        "        # Send data and target to appropriate device.\n",
        "        data, target = data.to(train_config.DEVICE), target.to(train_config.DEVICE)\n",
        "\n",
        "        # Get the model's predicted logits.\n",
        "        with torch.no_grad():\n",
        "            output = model(data)\n",
        "\n",
        "        # Compute the CE-Loss.\n",
        "        test_loss = F.cross_entropy(output, target).item()\n",
        "\n",
        "        # Convert model's logits to probability scores.\n",
        "        prob = F.softmax(output, dim=1)\n",
        "\n",
        "        # Get the class id for the maximum score.\n",
        "        pred_idx = prob.detach().argmax(dim=1)\n",
        "\n",
        "        # Batch validation loss.\n",
        "        step_loss+= test_loss * data.shape[0]\n",
        "\n",
        "        # Batch validation accuracy.\n",
        "        step_accuracy+= (pred_idx.cpu() == target.cpu()).sum()\n",
        "\n",
        "        # Count samples.\n",
        "        count_sample+= data.shape[0]\n",
        "\n",
        "        # Update progress bar description.\n",
        "        step_status = status + f\"\\tLoss: {float(step_loss/count_sample):.4f}, \"\n",
        "        step_status+= f\"Acc: {float(step_accuracy/count_sample):.4f}\"\n",
        "        prog_bar.set_description(step_status)\n",
        "\n",
        "\n",
        "    test_loss = float(step_loss / len(test_loader.dataset))\n",
        "    test_acc = float(step_accuracy/ len(test_loader.dataset))\n",
        "\n",
        "    prog_bar.close()\n",
        "\n",
        "    return test_loss, test_acc"
      ]
    },
    {
      "cell_type": "markdown",
      "id": "523a9ce7",
      "metadata": {
        "id": "523a9ce7"
      },
      "source": [
        "### 5.3 Perform Training"
      ]
    },
    {
      "cell_type": "markdown",
      "id": "da4cfc50",
      "metadata": {
        "id": "da4cfc50"
      },
      "source": [
        "The final step is to perform the training and add save the model checkpoints with the best validation loss."
      ]
    },
    {
      "cell_type": "code",
      "execution_count": null,
      "id": "acff74ce",
      "metadata": {
        "id": "acff74ce"
      },
      "outputs": [],
      "source": [
        "def main(\n",
        "     model: nn.Module,\n",
        "     optimizer: Union[optim.SGD, optim.Adam],\n",
        "     ckpt_dir: str,\n",
        "     data_config: DatasetConfig,\n",
        "     train_config: TrainingConfig\n",
        "  ) -> dict:\n",
        "\n",
        "\n",
        "    # Download the dataset.\n",
        "    train_set, test_set = get_data(\n",
        "                                    img_size=(data_config.IMG_HEIGHT, data_config.IMG_WIDTH),\n",
        "                                    root_dir=data_config.DATA_ROOT,\n",
        "                                   )\n",
        "\n",
        "    # Create the train and validation loaders.\n",
        "    train_loader, valid_loader, _ = create_data_loaders(\n",
        "                                        train_set,\n",
        "                                        test_set,\n",
        "                                        batch_size = data_config.BATCH_SIZE,\n",
        "                                        num_workers= data_config.NUM_WORKERS\n",
        "                                    )\n",
        "\n",
        "    best_loss = torch.tensor(np.inf)\n",
        "\n",
        "    # epoch train/test loss\n",
        "    epoch_train_loss = []\n",
        "    epoch_test_loss = []\n",
        "\n",
        "    # epoch train/test accuracy\n",
        "    epoch_train_acc = []\n",
        "    epoch_test_acc = []\n",
        "\n",
        "    # trainig time measurement\n",
        "    t_begin = time.time()\n",
        "    for epoch in range(train_config.EPOCHS):\n",
        "\n",
        "        train_loss, train_acc = train(train_config, model,\n",
        "                                      optimizer, train_loader, epoch+1, train_config.EPOCHS)\n",
        "        val_loss, val_accuracy = validate(train_config, model,\n",
        "                                          valid_loader, epoch+1, train_config.EPOCHS)\n",
        "\n",
        "        train_loss_stat = f\"{bold}Train Loss: {train_loss:.4f}{reset}\"\n",
        "        train_acc_stat = f\"{bold}Train Acc: {train_acc:.4f}{reset}\"\n",
        "\n",
        "        val_loss_stat = f\"{bold}Val Loss: {val_loss:.4f}{reset}\"\n",
        "        val_acc_stat = f\"{bold}Val Acc: {val_accuracy:.4f}{reset}\"\n",
        "\n",
        "        print(f\"\\n{train_loss_stat:<30}{train_acc_stat}\")\n",
        "        print(f\"{val_loss_stat:<30}{val_acc_stat}\")\n",
        "\n",
        "\n",
        "        epoch_train_loss.append(train_loss)\n",
        "        epoch_train_acc.append(train_acc)\n",
        "\n",
        "        epoch_test_loss.append(val_loss)\n",
        "        epoch_test_acc.append(val_accuracy)\n",
        "\n",
        "\n",
        "        if val_loss < best_loss:\n",
        "            best_loss = val_loss\n",
        "            print(f\"\\nModel Improved... Saving Model ... \", end=\"\")\n",
        "            best_weights = copy.deepcopy(model.state_dict())\n",
        "            torch.save(model.state_dict(), os.path.join(ckpt_dir, \"LeNet5_MNIST.pth\"))\n",
        "            print(\"Done.\\n\")\n",
        "\n",
        "        print(f\"{'='*72}\\n\")\n",
        "\n",
        "    print(f\"Total time: {(time.time() - t_begin):.2f}s, Best Loss: {best_loss:.3f}\")\n",
        "\n",
        "    # Load model with best weights.\n",
        "    model.load_state_dict(best_weights)\n",
        "\n",
        "    history = dict(\n",
        "                    model = model,\n",
        "                    train_loss = epoch_train_loss,\n",
        "                    train_acc = epoch_train_acc,\n",
        "                    valid_loss = epoch_test_loss,\n",
        "                    valid_acc = epoch_test_acc,\n",
        "                    train_config = train_config,\n",
        "                    data_config = data_config\n",
        "                  )\n",
        "\n",
        "    return history"
      ]
    },
    {
      "cell_type": "markdown",
      "id": "103a0d67",
      "metadata": {
        "id": "103a0d67"
      },
      "source": [
        "### 5.4 Model Checkpoints"
      ]
    },
    {
      "cell_type": "markdown",
      "id": "c1dd9081",
      "metadata": {
        "id": "c1dd9081"
      },
      "source": [
        "We shall create the checkpoint directory to save our model.\n",
        "\n",
        "We can use the checkpoint for inference or to resume training from where you paused it. ( Eg:, When you use free services like Google Colab etc.)\n",
        "\n",
        "While saving or loading the model, the most important concept to understand is `state_dict`. The model, as you know, consists of parameters learned during training. These can now be accessed using the `model.parameters()` method. Also, there are some optimizer parameters. These carry information on hyperparameters like learning rate, optimizer used etc.\n",
        "\n",
        "All the above information is stored in the form of state_dicts. There are separate `state_dict`s for model parameters (`model.state_dict()`) and optimizer (`optimizer.state_dict()`).\n",
        "\n",
        "So, if you want to save the model for inference, save the state_dict of the model only. However, if you want to resume training from some checkpoint, you need to save the optimizer's `state_dict` as well.\n",
        "\n",
        "To know more on saving and loading models in PyTorch you can take a look at this [tutorial](https://pytorch.org/tutorials/beginner/saving_loading_models.html)."
      ]
    },
    {
      "cell_type": "code",
      "execution_count": null,
      "id": "f4d7469b",
      "metadata": {
        "colab": {
          "base_uri": "https://localhost:8080/"
        },
        "id": "f4d7469b",
        "outputId": "9abd02f6-ac86-4eec-db57-d3d5fe44556e"
      },
      "outputs": [
        {
          "output_type": "stream",
          "name": "stdout",
          "text": [
            "Checkpoint directory: DATA_MNIST_CHECKPOINTS\n"
          ]
        }
      ],
      "source": [
        "CKPT_DIR = create_checkpoint_dir(TrainingConfig.CHECKPOINT_DIR)\n",
        "\n",
        "# Instantiate `TrainingConfig` and `DatasetConfig`.\n",
        "train_config = TrainingConfig()\n",
        "dataset_config = DatasetConfig()"
      ]
    },
    {
      "cell_type": "markdown",
      "id": "76abc5d6",
      "metadata": {
        "id": "76abc5d6"
      },
      "source": [
        "Now, lets create our model. We shall also print its summary. We have also defined our optimizer in this code cell."
      ]
    },
    {
      "cell_type": "code",
      "execution_count": null,
      "id": "0f6663be",
      "metadata": {
        "scrolled": true,
        "colab": {
          "base_uri": "https://localhost:8080/"
        },
        "id": "0f6663be",
        "outputId": "1397a708-4135-4e0f-d47d-5108994424ef"
      },
      "outputs": [
        {
          "output_type": "stream",
          "name": "stdout",
          "text": [
            "==========================================================================================\n",
            "Layer (type (var_name))                  Output Shape              Param #\n",
            "==========================================================================================\n",
            "LeNet5 (LeNet5)                          [1, 10]                   --\n",
            "├─Sequential (_body)                     [1, 16, 5, 5]             --\n",
            "│    └─Conv2d (0)                        [1, 6, 28, 28]            156\n",
            "│    └─ReLU (1)                          [1, 6, 28, 28]            --\n",
            "│    └─MaxPool2d (2)                     [1, 6, 14, 14]            --\n",
            "│    └─Conv2d (3)                        [1, 16, 10, 10]           2,416\n",
            "│    └─ReLU (4)                          [1, 16, 10, 10]           --\n",
            "│    └─MaxPool2d (5)                     [1, 16, 5, 5]             --\n",
            "├─Sequential (_head)                     [1, 10]                   --\n",
            "│    └─Linear (0)                        [1, 120]                  48,120\n",
            "│    └─ReLU (1)                          [1, 120]                  --\n",
            "│    └─Linear (2)                        [1, 84]                   10,164\n",
            "│    └─ReLU (3)                          [1, 84]                   --\n",
            "│    └─Linear (4)                        [1, 10]                   850\n",
            "==========================================================================================\n",
            "Total params: 61,706\n",
            "Trainable params: 61,706\n",
            "Non-trainable params: 0\n",
            "Total mult-adds (M): 0.42\n",
            "==========================================================================================\n",
            "Input size (MB): 0.00\n",
            "Forward/backward pass size (MB): 0.05\n",
            "Params size (MB): 0.25\n",
            "Estimated Total Size (MB): 0.30\n",
            "==========================================================================================\n"
          ]
        }
      ],
      "source": [
        "model = LeNet5(num_classes=dataset_config.NUM_CLASSES)\n",
        "\n",
        "print(summary(model,\n",
        "              input_size=(1, 1, dataset_config.IMG_HEIGHT, dataset_config.IMG_WIDTH),\n",
        "              row_settings=[\"var_names\"]))\n",
        "\n",
        "model = model.float().to(train_config.DEVICE)\n",
        "\n",
        "optimizer = optim.SGD(\n",
        "                        model.parameters(),\n",
        "                        lr=train_config.LEARNING_RATE,\n",
        "                      )\n"
      ]
    },
    {
      "cell_type": "markdown",
      "id": "cb5316f0",
      "metadata": {
        "id": "cb5316f0"
      },
      "source": [
        "Next we start our model training by calling the `main` function."
      ]
    },
    {
      "cell_type": "code",
      "execution_count": null,
      "id": "91ae087b",
      "metadata": {
        "scrolled": true,
        "colab": {
          "base_uri": "https://localhost:8080/"
        },
        "id": "91ae087b",
        "outputId": "ac210cbf-5615-480b-9bff-e015849e9f10"
      },
      "outputs": [
        {
          "output_type": "stream",
          "name": "stdout",
          "text": [
            "Dataset Statistics:\n",
            "\n",
            "There are 54000 training examples\n",
            "There are 6000 validation examples\n",
            "There are 10000 test examples\n",
            "Image data shape: torch.Size([1, 32, 32])\n",
            "There are 10 classes\n",
            "\n",
            "\n",
            "\n"
          ]
        },
        {
          "output_type": "stream",
          "name": "stderr",
          "text": [
            "Train:\t\u001b[1mEpoch: 1/20\u001b[0m\tLoss: 0.6016, Acc: 0.8136: 100%|██████████| 1688/1688 [00:40<00:00, 41.33it/s]\n",
            "Valid:\t\u001b[1mEpoch: 1/20\u001b[0m\tLoss: 0.1698, Acc: 0.9497: 100%|██████████| 188/188 [00:02<00:00, 72.18it/s]\n"
          ]
        },
        {
          "output_type": "stream",
          "name": "stdout",
          "text": [
            "\n",
            "\u001b[1mTrain Loss: 0.6016\u001b[0m    \u001b[1mTrain Acc: 0.8136\u001b[0m\n",
            "\u001b[1mVal Loss: 0.1698\u001b[0m      \u001b[1mVal Acc: 0.9497\u001b[0m\n",
            "\n",
            "Model Improved... Saving Model ... Done.\n",
            "\n",
            "========================================================================\n",
            "\n"
          ]
        },
        {
          "output_type": "stream",
          "name": "stderr",
          "text": [
            "Train:\t\u001b[1mEpoch: 2/20\u001b[0m\tLoss: 0.1219, Acc: 0.9622: 100%|██████████| 1688/1688 [00:27<00:00, 61.24it/s]\n",
            "Valid:\t\u001b[1mEpoch: 2/20\u001b[0m\tLoss: 0.1066, Acc: 0.9693: 100%|██████████| 188/188 [00:02<00:00, 72.58it/s]\n"
          ]
        },
        {
          "output_type": "stream",
          "name": "stdout",
          "text": [
            "\n",
            "\u001b[1mTrain Loss: 0.1219\u001b[0m    \u001b[1mTrain Acc: 0.9622\u001b[0m\n",
            "\u001b[1mVal Loss: 0.1066\u001b[0m      \u001b[1mVal Acc: 0.9693\u001b[0m\n",
            "\n",
            "Model Improved... Saving Model ... Done.\n",
            "\n",
            "========================================================================\n",
            "\n"
          ]
        },
        {
          "output_type": "stream",
          "name": "stderr",
          "text": [
            "Train:\t\u001b[1mEpoch: 3/20\u001b[0m\tLoss: 0.0856, Acc: 0.9739: 100%|██████████| 1688/1688 [00:27<00:00, 61.03it/s]\n",
            "Valid:\t\u001b[1mEpoch: 3/20\u001b[0m\tLoss: 0.0837, Acc: 0.9757: 100%|██████████| 188/188 [00:03<00:00, 62.32it/s]\n"
          ]
        },
        {
          "output_type": "stream",
          "name": "stdout",
          "text": [
            "\n",
            "\u001b[1mTrain Loss: 0.0856\u001b[0m    \u001b[1mTrain Acc: 0.9739\u001b[0m\n",
            "\u001b[1mVal Loss: 0.0837\u001b[0m      \u001b[1mVal Acc: 0.9757\u001b[0m\n",
            "\n",
            "Model Improved... Saving Model ... Done.\n",
            "\n",
            "========================================================================\n",
            "\n"
          ]
        },
        {
          "output_type": "stream",
          "name": "stderr",
          "text": [
            "Train:\t\u001b[1mEpoch: 4/20\u001b[0m\tLoss: 0.0683, Acc: 0.9788: 100%|██████████| 1688/1688 [00:27<00:00, 60.45it/s]\n",
            "Valid:\t\u001b[1mEpoch: 4/20\u001b[0m\tLoss: 0.0821, Acc: 0.9772: 100%|██████████| 188/188 [00:03<00:00, 57.38it/s]\n"
          ]
        },
        {
          "output_type": "stream",
          "name": "stdout",
          "text": [
            "\n",
            "\u001b[1mTrain Loss: 0.0683\u001b[0m    \u001b[1mTrain Acc: 0.9788\u001b[0m\n",
            "\u001b[1mVal Loss: 0.0821\u001b[0m      \u001b[1mVal Acc: 0.9772\u001b[0m\n",
            "\n",
            "Model Improved... Saving Model ... Done.\n",
            "\n",
            "========================================================================\n",
            "\n"
          ]
        },
        {
          "output_type": "stream",
          "name": "stderr",
          "text": [
            "Train:\t\u001b[1mEpoch: 5/20\u001b[0m\tLoss: 0.0573, Acc: 0.9820: 100%|██████████| 1688/1688 [00:28<00:00, 59.48it/s]\n",
            "Valid:\t\u001b[1mEpoch: 5/20\u001b[0m\tLoss: 0.0953, Acc: 0.9693: 100%|██████████| 188/188 [00:02<00:00, 73.34it/s]\n"
          ]
        },
        {
          "output_type": "stream",
          "name": "stdout",
          "text": [
            "\n",
            "\u001b[1mTrain Loss: 0.0573\u001b[0m    \u001b[1mTrain Acc: 0.9820\u001b[0m\n",
            "\u001b[1mVal Loss: 0.0953\u001b[0m      \u001b[1mVal Acc: 0.9693\u001b[0m\n",
            "========================================================================\n",
            "\n"
          ]
        },
        {
          "output_type": "stream",
          "name": "stderr",
          "text": [
            "Train:\t\u001b[1mEpoch: 6/20\u001b[0m\tLoss: 0.0489, Acc: 0.9848: 100%|██████████| 1688/1688 [00:27<00:00, 61.47it/s]\n",
            "Valid:\t\u001b[1mEpoch: 6/20\u001b[0m\tLoss: 0.0644, Acc: 0.9807: 100%|██████████| 188/188 [00:02<00:00, 73.60it/s]\n"
          ]
        },
        {
          "output_type": "stream",
          "name": "stdout",
          "text": [
            "\n",
            "\u001b[1mTrain Loss: 0.0489\u001b[0m    \u001b[1mTrain Acc: 0.9848\u001b[0m\n",
            "\u001b[1mVal Loss: 0.0644\u001b[0m      \u001b[1mVal Acc: 0.9807\u001b[0m\n",
            "\n",
            "Model Improved... Saving Model ... Done.\n",
            "\n",
            "========================================================================\n",
            "\n"
          ]
        },
        {
          "output_type": "stream",
          "name": "stderr",
          "text": [
            "Train:\t\u001b[1mEpoch: 7/20\u001b[0m\tLoss: 0.0437, Acc: 0.9865: 100%|██████████| 1688/1688 [00:27<00:00, 60.40it/s]\n",
            "Valid:\t\u001b[1mEpoch: 7/20\u001b[0m\tLoss: 0.0584, Acc: 0.9825: 100%|██████████| 188/188 [00:02<00:00, 71.63it/s]\n"
          ]
        },
        {
          "output_type": "stream",
          "name": "stdout",
          "text": [
            "\n",
            "\u001b[1mTrain Loss: 0.0437\u001b[0m    \u001b[1mTrain Acc: 0.9865\u001b[0m\n",
            "\u001b[1mVal Loss: 0.0584\u001b[0m      \u001b[1mVal Acc: 0.9825\u001b[0m\n",
            "\n",
            "Model Improved... Saving Model ... Done.\n",
            "\n",
            "========================================================================\n",
            "\n"
          ]
        },
        {
          "output_type": "stream",
          "name": "stderr",
          "text": [
            "Train:\t\u001b[1mEpoch: 8/20\u001b[0m\tLoss: 0.0391, Acc: 0.9877: 100%|██████████| 1688/1688 [00:29<00:00, 58.06it/s]\n",
            "Valid:\t\u001b[1mEpoch: 8/20\u001b[0m\tLoss: 0.0546, Acc: 0.9838: 100%|██████████| 188/188 [00:03<00:00, 61.98it/s]\n"
          ]
        },
        {
          "output_type": "stream",
          "name": "stdout",
          "text": [
            "\n",
            "\u001b[1mTrain Loss: 0.0391\u001b[0m    \u001b[1mTrain Acc: 0.9877\u001b[0m\n",
            "\u001b[1mVal Loss: 0.0546\u001b[0m      \u001b[1mVal Acc: 0.9838\u001b[0m\n",
            "\n",
            "Model Improved... Saving Model ... Done.\n",
            "\n",
            "========================================================================\n",
            "\n"
          ]
        },
        {
          "output_type": "stream",
          "name": "stderr",
          "text": [
            "Train:\t\u001b[1mEpoch: 9/20\u001b[0m\tLoss: 0.0346, Acc: 0.9892: 100%|██████████| 1688/1688 [00:27<00:00, 62.28it/s]\n",
            "Valid:\t\u001b[1mEpoch: 9/20\u001b[0m\tLoss: 0.0464, Acc: 0.9862: 100%|██████████| 188/188 [00:03<00:00, 50.83it/s]\n"
          ]
        },
        {
          "output_type": "stream",
          "name": "stdout",
          "text": [
            "\n",
            "\u001b[1mTrain Loss: 0.0346\u001b[0m    \u001b[1mTrain Acc: 0.9892\u001b[0m\n",
            "\u001b[1mVal Loss: 0.0464\u001b[0m      \u001b[1mVal Acc: 0.9862\u001b[0m\n",
            "\n",
            "Model Improved... Saving Model ... Done.\n",
            "\n",
            "========================================================================\n",
            "\n"
          ]
        },
        {
          "output_type": "stream",
          "name": "stderr",
          "text": [
            "Train:\t\u001b[1mEpoch: 10/20\u001b[0m\tLoss: 0.0313, Acc: 0.9901: 100%|██████████| 1688/1688 [00:27<00:00, 61.22it/s]\n",
            "Valid:\t\u001b[1mEpoch: 10/20\u001b[0m\tLoss: 0.0520, Acc: 0.9838: 100%|██████████| 188/188 [00:02<00:00, 68.36it/s]\n"
          ]
        },
        {
          "output_type": "stream",
          "name": "stdout",
          "text": [
            "\n",
            "\u001b[1mTrain Loss: 0.0313\u001b[0m    \u001b[1mTrain Acc: 0.9901\u001b[0m\n",
            "\u001b[1mVal Loss: 0.0520\u001b[0m      \u001b[1mVal Acc: 0.9838\u001b[0m\n",
            "========================================================================\n",
            "\n"
          ]
        },
        {
          "output_type": "stream",
          "name": "stderr",
          "text": [
            "Train:\t\u001b[1mEpoch: 11/20\u001b[0m\tLoss: 0.0287, Acc: 0.9910: 100%|██████████| 1688/1688 [00:27<00:00, 60.43it/s]\n",
            "Valid:\t\u001b[1mEpoch: 11/20\u001b[0m\tLoss: 0.0490, Acc: 0.9853: 100%|██████████| 188/188 [00:02<00:00, 69.58it/s]\n"
          ]
        },
        {
          "output_type": "stream",
          "name": "stdout",
          "text": [
            "\n",
            "\u001b[1mTrain Loss: 0.0287\u001b[0m    \u001b[1mTrain Acc: 0.9910\u001b[0m\n",
            "\u001b[1mVal Loss: 0.0490\u001b[0m      \u001b[1mVal Acc: 0.9853\u001b[0m\n",
            "========================================================================\n",
            "\n"
          ]
        },
        {
          "output_type": "stream",
          "name": "stderr",
          "text": [
            "Train:\t\u001b[1mEpoch: 12/20\u001b[0m\tLoss: 0.0254, Acc: 0.9922: 100%|██████████| 1688/1688 [00:27<00:00, 60.51it/s]\n",
            "Valid:\t\u001b[1mEpoch: 12/20\u001b[0m\tLoss: 0.0461, Acc: 0.9865: 100%|██████████| 188/188 [00:02<00:00, 72.74it/s]\n"
          ]
        },
        {
          "output_type": "stream",
          "name": "stdout",
          "text": [
            "\n",
            "\u001b[1mTrain Loss: 0.0254\u001b[0m    \u001b[1mTrain Acc: 0.9922\u001b[0m\n",
            "\u001b[1mVal Loss: 0.0461\u001b[0m      \u001b[1mVal Acc: 0.9865\u001b[0m\n",
            "\n",
            "Model Improved... Saving Model ... Done.\n",
            "\n",
            "========================================================================\n",
            "\n"
          ]
        },
        {
          "output_type": "stream",
          "name": "stderr",
          "text": [
            "Train:\t\u001b[1mEpoch: 13/20\u001b[0m\tLoss: 0.0233, Acc: 0.9925: 100%|██████████| 1688/1688 [00:27<00:00, 61.36it/s]\n",
            "Valid:\t\u001b[1mEpoch: 13/20\u001b[0m\tLoss: 0.0528, Acc: 0.9863: 100%|██████████| 188/188 [00:02<00:00, 71.35it/s]\n"
          ]
        },
        {
          "output_type": "stream",
          "name": "stdout",
          "text": [
            "\n",
            "\u001b[1mTrain Loss: 0.0233\u001b[0m    \u001b[1mTrain Acc: 0.9925\u001b[0m\n",
            "\u001b[1mVal Loss: 0.0528\u001b[0m      \u001b[1mVal Acc: 0.9863\u001b[0m\n",
            "========================================================================\n",
            "\n"
          ]
        },
        {
          "output_type": "stream",
          "name": "stderr",
          "text": [
            "Train:\t\u001b[1mEpoch: 14/20\u001b[0m\tLoss: 0.0217, Acc: 0.9931: 100%|██████████| 1688/1688 [00:27<00:00, 61.01it/s]\n",
            "Valid:\t\u001b[1mEpoch: 14/20\u001b[0m\tLoss: 0.0484, Acc: 0.9847: 100%|██████████| 188/188 [00:03<00:00, 51.10it/s]\n"
          ]
        },
        {
          "output_type": "stream",
          "name": "stdout",
          "text": [
            "\n",
            "\u001b[1mTrain Loss: 0.0217\u001b[0m    \u001b[1mTrain Acc: 0.9931\u001b[0m\n",
            "\u001b[1mVal Loss: 0.0484\u001b[0m      \u001b[1mVal Acc: 0.9847\u001b[0m\n",
            "========================================================================\n",
            "\n"
          ]
        },
        {
          "output_type": "stream",
          "name": "stderr",
          "text": [
            "Train:\t\u001b[1mEpoch: 15/20\u001b[0m\tLoss: 0.0191, Acc: 0.9942: 100%|██████████| 1688/1688 [00:27<00:00, 61.98it/s]\n",
            "Valid:\t\u001b[1mEpoch: 15/20\u001b[0m\tLoss: 0.0438, Acc: 0.9882: 100%|██████████| 188/188 [00:02<00:00, 64.00it/s]\n"
          ]
        },
        {
          "output_type": "stream",
          "name": "stdout",
          "text": [
            "\n",
            "\u001b[1mTrain Loss: 0.0191\u001b[0m    \u001b[1mTrain Acc: 0.9942\u001b[0m\n",
            "\u001b[1mVal Loss: 0.0438\u001b[0m      \u001b[1mVal Acc: 0.9882\u001b[0m\n",
            "\n",
            "Model Improved... Saving Model ... Done.\n",
            "\n",
            "========================================================================\n",
            "\n"
          ]
        },
        {
          "output_type": "stream",
          "name": "stderr",
          "text": [
            "Train:\t\u001b[1mEpoch: 16/20\u001b[0m\tLoss: 0.0174, Acc: 0.9948: 100%|██████████| 1688/1688 [00:28<00:00, 58.32it/s]\n",
            "Valid:\t\u001b[1mEpoch: 16/20\u001b[0m\tLoss: 0.0687, Acc: 0.9818: 100%|██████████| 188/188 [00:02<00:00, 72.03it/s]\n"
          ]
        },
        {
          "output_type": "stream",
          "name": "stdout",
          "text": [
            "\n",
            "\u001b[1mTrain Loss: 0.0174\u001b[0m    \u001b[1mTrain Acc: 0.9948\u001b[0m\n",
            "\u001b[1mVal Loss: 0.0687\u001b[0m      \u001b[1mVal Acc: 0.9818\u001b[0m\n",
            "========================================================================\n",
            "\n"
          ]
        },
        {
          "output_type": "stream",
          "name": "stderr",
          "text": [
            "Train:\t\u001b[1mEpoch: 17/20\u001b[0m\tLoss: 0.0158, Acc: 0.9947: 100%|██████████| 1688/1688 [00:27<00:00, 61.10it/s]\n",
            "Valid:\t\u001b[1mEpoch: 17/20\u001b[0m\tLoss: 0.0499, Acc: 0.9867: 100%|██████████| 188/188 [00:02<00:00, 70.91it/s]\n"
          ]
        },
        {
          "output_type": "stream",
          "name": "stdout",
          "text": [
            "\n",
            "\u001b[1mTrain Loss: 0.0158\u001b[0m    \u001b[1mTrain Acc: 0.9947\u001b[0m\n",
            "\u001b[1mVal Loss: 0.0499\u001b[0m      \u001b[1mVal Acc: 0.9867\u001b[0m\n",
            "========================================================================\n",
            "\n"
          ]
        },
        {
          "output_type": "stream",
          "name": "stderr",
          "text": [
            "Train:\t\u001b[1mEpoch: 18/20\u001b[0m\tLoss: 0.0148, Acc: 0.9952: 100%|██████████| 1688/1688 [00:27<00:00, 60.67it/s]\n",
            "Valid:\t\u001b[1mEpoch: 18/20\u001b[0m\tLoss: 0.0452, Acc: 0.9888: 100%|██████████| 188/188 [00:02<00:00, 71.85it/s]\n"
          ]
        },
        {
          "output_type": "stream",
          "name": "stdout",
          "text": [
            "\n",
            "\u001b[1mTrain Loss: 0.0148\u001b[0m    \u001b[1mTrain Acc: 0.9952\u001b[0m\n",
            "\u001b[1mVal Loss: 0.0452\u001b[0m      \u001b[1mVal Acc: 0.9888\u001b[0m\n",
            "========================================================================\n",
            "\n"
          ]
        },
        {
          "output_type": "stream",
          "name": "stderr",
          "text": [
            "Train:\t\u001b[1mEpoch: 19/20\u001b[0m\tLoss: 0.0137, Acc: 0.9959: 100%|██████████| 1688/1688 [00:28<00:00, 59.76it/s]\n",
            "Valid:\t\u001b[1mEpoch: 19/20\u001b[0m\tLoss: 0.0527, Acc: 0.9853: 100%|██████████| 188/188 [00:02<00:00, 71.71it/s]\n"
          ]
        },
        {
          "output_type": "stream",
          "name": "stdout",
          "text": [
            "\n",
            "\u001b[1mTrain Loss: 0.0137\u001b[0m    \u001b[1mTrain Acc: 0.9959\u001b[0m\n",
            "\u001b[1mVal Loss: 0.0527\u001b[0m      \u001b[1mVal Acc: 0.9853\u001b[0m\n",
            "========================================================================\n",
            "\n"
          ]
        },
        {
          "output_type": "stream",
          "name": "stderr",
          "text": [
            "Train:\t\u001b[1mEpoch: 20/20\u001b[0m\tLoss: 0.0118, Acc: 0.9965: 100%|██████████| 1688/1688 [00:28<00:00, 59.49it/s]\n",
            "Valid:\t\u001b[1mEpoch: 20/20\u001b[0m\tLoss: 0.0543, Acc: 0.9857: 100%|██████████| 188/188 [00:03<00:00, 54.17it/s]"
          ]
        },
        {
          "output_type": "stream",
          "name": "stdout",
          "text": [
            "\n",
            "\u001b[1mTrain Loss: 0.0118\u001b[0m    \u001b[1mTrain Acc: 0.9965\u001b[0m\n",
            "\u001b[1mVal Loss: 0.0543\u001b[0m      \u001b[1mVal Acc: 0.9857\u001b[0m\n",
            "========================================================================\n",
            "\n",
            "Total time: 628.42s, Best Loss: 0.044\n"
          ]
        },
        {
          "output_type": "stream",
          "name": "stderr",
          "text": [
            "\n"
          ]
        }
      ],
      "source": [
        "history = main(\n",
        "            model = model,\n",
        "            optimizer = optimizer,\n",
        "            ckpt_dir = CKPT_DIR,\n",
        "            data_config = dataset_config,\n",
        "            train_config = train_config\n",
        "            )\n"
      ]
    },
    {
      "cell_type": "markdown",
      "id": "710ae6fe",
      "metadata": {
        "id": "710ae6fe"
      },
      "source": [
        "## 6 Plot Training Results"
      ]
    },
    {
      "cell_type": "code",
      "execution_count": null,
      "id": "3ca71da1",
      "metadata": {
        "id": "3ca71da1"
      },
      "outputs": [],
      "source": [
        "def plot_results(\n",
        "    metrics,\n",
        "    title=None,\n",
        "    ylabel=None,\n",
        "    ylim=None,\n",
        "    metric_name=None,\n",
        "    color=None,\n",
        "    training_config=TrainingConfig()):\n",
        "\n",
        "\n",
        "    fig, ax = plt.subplots(figsize=(15, 4))\n",
        "\n",
        "    for idx, metric in enumerate(metrics):\n",
        "        ax.plot(metric, color=color[idx])\n",
        "\n",
        "    plt.xlabel(\"Epoch\")\n",
        "    plt.ylabel(ylabel)\n",
        "    plt.title(title)\n",
        "    plt.xlim([0, training_config.EPOCHS-1])\n",
        "    plt.ylim(ylim)\n",
        "    # Tailor x-axis tick marks\n",
        "    ax.xaxis.set_major_locator(MultipleLocator(5))\n",
        "    ax.xaxis.set_major_formatter(FormatStrFormatter('%d'))\n",
        "    ax.xaxis.set_minor_locator(MultipleLocator(1.1))\n",
        "    plt.grid(True)\n",
        "    plt.legend(metric_name)\n",
        "    plt.show(block=block_plot)\n",
        "    plt.close()"
      ]
    },
    {
      "cell_type": "markdown",
      "id": "a061f2b4",
      "metadata": {
        "id": "a061f2b4"
      },
      "source": [
        "Once our training is complete, we can plot the results such as the training and validation losses and the accuracies."
      ]
    },
    {
      "cell_type": "code",
      "execution_count": null,
      "id": "fed2e954",
      "metadata": {
        "colab": {
          "base_uri": "https://localhost:8080/",
          "height": 764
        },
        "id": "fed2e954",
        "outputId": "b1b96cdd-e3a5-4c88-95ed-41a4cec5dd1d"
      },
      "outputs": [
        {
          "output_type": "display_data",
          "data": {
            "text/plain": [
              "<Figure size 1500x400 with 1 Axes>"
            ],
            "image/png": "[encoded data removed]"
          },
          "metadata": {}
        },
        {
          "output_type": "display_data",
          "data": {
            "text/plain": [
              "<Figure size 1500x400 with 1 Axes>"
            ],
            "image/png": "[encoded data removed]"
          },
          "metadata": {}
        }
      ],
      "source": [
        "# Retrieve training results.\n",
        "train_loss = history[\"train_loss\"]\n",
        "train_acc  = history[\"train_acc\"]\n",
        "valid_loss = history[\"valid_loss\"]\n",
        "valid_acc  = history[\"valid_acc\"]\n",
        "\n",
        "\n",
        "train_config = history[\"train_config\"]\n",
        "\n",
        "plot_results([ train_acc, valid_acc ],\n",
        "            ylabel=\"Accuracy\",\n",
        "            ylim = [0.0, 1.1],\n",
        "            metric_name=[\"Training Accuracy\", \"Validation Accuracy\"],\n",
        "            color=[\"g\", \"b\"],\n",
        "            training_config=train_config)\n",
        "\n",
        "plot_results([ train_loss, valid_loss ],\n",
        "            ylabel=\"Loss\",\n",
        "            ylim = [0.0, 0.3],\n",
        "            metric_name=[\"Training Loss\", \"Validation Loss\"],\n",
        "            color=[\"g\", \"b\"],\n",
        "            training_config=train_config);"
      ]
    },
    {
      "cell_type": "markdown",
      "id": "15fc9ac2",
      "metadata": {
        "id": "15fc9ac2"
      },
      "source": [
        "## 7 Model Evaluation and Plotting Predictions\n",
        "\n",
        "We shall evaluate our model on the test data that we had created earlier and see how it performs across a sample of images."
      ]
    },
    {
      "cell_type": "markdown",
      "id": "9c0716b7",
      "metadata": {
        "id": "9c0716b7"
      },
      "source": [
        "The `evaluate_model` function computes the loss and accuracy on the test data."
      ]
    },
    {
      "cell_type": "code",
      "execution_count": null,
      "id": "512f80ce",
      "metadata": {
        "id": "512f80ce"
      },
      "outputs": [],
      "source": [
        "def evaluate_model(\n",
        "    model: nn.Module,\n",
        "    device: str,\n",
        "    test_loader: torch.utils.data.DataLoader,\n",
        ") -> None:\n",
        "    #\n",
        "    model.eval()\n",
        "\n",
        "    count_sample = 0\n",
        "    step_loss = 0\n",
        "    step_accuracy = 0\n",
        "\n",
        "    status = f\"Evaluate: \"\n",
        "\n",
        "    prog_bar = tqdm(test_loader, bar_format='{l_bar}{bar:10}{r_bar}{bar:-10b}')\n",
        "\n",
        "    prog_bar.set_description(status)\n",
        "\n",
        "    for idx, (data, target) in enumerate(prog_bar):\n",
        "\n",
        "        # Send data and target to appropriate device.\n",
        "        data, target = data.to(device), target.to(device)\n",
        "\n",
        "        # Get the model's predicted logits.\n",
        "        with torch.no_grad():\n",
        "            output = model(data)\n",
        "\n",
        "        # Compute the CE-Loss.\n",
        "        test_loss = F.cross_entropy(output, target).item()\n",
        "\n",
        "        # Convert model's logits to probability scores.\n",
        "        prob = F.softmax(output, dim=1)\n",
        "\n",
        "        # Get the class id for the maximum score.\n",
        "        pred_idx = prob.detach().argmax(dim=1)\n",
        "\n",
        "        # Batch validation loss.\n",
        "        step_loss+= test_loss * data.shape[0]\n",
        "\n",
        "        # Batch validation accuracy.\n",
        "        step_accuracy+= (pred_idx.cpu() == target.cpu()).sum()\n",
        "\n",
        "        # Count samples.\n",
        "        count_sample+= data.shape[0]\n",
        "\n",
        "        # Update progress bar description.\n",
        "        step_status = status+f\"  {bold}Loss: {float(step_loss/count_sample):.4f}{reset}, \"\n",
        "        step_status+= f\"{bold}Acc: {float(step_accuracy/count_sample):.4f}{reset}\"\n",
        "        prog_bar.set_description(step_status)\n",
        "\n",
        "    prog_bar.close()\n",
        "\n",
        "    print(\"\\n\")\n",
        "\n",
        "    return"
      ]
    },
    {
      "cell_type": "markdown",
      "id": "09117a91",
      "metadata": {
        "id": "09117a91"
      },
      "source": [
        "The `prediction_batch` function takes in the trained model and returns the class index having the highest logits. This is performed on the entire image batch."
      ]
    },
    {
      "cell_type": "code",
      "execution_count": null,
      "id": "957b8826",
      "metadata": {
        "id": "957b8826"
      },
      "outputs": [],
      "source": [
        "def prediction_batch(model: nn.Module, batch_inputs: torch.tensor):\n",
        "\n",
        "    model.eval()\n",
        "\n",
        "    with torch.no_grad():\n",
        "        batch_logits = model(batch_inputs)\n",
        "\n",
        "    batch_cls_ids = batch_logits.argmax(dim=1)\n",
        "\n",
        "    return batch_cls_ids.cpu()"
      ]
    },
    {
      "cell_type": "markdown",
      "id": "1ff80b33",
      "metadata": {
        "id": "1ff80b33"
      },
      "source": [
        "The `visualize_image_predictions` helper function is used to plot the predicted confidence scores and class indices along with target class labels. It takes in the following arguments:\n",
        "\n",
        "- `image_batch`: The image batch to be plotted.\n",
        "\n",
        "- `preds_batch`: The batched predictions. Each item in `preds_batch` comprises of the predicted **label**.\n",
        "\n",
        "- `total_samples`: The total number of samples that we want to plot."
      ]
    },
    {
      "cell_type": "code",
      "execution_count": null,
      "id": "cd21989b",
      "metadata": {
        "id": "cd21989b"
      },
      "outputs": [],
      "source": [
        "def visualize_image_predictions(\n",
        "    image_batch: torch.tensor,\n",
        "    preds_batch: torch.tensor,\n",
        "    target_batch: torch.tensor,\n",
        "    total_samples: int,\n",
        "   ):\n",
        "\n",
        "    num_cols = 5\n",
        "    num_rows = math.ceil(total_samples/num_cols)\n",
        "\n",
        "    font_format = {\n",
        "                    \"family\": \"sans-serif\",\n",
        "                    'size': 16,\n",
        "                  }\n",
        "\n",
        "    fig = plt.figure(figsize=(18, 12))\n",
        "\n",
        "    for i, (image, pred, target) in enumerate(zip(image_batch, preds_batch, target_batch)):\n",
        "\n",
        "        image_np = image.squeeze().numpy()\n",
        "\n",
        "        if pred==target:\n",
        "            title_color = \"g\"\n",
        "        else:\n",
        "            title_color = \"r\"\n",
        "\n",
        "        ax = plt.subplot(num_rows, num_cols, i+1)\n",
        "        title = f\"Tar: {int(target)}, Pred: {int(pred)}\"\n",
        "        title_obj = plt.title(title, fontdict=font_format)\n",
        "        plt.setp(title_obj, color=title_color)\n",
        "        plt.axis(\"off\")\n",
        "        plt.imshow(image_np, cmap=\"gray\")\n",
        "\n",
        "    plt.subplots_adjust(wspace=0.2, hspace=0.2)\n",
        "    plt.show()\n",
        "    return"
      ]
    },
    {
      "cell_type": "markdown",
      "id": "69e9a3bc",
      "metadata": {
        "id": "69e9a3bc"
      },
      "source": [
        "The `plot_predictions` helper function takes in the trained model and the dataloader to visualize the predictions on a few test samples. It takes in the following arguments:\n",
        "\n",
        "- `model`: The trained model.\n",
        "\n",
        "- `data_loader`: The dataloader for which we want to display the samples.\n",
        "\n",
        "- `device`: The device on which to perform inference."
      ]
    },
    {
      "cell_type": "code",
      "execution_count": null,
      "id": "3bcfc0a5",
      "metadata": {
        "scrolled": false,
        "id": "3bcfc0a5"
      },
      "outputs": [],
      "source": [
        "def plot_predictions(\n",
        "    model: nn.Module,\n",
        "    data_loader: torch.utils.data.DataLoader,\n",
        "    device: str = \"cpu\",\n",
        "    ):\n",
        "\n",
        "    model = model.to(device)\n",
        "\n",
        "    # Evaluate model performance on the test set.\n",
        "    evaluate_model(model, device, data_loader)\n",
        "\n",
        "    random.seed(42)\n",
        "    num_rows = 4\n",
        "    num_cols = 5\n",
        "    num_data = num_rows*num_cols\n",
        "    shuffled_indices = random.sample(range(len(data_loader.dataset)), num_data)\n",
        "\n",
        "    image_batch = []\n",
        "    targets_batch = []\n",
        "\n",
        "    for idx in shuffled_indices:\n",
        "        image_trans, target = data_loader.dataset[idx]\n",
        "        image_batch.append(image_trans)\n",
        "        targets_batch.append(target)\n",
        "\n",
        "    image_batch = torch.stack(image_batch).to(device)\n",
        "    targets_batch = torch.tensor(targets_batch)\n",
        "\n",
        "    preds_batch = prediction_batch(model, image_batch)\n",
        "\n",
        "    visualize_image_predictions(\n",
        "                    image_batch.cpu(),\n",
        "                    preds_batch,\n",
        "                    targets_batch,\n",
        "                    num_data,\n",
        "                  )\n",
        "\n",
        "    return"
      ]
    },
    {
      "cell_type": "markdown",
      "id": "9f7af416",
      "metadata": {
        "id": "9f7af416"
      },
      "source": [
        "Let's prepare our dataloader along with the required transformations."
      ]
    },
    {
      "cell_type": "code",
      "execution_count": null,
      "id": "04c8c412",
      "metadata": {
        "colab": {
          "base_uri": "https://localhost:8080/"
        },
        "id": "04c8c412",
        "outputId": "3dae3984-7d00-4821-f525-8ae4e3d87f56"
      },
      "outputs": [
        {
          "output_type": "stream",
          "name": "stderr",
          "text": [
            "Evaluate:   \u001b[1mLoss: 0.0381\u001b[0m, \u001b[1mAcc: 0.9876\u001b[0m: 100%|██████████| 313/313 [00:04<00:00, 71.63it/s]\n"
          ]
        },
        {
          "output_type": "stream",
          "name": "stdout",
          "text": [
            "\n",
            "\n"
          ]
        },
        {
          "output_type": "display_data",
          "data": {
            "text/plain": [
              "<Figure size 1800x1200 with 20 Axes>"
            ],
            "image/png": "[encoded data removed]"
          },
          "metadata": {}
        }
      ],
      "source": [
        "trained_model = history[\"model\"]\n",
        "dataset_config = history[\"data_config\"]\n",
        "\n",
        "_, test_set = get_data(\n",
        "                            img_size=(data_config.IMG_HEIGHT, data_config.IMG_WIDTH),\n",
        "                            root_dir=data_config.DATA_ROOT,\n",
        "                           )\n",
        "\n",
        "test_loader = DataLoader(test_set,\n",
        "                         batch_size=dataset_config.BATCH_SIZE,\n",
        "                         shuffle=False,\n",
        "                         num_workers=data_config.NUM_WORKERS)\n",
        "\n",
        "\n",
        "plot_predictions(model, test_loader, train_config.DEVICE)"
      ]
    },
    {
      "cell_type": "markdown",
      "id": "41e87b75",
      "metadata": {
        "id": "41e87b75"
      },
      "source": [
        "## 8 Conclusion"
      ]
    },
    {
      "cell_type": "markdown",
      "id": "c0502718",
      "metadata": {
        "id": "c0502718"
      },
      "source": [
        "In this notebook we learned how to implement a straightforward CNN model using PyTorch, which served as a gentle introduction to the basic building blocks used in modern-day CNN architectures. We also developed more robust and modular code by incorporating more error checking and encapsulating functionality within re-usable functions."
      ]
    }
  ],
  "metadata": {
    "kernelspec": {
      "display_name": "Python 3",
      "name": "python3"
    },
    "language_info": {
      "name": "python"
    },
    "colab": {
      "provenance": [],
      "gpuType": "T4"
    },
    "accelerator": "GPU",
    "gpuClass": "standard"
  },
  "nbformat": 4,
  "nbformat_minor": 5
}