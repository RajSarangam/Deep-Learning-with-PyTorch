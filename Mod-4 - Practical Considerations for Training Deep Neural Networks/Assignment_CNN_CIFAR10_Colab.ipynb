{
  "nbformat": 4,
  "nbformat_minor": 0,
  "metadata": {
    "accelerator": "GPU",
    "colab": {
      "provenance": [],
      "toc_visible": true,
      "gpuType": "T4"
    },
    "kernelspec": {
      "display_name": "Python 3",
      "name": "python3"
    },
    "language_info": {
      "codemirror_mode": {
        "name": "ipython",
        "version": 3
      },
      "file_extension": ".py",
      "mimetype": "text/x-python",
      "name": "python",
      "nbconvert_exporter": "python",
      "pygments_lexer": "ipython3",
      "version": "3.6.9"
    }
  },
  "cells": [
    {
      "cell_type": "markdown",
      "metadata": {
        "id": "uW9Bg8A-JGaY",
        "nbgrader": {
          "grade": false,
          "locked": true,
          "solution": false
        }
      },
      "source": [
        "# <font style=\"color:blue\">Assignment: Implement a CNN for Image Classification on CIFAR10 dataset</font>\n",
        "\n",
        "We have seen how to implement a CNN (LeNet5 and LeNet with the batch norm) in the last section. We used MNIST and Fashion MNIST dataset which are grayscale or single channel datasets. In this assignment, you will implement a CNN Model ( similar to LeNet ) for classifying objects in the `CIFAR10` dataset.\n",
        "\n",
        "The CIFAR10 dataset has the following properties\n",
        "1. It has `10` classes.  \n",
        "1. It has colored images, so it has `3-channels`.\n",
        "1. The image shape is `32 x 32`.\n",
        "\n",
        "Samples of CIFAR10- dataset ([source](https://pytorch.org/tutorials/beginner/blitz/cifar10_tutorial.html?highlight=cifar)):\n",
        "\n",
        "<img src=\"https://www.learnopencv.com/wp-content/uploads/2020/01/c3_w3_cirar10.png\" width=700>\n",
        "\n",
        "\n",
        "# <font color='blue'>Marking Scheme</font>\n",
        "\n",
        "### <font style=\"color:green\">Maximum Points: 30\n",
        "\n",
        "<div>\n",
        "    <table>\n",
        "        <tr><td><h3>Sr. no.</h3></td> <td><h3>Problem</h3></td> <td><h3>Points</h3></td> </tr>\n",
        "        <tr><td><h3>1</h3></td> <td><h3>Implement the CNN Model</h3></td> <td><h3>10</h3></td> </tr>\n",
        "        <tr><td><h3>2</h3></td> <td><h3>Find Mean and Std of Training Data</h3></td> <td><h3>5</h3></td> </tr>\n",
        "        <tr><td><h3>3</h3></td> <td><h3>Model Training & Accuracy</h3></td> <td><h3>15</h3></td> </tr>\n",
        "    </table>\n",
        "</div>\n",
        "\n",
        "\n",
        "# <font color='blue'>Problem Description</font>\n",
        "\n",
        "### <font color='blue'>1. Implement the CNN Model</font>\n",
        "Since the task is to classify objects in a dataset of color images, you need to implement a CNN with 10 output classes. **Also, your model must use `Conv2d`, `BatchNorm2d`, and `ReLU`.**\n",
        "\n",
        "**You need to define the model architecture in the function: `MyModel` ( Step 1 )**\n",
        "\n",
        "Hint: For color images you need to use an input shape that is different than the ones we have been using till now, so that it accepts 3 channel inputs.\n",
        "\n",
        "### <font color='blue'>2. Find Mean and Std of Training Data</font>\n",
        "\n",
        "It is a good practice to normalize the training data. To normalize the data, we need to compute mean and std. As the dataset has colored images, it has `3-channel` (RGB or BGR). We have to find mean and std per channel using training data.\n",
        "\n",
        "**You need to compute the mean and std for the dataset in the function: `get_mean_std_train_data` ( Step 3 )**\n",
        "\n",
        "### <font color='blue'>3. Model Training and Accuracy</font>\n",
        "\n",
        "Once you have defined the model, you can train it. To get better accuracy, you need to play around the training configuration **( Step 5 )** and even the model architecture. You can check the accuracy by running the training loop in `Step 11`.\n",
        "\n",
        "Here are a few hints on how you can improve the accuracy:\n",
        "- Train for longer duration\n",
        "- Try with different learning rate\n",
        "- Try to add more convolutional layers to the architecture\n",
        "- Try to add more nodes in the layers.\n",
        "\n",
        "You need to achieve **75% accuracy** ( See Step11 ) in order to get full marks for this part.\n",
        "\n",
        "**You do not need to implement anything for this, just changing the parameters as mentioned above and running the Notebook will give you the accuracy. ( Step 5 and Step 11 )**"
      ]
    },
    {
      "cell_type": "code",
      "metadata": {
        "id": "zJmbahxxJGah",
        "nbgrader": {
          "grade": false,
          "locked": true,
          "solution": false
        }
      },
      "source": [
        "required_training = True"
      ],
      "execution_count": 1,
      "outputs": []
    },
    {
      "cell_type": "code",
      "metadata": {
        "id": "T6H2Qu9FJGak",
        "nbgrader": {
          "grade": false,
          "locked": true,
          "solution": false
        }
      },
      "source": [
        "%matplotlib inline"
      ],
      "execution_count": 2,
      "outputs": []
    },
    {
      "cell_type": "code",
      "metadata": {
        "id": "_mzyIelRJGao",
        "nbgrader": {
          "grade": false,
          "locked": true,
          "solution": false
        }
      },
      "source": [
        "import matplotlib.pyplot as plt  # one of the best graphics library for python"
      ],
      "execution_count": 3,
      "outputs": []
    },
    {
      "cell_type": "code",
      "metadata": {
        "id": "GUx0pTPAJGar",
        "nbgrader": {
          "grade": false,
          "locked": true,
          "solution": false
        }
      },
      "source": [
        "import os\n",
        "import time\n",
        "\n",
        "from typing import Iterable\n",
        "from dataclasses import dataclass\n",
        "\n",
        "import numpy as np\n",
        "import torch\n",
        "import torch.nn as nn\n",
        "import torch.optim as optim\n",
        "import torch.nn.functional as F\n",
        "\n",
        "from torchvision import datasets, transforms\n",
        "import torchvision"
      ],
      "execution_count": 4,
      "outputs": []
    },
    {
      "cell_type": "markdown",
      "metadata": {
        "id": "nOLoiGVlJGav"
      },
      "source": [
        "# <font style=\"color:blue\">1. CNN Model Architecture [10 Points]</font>\n",
        "\n",
        "You have to write the model code here. You can take reference from LeNet code.\n",
        "\n",
        "If you do not get higher accuracy, here are a few hints:\n",
        "- Try to add more convolutional layers to the architecture\n",
        "- Try to add more nodes in the layers.\n"
      ]
    },
    {
      "cell_type": "code",
      "metadata": {
        "id": "ZJygcZSaJGav"
      },
      "source": [
        "class MyModel(nn.Module):\n",
        "    def __init__(self):\n",
        "        super().__init__()\n",
        "\n",
        "        ### BEGIN SOLUTION\n",
        "\n",
        "        ''' - First model\n",
        "        self.conv1 = nn.Conv2d(in_channels=3, out_channels=6, kernel_size=5)   # (3, 32, 32) -> (6, 28, 28)\n",
        "        self.bn1 = nn.BatchNorm2d(6)\n",
        "\n",
        "        self.conv2 = nn.Conv2d(in_channels=6, out_channels=16, kernel_size=5)  # (6, 14, 14) -> (16, 10, 10)\n",
        "        self.bn2 = nn.BatchNorm2d(16)\n",
        "\n",
        "        self.fc1 = nn.Linear(in_features=16*5*5, out_features=120)\n",
        "        self.fc2 = nn.Linear(in_features=120, out_features=84)\n",
        "        self.fc3 = nn.Linear(in_features=84, out_features=10)\n",
        "        '''\n",
        "\n",
        "        self.conv1 = nn.Conv2d(3, 32, kernel_size=3, padding=1)  # (32, 32, 32)\n",
        "        self.bn1 = nn.BatchNorm2d(32)\n",
        "\n",
        "        self.conv2 = nn.Conv2d(32, 64, kernel_size=3, padding=1) # (64, 32, 32)\n",
        "        self.bn2 = nn.BatchNorm2d(64)\n",
        "\n",
        "        self.conv3 = nn.Conv2d(64, 128, kernel_size=3, padding=1)\n",
        "        self.bn3 = nn.BatchNorm2d(128)\n",
        "\n",
        "        self.pool = nn.MaxPool2d(2, 2)  # downsampling (e.g., 32 → 16 → 8)\n",
        "        self.dropout = nn.Dropout(0.5)\n",
        "\n",
        "        self.fc1 = nn.Linear(128 * 4 * 4, 256)\n",
        "        self.fc2 = nn.Linear(256, 128)\n",
        "        self.fc3 = nn.Linear(128, 10)\n",
        "\n",
        "        ### END SOLUTION\n",
        "\n",
        "    def forward(self, x):\n",
        "        ### BEGIN SOLUTION\n",
        "\n",
        "        '''  First Model tried\n",
        "        x = F.relu(self.bn1(self.conv1(x)))         # -> (6, 28, 28)\n",
        "        x = F.max_pool2d(x, kernel_size=2, stride=2) # -> (6, 14, 14)\n",
        "\n",
        "        x = F.relu(self.bn2(self.conv2(x)))         # -> (16, 10, 10)\n",
        "        x = F.max_pool2d(x, kernel_size=2, stride=2) # -> (16, 5, 5)\n",
        "\n",
        "        x = x.view(-1, 16 * 5 * 5)                  # Flatten -> (batch, 400)\n",
        "        x = F.relu(self.fc1(x))\n",
        "        x = F.relu(self.fc2(x))\n",
        "        x = self.fc3(x)\n",
        "\n",
        "        Second Model tried\n",
        "        x = self.pool(F.relu(self.bn1(self.conv1(x))))  # (32, 16, 16)\n",
        "        x = self.pool(F.relu(self.bn2(self.conv2(x))))  # (64, 8, 8)\n",
        "        x = self.pool(nn.ReLU()(self.bn3(self.conv3(x))))\n",
        "\n",
        "        x = x.view(-1, 64 * 8 * 8)  # Flatten\n",
        "\n",
        "        x = self.dropout(F.relu(self.fc1(x)))\n",
        "        x = F.relu(self.fc2(x))\n",
        "        x = self.fc3(x)\n",
        "        '''\n",
        "\n",
        "        x = self.pool(nn.ReLU()(self.bn1(self.conv1(x))))\n",
        "        x = self.pool(nn.ReLU()(self.bn2(self.conv2(x))))\n",
        "        x = self.pool(nn.ReLU()(self.bn3(self.conv3(x))))\n",
        "        x = self.dropout(x)\n",
        "        x = x.view(-1, 128 * 4 * 4)\n",
        "        x = nn.ReLU()(self.fc1(x))\n",
        "        x = self.dropout(x)\n",
        "        x = nn.ReLU()(self.fc2(x))\n",
        "        x = self.fc3(x)\n",
        "\n",
        "        ### END SOLUTION\n",
        "\n",
        "        return x"
      ],
      "execution_count": 46,
      "outputs": []
    },
    {
      "cell_type": "markdown",
      "metadata": {
        "id": "hq46PTjsJGaz",
        "nbgrader": {
          "grade": false,
          "locked": true,
          "solution": false
        }
      },
      "source": [
        "# <font style=\"color:blue\">2. Display the Network</font>"
      ]
    },
    {
      "cell_type": "code",
      "metadata": {
        "id": "SDEEFkVoJGa0",
        "nbgrader": {
          "grade": false,
          "locked": true,
          "solution": false
        },
        "colab": {
          "base_uri": "https://localhost:8080/"
        },
        "outputId": "43e2dd2a-77c9-4de9-bc73-d6c36295c328"
      },
      "source": [
        "my_model = MyModel()\n",
        "print(my_model)"
      ],
      "execution_count": 33,
      "outputs": [
        {
          "output_type": "stream",
          "name": "stdout",
          "text": [
            "MyModel(\n",
            "  (conv1): Conv2d(3, 32, kernel_size=(3, 3), stride=(1, 1), padding=(1, 1))\n",
            "  (bn1): BatchNorm2d(32, eps=1e-05, momentum=0.1, affine=True, track_running_stats=True)\n",
            "  (conv2): Conv2d(32, 64, kernel_size=(3, 3), stride=(1, 1), padding=(1, 1))\n",
            "  (bn2): BatchNorm2d(64, eps=1e-05, momentum=0.1, affine=True, track_running_stats=True)\n",
            "  (pool): MaxPool2d(kernel_size=2, stride=2, padding=0, dilation=1, ceil_mode=False)\n",
            "  (dropout): Dropout(p=0.5, inplace=False)\n",
            "  (fc1): Linear(in_features=4096, out_features=256, bias=True)\n",
            "  (fc2): Linear(in_features=256, out_features=128, bias=True)\n",
            "  (fc3): Linear(in_features=128, out_features=10, bias=True)\n",
            ")\n"
          ]
        }
      ]
    },
    {
      "cell_type": "markdown",
      "metadata": {
        "id": "2qR75AnbJGa3",
        "lines_to_next_cell": 2,
        "nbgrader": {
          "grade": false,
          "locked": true,
          "solution": false
        }
      },
      "source": [
        "# <font style=\"color:blue\">3. Find Mean and STD of CIFAR10 Data [5 Points]</font>\n",
        "\n",
        "Function **`get_mean_std_train_data`** should `return` `mean` and `std` of training data. You can refer to the code used in the previous section for finding the mean and std of the training data.\n",
        "\n"
      ]
    },
    {
      "cell_type": "code",
      "metadata": {
        "id": "CW7B7G5cJGa4",
        "nbgrader": {
          "grade": false,
          "locked": false,
          "solution": false
        }
      },
      "source": [
        "def get_mean_std_train_data(data_root):\n",
        "\n",
        "    train_transform = transforms.Compose([transforms.ToTensor()])\n",
        "    train_set = datasets.CIFAR10(root=data_root, train=True, download=True, transform=train_transform)\n",
        "\n",
        "    # return mean (numpy.ndarray) and std (numpy.ndarray)\n",
        "    mean = np.array([0.5, 0.5, 0.5])\n",
        "    std = np.array([0.5, 0.5, 0.5])\n",
        "\n",
        "    ### BEGIN SOLUTION\n",
        "\n",
        "    '''\n",
        "    loader = torch.utils.data.DataLoader(train_set, batch_size=50000, shuffle=False, num_workers=2)\n",
        "    data = next(iter(loader))[0]  # Get the images only (shape: [50000, 3, 32, 32])\n",
        "    data = data.view(3, -1)       # Flatten to [3, 50000*32*32]\n",
        "    mean = data.mean(dim=1).numpy()\n",
        "    std = data.std(dim=1).numpy()\n",
        "    '''\n",
        "\n",
        "    loader = torch.utils.data.DataLoader(train_set, batch_size=len(train_set), shuffle=False, num_workers=2)\n",
        "    data = next(iter(loader))[0]  # shape: [N, 3, 32, 32]\n",
        "\n",
        "    data = data.view(data.size(1), -1)  # shape: [3, N * 32 * 32]\n",
        "    mean = data.mean(dim=1).numpy()\n",
        "    std = data.std(dim=1).numpy()\n",
        "\n",
        "    ### END SOLUTION\n",
        "\n",
        "    return mean, std\n",
        "\n"
      ],
      "execution_count": 34,
      "outputs": []
    },
    {
      "cell_type": "code",
      "metadata": {
        "id": "zsnJTJNXJGa7",
        "nbgrader": {
          "grade": false,
          "locked": true,
          "solution": false
        }
      },
      "source": [
        "def get_data(batch_size, data_root, num_workers=1):\n",
        "\n",
        "\n",
        "    try:\n",
        "        mean, std = get_mean_std_train_data(data_root)\n",
        "        assert len(mean) == len(std) == 3\n",
        "    except:\n",
        "        mean = np.array([0.5, 0.5, 0.5])\n",
        "        std = np.array([0.5, 0.5, 0.5])\n",
        "\n",
        "\n",
        "    train_test_transforms = transforms.Compose([\n",
        "        # this re-scale image tensor values between 0-1. image_tensor /= 255\n",
        "        transforms.ToTensor(),\n",
        "        # subtract mean and divide by variance.\n",
        "        transforms.Normalize(mean, std)\n",
        "    ])\n",
        "\n",
        "    # train dataloader\n",
        "    train_loader = torch.utils.data.DataLoader(\n",
        "        datasets.CIFAR10(root=data_root, train=True, download=False, transform=train_test_transforms),\n",
        "        batch_size=batch_size,\n",
        "        shuffle=True,\n",
        "        num_workers=num_workers\n",
        "    )\n",
        "\n",
        "    # test dataloader\n",
        "    test_loader = torch.utils.data.DataLoader(\n",
        "        datasets.CIFAR10(root=data_root, train=False, download=False, transform=train_test_transforms),\n",
        "        batch_size=batch_size,\n",
        "        shuffle=False,\n",
        "        num_workers=num_workers\n",
        "    )\n",
        "    return train_loader, test_loader"
      ],
      "execution_count": 35,
      "outputs": []
    },
    {
      "cell_type": "markdown",
      "metadata": {
        "id": "03-ZuoXfJGa-",
        "nbgrader": {
          "grade": false,
          "locked": true,
          "solution": false
        }
      },
      "source": [
        "# <font style=\"color:blue\">4. System Configuration</font>\n"
      ]
    },
    {
      "cell_type": "code",
      "metadata": {
        "id": "u4LsyamkJGa_",
        "nbgrader": {
          "grade": false,
          "locked": true,
          "solution": false
        }
      },
      "source": [
        "@dataclass\n",
        "class SystemConfiguration:\n",
        "    '''\n",
        "    Describes the common system setting needed for reproducible training\n",
        "    '''\n",
        "    seed: int = 42  # seed number to set the state of all random number generators\n",
        "    cudnn_benchmark_enabled: bool = True  # enable CuDNN benchmark for the sake of performance\n",
        "    cudnn_deterministic: bool = True  # make cudnn deterministic (reproducible training)"
      ],
      "execution_count": 36,
      "outputs": []
    },
    {
      "cell_type": "markdown",
      "metadata": {
        "id": "HIIgMKe8JGbC",
        "nbgrader": {
          "grade": false,
          "locked": true,
          "solution": false
        }
      },
      "source": [
        "# <font style=\"color:blue\">5. Training Configuration [15 Points]</font>\n",
        "All training parameters are defined here. So,\n",
        "This is where you can improve your accuracy, apart from improving the architecture.\n",
        "\n",
        "Here are a few hints on how you can improve the accuracy:\n",
        "- Train for longer duration\n",
        "- Try with different learning rate\n",
        "\n",
        "**You need to achieve 75% accuracy in order to get full marks for this part.**\n",
        "\n",
        "**You will see the effect of these changes when you run Step 11**"
      ]
    },
    {
      "cell_type": "code",
      "metadata": {
        "id": "8qESDffIJGbD",
        "nbgrader": {
          "grade": false,
          "locked": false,
          "solution": false
        }
      },
      "source": [
        "@dataclass\n",
        "class TrainingConfiguration:\n",
        "    '''\n",
        "    Describes configuration of the training process\n",
        "    '''\n",
        "    batch_size: int = 16  # amount of data to pass through the network at each forward-backward iteration\n",
        "    epochs_count: int = 2  # number of times the whole dataset will be passed through the network\n",
        "    learning_rate: float = 0.1  # determines the speed of network's weights update\n",
        "\n",
        "    log_interval: int = 100  # how many batches to wait between logging training status\n",
        "    test_interval: int = 1  # how many epochs to wait before another test. Set to 1 to get val loss at each epoch\n",
        "    data_root: str = \"./\"  # folder to save data\n",
        "    num_workers: int = 10  # number of concurrent processes using to prepare data\n",
        "    device: str = 'cuda'  # device to use for training.\n",
        "    # update changed parameters in blow coding block.\n",
        "    # Please do not change \"data_root\"\n",
        "\n",
        "    ### BEGIN SOLUTION\n",
        "\n",
        "    batch_size: int = 128         # Good balance between speed and stability\n",
        "    epochs_count: int = 50         # Train MUCH longer (minimum 40–50 for CIFAR10)\n",
        "    learning_rate: float = 0.01   # Lower to 0.001 for smoother optimization\n",
        "    num_workers: int = 4           # Safer for system load\n",
        "\n",
        "    ### END SOLUTION\n"
      ],
      "execution_count": 44,
      "outputs": []
    },
    {
      "cell_type": "markdown",
      "metadata": {
        "id": "ZAQE-iZMJGbG",
        "nbgrader": {
          "grade": false,
          "locked": true,
          "solution": false
        }
      },
      "source": [
        "# <font style=\"color:blue\">6. System Setup</font>\n"
      ]
    },
    {
      "cell_type": "code",
      "metadata": {
        "id": "wdl_GzCqJGbG",
        "nbgrader": {
          "grade": false,
          "locked": true,
          "solution": false
        }
      },
      "source": [
        "def setup_system(system_config: SystemConfiguration) -> None:\n",
        "    torch.manual_seed(system_config.seed)\n",
        "    if torch.cuda.is_available():\n",
        "        torch.backends.cudnn_benchmark_enabled = system_config.cudnn_benchmark_enabled\n",
        "        torch.backends.cudnn.deterministic = system_config.cudnn_deterministic"
      ],
      "execution_count": 38,
      "outputs": []
    },
    {
      "cell_type": "markdown",
      "metadata": {
        "id": "R3OIPd3IJGbJ",
        "nbgrader": {
          "grade": false,
          "locked": true,
          "solution": false
        }
      },
      "source": [
        "# <font style=\"color:blue\">7. Training</font>\n",
        "We are familiar with the training pipeline used in PyTorch. The following steps are performed in the code below:\n",
        "\n",
        "1. Send the data to the required device ( CPU/GPU )\n",
        "1. Make a forward pass using the forward method.\n",
        "1. Find the loss using the Cross_Entropy function.\n",
        "1. Find the gradients using the backward function.\n",
        "1. Update the weights using the optimizer.\n",
        "1. Find the accuracy of the model\n",
        "\n",
        "Repeat the above for the specified number of epochs."
      ]
    },
    {
      "cell_type": "code",
      "metadata": {
        "id": "6EEHzywxJGbK",
        "nbgrader": {
          "grade": false,
          "locked": true,
          "solution": false
        }
      },
      "source": [
        "def train(\n",
        "    train_config: TrainingConfiguration, model: nn.Module, optimizer: torch.optim.Optimizer,\n",
        "    train_loader: torch.utils.data.DataLoader, epoch_idx: int\n",
        ") -> None:\n",
        "\n",
        "    # change model in training mood\n",
        "    model.train()\n",
        "\n",
        "    # to get batch loss\n",
        "    batch_loss = np.array([])\n",
        "\n",
        "    # to get batch accuracy\n",
        "    batch_acc = np.array([])\n",
        "\n",
        "    for batch_idx, (data, target) in enumerate(train_loader):\n",
        "\n",
        "        # clone target\n",
        "        indx_target = target.clone()\n",
        "        # send data to device (its is medatory if GPU has to be used)\n",
        "        data = data.to(train_config.device)\n",
        "        # send target to device\n",
        "        target = target.to(train_config.device)\n",
        "\n",
        "        # reset parameters gradient to zero\n",
        "        optimizer.zero_grad()\n",
        "\n",
        "        # forward pass to the model\n",
        "        output = model(data)\n",
        "\n",
        "        # cross entropy loss\n",
        "        loss = F.cross_entropy(output, target)\n",
        "\n",
        "        # find gradients w.r.t training parameters\n",
        "        loss.backward()\n",
        "        # Update parameters using gardients\n",
        "        optimizer.step()\n",
        "\n",
        "        batch_loss = np.append(batch_loss, [loss.item()])\n",
        "\n",
        "        # Score to probability using softmax\n",
        "        prob = F.softmax(output, dim=1)\n",
        "\n",
        "        # get the index of the max probability\n",
        "        pred = prob.data.max(dim=1)[1]\n",
        "\n",
        "        # correct prediction\n",
        "        correct = pred.cpu().eq(indx_target).sum()\n",
        "\n",
        "        # accuracy\n",
        "        acc = float(correct) / float(len(data))\n",
        "\n",
        "        batch_acc = np.append(batch_acc, [acc])\n",
        "\n",
        "        if batch_idx % train_config.log_interval == 0 and batch_idx > 0:\n",
        "            print(\n",
        "                'Train Epoch: {} [{}/{}] Loss: {:.6f} Acc: {:.4f}'.format(\n",
        "                    epoch_idx, batch_idx * len(data), len(train_loader.dataset), loss.item(), acc\n",
        "                )\n",
        "            )\n",
        "\n",
        "    epoch_loss = batch_loss.mean()\n",
        "    epoch_acc = batch_acc.mean()\n",
        "    return epoch_loss, epoch_acc"
      ],
      "execution_count": 39,
      "outputs": []
    },
    {
      "cell_type": "markdown",
      "metadata": {
        "id": "HQD5e4MvJGbN",
        "nbgrader": {
          "grade": false,
          "locked": true,
          "solution": false
        }
      },
      "source": [
        "# <font style=\"color:blue\">8. Validation</font>\n",
        "\n",
        "After every few epochs **`validation`** will be called with the `trained model` and `test_loader` to get validation loss and accuracy."
      ]
    },
    {
      "cell_type": "code",
      "metadata": {
        "id": "xfYIabotJGbO",
        "nbgrader": {
          "grade": false,
          "locked": true,
          "solution": false
        }
      },
      "source": [
        "def validate(\n",
        "    train_config: TrainingConfiguration,\n",
        "    model: nn.Module,\n",
        "    test_loader: torch.utils.data.DataLoader,\n",
        ") -> float:\n",
        "    model.eval()\n",
        "    test_loss = 0\n",
        "    count_corect_predictions = 0\n",
        "    for data, target in test_loader:\n",
        "        indx_target = target.clone()\n",
        "        data = data.to(train_config.device)\n",
        "\n",
        "        target = target.to(train_config.device)\n",
        "\n",
        "        output = model(data)\n",
        "        # add loss for each mini batch\n",
        "        test_loss += F.cross_entropy(output, target).item()\n",
        "\n",
        "        # Score to probability using softmax\n",
        "        prob = F.softmax(output, dim=1)\n",
        "\n",
        "        # get the index of the max probability\n",
        "        pred = prob.data.max(dim=1)[1]\n",
        "\n",
        "        # add correct prediction count\n",
        "        count_corect_predictions += pred.cpu().eq(indx_target).sum()\n",
        "\n",
        "    # average over number of mini-batches\n",
        "    test_loss = test_loss / len(test_loader)\n",
        "\n",
        "    # average over number of dataset\n",
        "    accuracy = 100. * count_corect_predictions / len(test_loader.dataset)\n",
        "\n",
        "    print(\n",
        "        '\\nTest set: Average loss: {:.4f}, Accuracy: {}/{} ({:.0f}%)\\n'.format(\n",
        "            test_loss, count_corect_predictions, len(test_loader.dataset), accuracy\n",
        "        )\n",
        "    )\n",
        "    return test_loss, accuracy/100.0"
      ],
      "execution_count": 40,
      "outputs": []
    },
    {
      "cell_type": "markdown",
      "metadata": {
        "id": "kllVaLMYJGbV",
        "nbgrader": {
          "grade": false,
          "locked": true,
          "solution": false
        }
      },
      "source": [
        "# <font style=\"color:blue\">9. Saving the Model</font>"
      ]
    },
    {
      "cell_type": "code",
      "metadata": {
        "id": "nX_5qui4JGbW",
        "nbgrader": {
          "grade": false,
          "locked": true,
          "solution": false
        }
      },
      "source": [
        "def save_model(model, device, model_dir='models', model_file_name='cifar10_cnn_model.pt'):\n",
        "\n",
        "\n",
        "    if not os.path.exists(model_dir):\n",
        "        os.makedirs(model_dir)\n",
        "\n",
        "    model_path = os.path.join(model_dir, model_file_name)\n",
        "\n",
        "    # make sure you transfer the model to cpu.\n",
        "    if device == 'cuda':\n",
        "        model.to('cpu')\n",
        "\n",
        "    # save the state_dict\n",
        "    torch.save(model.state_dict(), model_path)\n",
        "\n",
        "    if device == 'cuda':\n",
        "        model.to('cuda')\n",
        "\n",
        "    return"
      ],
      "execution_count": 41,
      "outputs": []
    },
    {
      "cell_type": "markdown",
      "metadata": {
        "id": "eb-Z4XiHJGbZ",
        "nbgrader": {
          "grade": false,
          "locked": true,
          "solution": false
        }
      },
      "source": [
        "# <font style=\"color:blue\">10. Main</font>\n",
        "\n",
        "In this section of code, we use the configuration parameters defined above and start the training. Here are the important actions being taken in the code below:\n",
        "\n",
        "1. Set up system parameters like CPU/GPU, number of threads etc\n",
        "1. Load the data using dataloaders\n",
        "1. Create an instance of the LeNet model\n",
        "1. Specify optimizer to use.\n",
        "1. Set up variables to track loss and accuracy and start training.\n",
        "1. If loss decreases, saving the model"
      ]
    },
    {
      "cell_type": "code",
      "metadata": {
        "id": "iOKDxgpfJGbZ",
        "nbgrader": {
          "grade": false,
          "locked": true,
          "solution": false
        }
      },
      "source": [
        "def main(system_configuration=SystemConfiguration(), training_configuration=TrainingConfiguration()):\n",
        "\n",
        "    # system configuration\n",
        "    setup_system(system_configuration)\n",
        "\n",
        "    # batch size\n",
        "    batch_size_to_set = training_configuration.batch_size\n",
        "    # num_workers\n",
        "    num_workers_to_set = training_configuration.num_workers\n",
        "    # epochs\n",
        "    epoch_num_to_set = training_configuration.epochs_count\n",
        "\n",
        "    # if GPU is available use training config,\n",
        "    # else lowers batch_size, num_workers and epochs count\n",
        "    if torch.cuda.is_available():\n",
        "        device = \"cuda\"\n",
        "    else:\n",
        "        device = \"cpu\"\n",
        "        num_workers_to_set = 2\n",
        "\n",
        "    # data loader\n",
        "    train_loader, test_loader = get_data(\n",
        "        batch_size=training_configuration.batch_size,\n",
        "        data_root=training_configuration.data_root,\n",
        "        num_workers=num_workers_to_set\n",
        "    )\n",
        "\n",
        "    # Update training configuration\n",
        "    training_configuration = TrainingConfiguration(\n",
        "        device=device,\n",
        "        num_workers=num_workers_to_set\n",
        "    )\n",
        "\n",
        "    # initiate model\n",
        "    model = MyModel()\n",
        "\n",
        "    print(\"Training on {}\".format(training_configuration.device))\n",
        "\n",
        "    # send model to device (GPU/CPU)\n",
        "    model.to(training_configuration.device)\n",
        "\n",
        "    # optimizer\n",
        "    optimizer = optim.SGD(\n",
        "        model.parameters(),\n",
        "        lr=training_configuration.learning_rate\n",
        "    )\n",
        "\n",
        "    best_loss = torch.tensor(np.inf)\n",
        "    best_accuracy = torch.tensor(0)\n",
        "\n",
        "    # epoch train/test loss\n",
        "    epoch_train_loss = np.array([])\n",
        "    epoch_test_loss = np.array([])\n",
        "\n",
        "    # epch train/test accuracy\n",
        "    epoch_train_acc = np.array([])\n",
        "    epoch_test_acc = np.array([])\n",
        "\n",
        "    # trainig time measurement\n",
        "    t_begin = time.time()\n",
        "    for epoch in range(training_configuration.epochs_count):\n",
        "\n",
        "        train_loss, train_acc = train(training_configuration, model, optimizer, train_loader, epoch)\n",
        "\n",
        "        epoch_train_loss = np.append(epoch_train_loss, [train_loss])\n",
        "\n",
        "        epoch_train_acc = np.append(epoch_train_acc, [train_acc])\n",
        "\n",
        "        elapsed_time = time.time() - t_begin\n",
        "        speed_epoch = elapsed_time / (epoch + 1)\n",
        "        speed_batch = speed_epoch / len(train_loader)\n",
        "        eta = speed_epoch * training_configuration.epochs_count - elapsed_time\n",
        "\n",
        "        print(\n",
        "            \"Elapsed {:.2f}s, {:.2f} s/epoch, {:.2f} s/batch, ets {:.2f}s\".format(\n",
        "                elapsed_time, speed_epoch, speed_batch, eta\n",
        "            )\n",
        "        )\n",
        "\n",
        "        if epoch % training_configuration.test_interval == 0:\n",
        "            current_loss, current_accuracy = validate(training_configuration, model, test_loader)\n",
        "\n",
        "            epoch_test_loss = np.append(epoch_test_loss, [current_loss])\n",
        "\n",
        "            epoch_test_acc = np.append(epoch_test_acc, [current_accuracy])\n",
        "\n",
        "            if current_loss < best_loss:\n",
        "                best_loss = current_loss\n",
        "\n",
        "            if current_accuracy > best_accuracy:\n",
        "                best_accuracy = current_accuracy\n",
        "                print('Accuracy improved, saving the model.\\n')\n",
        "                save_model(model, device)\n",
        "\n",
        "\n",
        "    print(\"Total time: {:.2f}, Best Loss: {:.3f}, Best Accuracy: {:.3f}\".format(time.time() - t_begin, best_loss,\n",
        "                                                                                best_accuracy))\n",
        "\n",
        "    return model, epoch_train_loss, epoch_train_acc, epoch_test_loss, epoch_test_acc"
      ],
      "execution_count": 42,
      "outputs": []
    },
    {
      "cell_type": "markdown",
      "metadata": {
        "id": "zll4UE--JGbd"
      },
      "source": [
        "# <font style=\"color:blue\">Step 11: Start Training</font>\n",
        "This is where you start the training. You may see that the training does not converge or does not give a good accuracy. You need to change\n",
        "- In Step 1: the network architecture and add a few more layers or more nodes to the already existing layers\n",
        "- In Step 5: training parameters such as learning rate or batch_size or epochs so that the network converges or run the network for longer so that it gets more time to fit the data\n",
        "\n",
        "**You need to make sure that the accuracy at the end is at least 75%.**"
      ]
    },
    {
      "cell_type": "code",
      "metadata": {
        "id": "X13F4qQCJGbe",
        "nbgrader": {
          "grade": false,
          "locked": true,
          "solution": false
        },
        "scrolled": true,
        "colab": {
          "base_uri": "https://localhost:8080/"
        },
        "outputId": "2925eb1a-e563-4085-b24f-3d4452e96533"
      },
      "source": [
        "if required_training:\n",
        "    model, epoch_train_loss, epoch_train_acc, epoch_test_loss, epoch_test_acc = main()"
      ],
      "execution_count": 47,
      "outputs": [
        {
          "output_type": "stream",
          "name": "stdout",
          "text": [
            "Training on cuda\n",
            "Train Epoch: 0 [6400/50000] Loss: 2.119906 Acc: 0.2812\n",
            "Train Epoch: 0 [12800/50000] Loss: 1.952645 Acc: 0.2656\n",
            "Train Epoch: 0 [19200/50000] Loss: 1.738140 Acc: 0.3750\n",
            "Train Epoch: 0 [25600/50000] Loss: 1.978102 Acc: 0.2344\n",
            "Train Epoch: 0 [32000/50000] Loss: 1.652270 Acc: 0.4219\n",
            "Train Epoch: 0 [38400/50000] Loss: 1.561754 Acc: 0.4219\n",
            "Train Epoch: 0 [44800/50000] Loss: 1.786123 Acc: 0.3125\n",
            "Elapsed 14.62s, 14.62 s/epoch, 0.02 s/batch, ets 716.37s\n",
            "\n",
            "Test set: Average loss: 1.4802, Accuracy: 4572/10000 (46%)\n",
            "\n",
            "Accuracy improved, saving the model.\n",
            "\n",
            "Train Epoch: 1 [6400/50000] Loss: 1.288481 Acc: 0.5312\n",
            "Train Epoch: 1 [12800/50000] Loss: 1.478587 Acc: 0.3438\n",
            "Train Epoch: 1 [19200/50000] Loss: 1.623029 Acc: 0.3906\n",
            "Train Epoch: 1 [25600/50000] Loss: 1.449861 Acc: 0.5469\n",
            "Train Epoch: 1 [32000/50000] Loss: 1.310691 Acc: 0.5469\n",
            "Train Epoch: 1 [38400/50000] Loss: 1.272170 Acc: 0.5469\n",
            "Train Epoch: 1 [44800/50000] Loss: 1.384930 Acc: 0.4844\n",
            "Elapsed 32.65s, 16.32 s/epoch, 0.02 s/batch, ets 783.55s\n",
            "\n",
            "Test set: Average loss: 1.2898, Accuracy: 5218/10000 (52%)\n",
            "\n",
            "Accuracy improved, saving the model.\n",
            "\n",
            "Train Epoch: 2 [6400/50000] Loss: 1.378980 Acc: 0.5156\n",
            "Train Epoch: 2 [12800/50000] Loss: 1.365394 Acc: 0.4531\n",
            "Train Epoch: 2 [19200/50000] Loss: 1.310347 Acc: 0.5312\n",
            "Train Epoch: 2 [25600/50000] Loss: 1.185483 Acc: 0.5625\n",
            "Train Epoch: 2 [32000/50000] Loss: 1.155957 Acc: 0.6406\n",
            "Train Epoch: 2 [38400/50000] Loss: 1.153024 Acc: 0.5938\n",
            "Train Epoch: 2 [44800/50000] Loss: 1.063938 Acc: 0.5938\n",
            "Elapsed 50.30s, 16.77 s/epoch, 0.02 s/batch, ets 788.05s\n",
            "\n",
            "Test set: Average loss: 1.1248, Accuracy: 5902/10000 (59%)\n",
            "\n",
            "Accuracy improved, saving the model.\n",
            "\n",
            "Train Epoch: 3 [6400/50000] Loss: 1.516516 Acc: 0.4688\n",
            "Train Epoch: 3 [12800/50000] Loss: 1.098396 Acc: 0.5625\n",
            "Train Epoch: 3 [19200/50000] Loss: 1.089887 Acc: 0.5156\n",
            "Train Epoch: 3 [25600/50000] Loss: 1.169475 Acc: 0.4844\n",
            "Train Epoch: 3 [32000/50000] Loss: 1.108717 Acc: 0.5312\n",
            "Train Epoch: 3 [38400/50000] Loss: 1.274464 Acc: 0.5000\n",
            "Train Epoch: 3 [44800/50000] Loss: 1.380388 Acc: 0.5156\n",
            "Elapsed 67.44s, 16.86 s/epoch, 0.02 s/batch, ets 775.53s\n",
            "\n",
            "Test set: Average loss: 1.1269, Accuracy: 5982/10000 (60%)\n",
            "\n",
            "Accuracy improved, saving the model.\n",
            "\n",
            "Train Epoch: 4 [6400/50000] Loss: 0.872415 Acc: 0.6875\n",
            "Train Epoch: 4 [12800/50000] Loss: 1.175483 Acc: 0.5938\n",
            "Train Epoch: 4 [19200/50000] Loss: 1.077678 Acc: 0.6406\n",
            "Train Epoch: 4 [25600/50000] Loss: 1.091079 Acc: 0.6094\n",
            "Train Epoch: 4 [32000/50000] Loss: 1.300533 Acc: 0.5469\n",
            "Train Epoch: 4 [38400/50000] Loss: 1.131996 Acc: 0.5781\n",
            "Train Epoch: 4 [44800/50000] Loss: 0.874122 Acc: 0.7344\n",
            "Elapsed 86.27s, 17.25 s/epoch, 0.02 s/batch, ets 776.40s\n",
            "\n",
            "Test set: Average loss: 1.1032, Accuracy: 6070/10000 (61%)\n",
            "\n",
            "Accuracy improved, saving the model.\n",
            "\n",
            "Train Epoch: 5 [6400/50000] Loss: 1.149368 Acc: 0.5469\n",
            "Train Epoch: 5 [12800/50000] Loss: 0.973511 Acc: 0.5938\n",
            "Train Epoch: 5 [19200/50000] Loss: 0.914106 Acc: 0.6719\n",
            "Train Epoch: 5 [25600/50000] Loss: 1.367189 Acc: 0.4375\n",
            "Train Epoch: 5 [32000/50000] Loss: 1.187521 Acc: 0.5625\n",
            "Train Epoch: 5 [38400/50000] Loss: 0.706678 Acc: 0.7188\n",
            "Train Epoch: 5 [44800/50000] Loss: 1.079674 Acc: 0.5938\n",
            "Elapsed 103.49s, 17.25 s/epoch, 0.02 s/batch, ets 758.90s\n",
            "\n",
            "Test set: Average loss: 1.0821, Accuracy: 6217/10000 (62%)\n",
            "\n",
            "Accuracy improved, saving the model.\n",
            "\n",
            "Train Epoch: 6 [6400/50000] Loss: 0.927391 Acc: 0.6562\n",
            "Train Epoch: 6 [12800/50000] Loss: 0.948490 Acc: 0.6250\n",
            "Train Epoch: 6 [19200/50000] Loss: 0.844272 Acc: 0.6562\n",
            "Train Epoch: 6 [25600/50000] Loss: 1.178626 Acc: 0.5781\n",
            "Train Epoch: 6 [32000/50000] Loss: 1.270744 Acc: 0.5781\n",
            "Train Epoch: 6 [38400/50000] Loss: 0.871640 Acc: 0.7188\n",
            "Train Epoch: 6 [44800/50000] Loss: 1.002557 Acc: 0.6719\n",
            "Elapsed 121.32s, 17.33 s/epoch, 0.02 s/batch, ets 745.25s\n",
            "\n",
            "Test set: Average loss: 0.9503, Accuracy: 6513/10000 (65%)\n",
            "\n",
            "Accuracy improved, saving the model.\n",
            "\n",
            "Train Epoch: 7 [6400/50000] Loss: 0.767779 Acc: 0.7500\n",
            "Train Epoch: 7 [12800/50000] Loss: 0.832425 Acc: 0.7188\n",
            "Train Epoch: 7 [19200/50000] Loss: 0.935963 Acc: 0.7188\n",
            "Train Epoch: 7 [25600/50000] Loss: 0.908663 Acc: 0.6875\n",
            "Train Epoch: 7 [32000/50000] Loss: 0.765999 Acc: 0.7656\n",
            "Train Epoch: 7 [38400/50000] Loss: 0.852435 Acc: 0.6875\n",
            "Train Epoch: 7 [44800/50000] Loss: 0.770781 Acc: 0.7344\n",
            "Elapsed 138.83s, 17.35 s/epoch, 0.02 s/batch, ets 728.85s\n",
            "\n",
            "Test set: Average loss: 1.0020, Accuracy: 6527/10000 (65%)\n",
            "\n",
            "Accuracy improved, saving the model.\n",
            "\n",
            "Train Epoch: 8 [6400/50000] Loss: 0.911888 Acc: 0.6250\n",
            "Train Epoch: 8 [12800/50000] Loss: 1.082320 Acc: 0.6562\n",
            "Train Epoch: 8 [19200/50000] Loss: 0.846500 Acc: 0.6875\n",
            "Train Epoch: 8 [25600/50000] Loss: 1.030319 Acc: 0.6250\n",
            "Train Epoch: 8 [32000/50000] Loss: 0.886476 Acc: 0.6562\n",
            "Train Epoch: 8 [38400/50000] Loss: 0.657543 Acc: 0.7344\n",
            "Train Epoch: 8 [44800/50000] Loss: 0.952202 Acc: 0.6875\n",
            "Elapsed 155.88s, 17.32 s/epoch, 0.02 s/batch, ets 710.12s\n",
            "\n",
            "Test set: Average loss: 0.8551, Accuracy: 7004/10000 (70%)\n",
            "\n",
            "Accuracy improved, saving the model.\n",
            "\n",
            "Train Epoch: 9 [6400/50000] Loss: 0.936977 Acc: 0.5781\n",
            "Train Epoch: 9 [12800/50000] Loss: 0.951611 Acc: 0.6562\n",
            "Train Epoch: 9 [19200/50000] Loss: 0.877277 Acc: 0.6875\n",
            "Train Epoch: 9 [25600/50000] Loss: 0.895664 Acc: 0.7188\n",
            "Train Epoch: 9 [32000/50000] Loss: 0.952182 Acc: 0.6250\n",
            "Train Epoch: 9 [38400/50000] Loss: 0.784162 Acc: 0.6406\n",
            "Train Epoch: 9 [44800/50000] Loss: 0.835400 Acc: 0.6094\n",
            "Elapsed 174.10s, 17.41 s/epoch, 0.02 s/batch, ets 696.42s\n",
            "\n",
            "Test set: Average loss: 0.8675, Accuracy: 6906/10000 (69%)\n",
            "\n",
            "Train Epoch: 10 [6400/50000] Loss: 0.608274 Acc: 0.7812\n",
            "Train Epoch: 10 [12800/50000] Loss: 0.836851 Acc: 0.6406\n",
            "Train Epoch: 10 [19200/50000] Loss: 1.054212 Acc: 0.6406\n",
            "Train Epoch: 10 [25600/50000] Loss: 0.871058 Acc: 0.6406\n",
            "Train Epoch: 10 [32000/50000] Loss: 1.052352 Acc: 0.5781\n",
            "Train Epoch: 10 [38400/50000] Loss: 0.940559 Acc: 0.6719\n",
            "Train Epoch: 10 [44800/50000] Loss: 0.743851 Acc: 0.7188\n",
            "Elapsed 191.17s, 17.38 s/epoch, 0.02 s/batch, ets 677.79s\n",
            "\n",
            "Test set: Average loss: 0.9636, Accuracy: 6564/10000 (66%)\n",
            "\n",
            "Train Epoch: 11 [6400/50000] Loss: 0.816989 Acc: 0.7344\n",
            "Train Epoch: 11 [12800/50000] Loss: 0.903502 Acc: 0.6562\n",
            "Train Epoch: 11 [19200/50000] Loss: 0.771870 Acc: 0.7969\n",
            "Train Epoch: 11 [25600/50000] Loss: 0.935867 Acc: 0.6875\n",
            "Train Epoch: 11 [32000/50000] Loss: 0.837571 Acc: 0.6562\n",
            "Train Epoch: 11 [38400/50000] Loss: 0.738342 Acc: 0.7188\n",
            "Train Epoch: 11 [44800/50000] Loss: 1.127486 Acc: 0.5625\n",
            "Elapsed 208.42s, 17.37 s/epoch, 0.02 s/batch, ets 659.99s\n",
            "\n",
            "Test set: Average loss: 0.8027, Accuracy: 7191/10000 (72%)\n",
            "\n",
            "Accuracy improved, saving the model.\n",
            "\n",
            "Train Epoch: 12 [6400/50000] Loss: 0.743883 Acc: 0.7812\n",
            "Train Epoch: 12 [12800/50000] Loss: 1.032347 Acc: 0.5938\n",
            "Train Epoch: 12 [19200/50000] Loss: 0.621652 Acc: 0.8281\n",
            "Train Epoch: 12 [25600/50000] Loss: 0.682993 Acc: 0.7656\n",
            "Train Epoch: 12 [32000/50000] Loss: 0.633988 Acc: 0.8281\n",
            "Train Epoch: 12 [38400/50000] Loss: 0.956978 Acc: 0.6406\n",
            "Train Epoch: 12 [44800/50000] Loss: 0.922580 Acc: 0.6406\n",
            "Elapsed 226.59s, 17.43 s/epoch, 0.02 s/batch, ets 644.91s\n",
            "\n",
            "Test set: Average loss: 0.8377, Accuracy: 7073/10000 (71%)\n",
            "\n",
            "Train Epoch: 13 [6400/50000] Loss: 0.899972 Acc: 0.6875\n",
            "Train Epoch: 13 [12800/50000] Loss: 0.863821 Acc: 0.6719\n",
            "Train Epoch: 13 [19200/50000] Loss: 0.882331 Acc: 0.6719\n",
            "Train Epoch: 13 [25600/50000] Loss: 0.870763 Acc: 0.6875\n",
            "Train Epoch: 13 [32000/50000] Loss: 0.761263 Acc: 0.7812\n",
            "Train Epoch: 13 [38400/50000] Loss: 0.933631 Acc: 0.6094\n",
            "Train Epoch: 13 [44800/50000] Loss: 0.797132 Acc: 0.6875\n",
            "Elapsed 243.68s, 17.41 s/epoch, 0.02 s/batch, ets 626.60s\n",
            "\n",
            "Test set: Average loss: 0.7474, Accuracy: 7409/10000 (74%)\n",
            "\n",
            "Accuracy improved, saving the model.\n",
            "\n",
            "Train Epoch: 14 [6400/50000] Loss: 1.003132 Acc: 0.6250\n",
            "Train Epoch: 14 [12800/50000] Loss: 0.472859 Acc: 0.8594\n",
            "Train Epoch: 14 [19200/50000] Loss: 0.713493 Acc: 0.6875\n",
            "Train Epoch: 14 [25600/50000] Loss: 0.980084 Acc: 0.6875\n",
            "Train Epoch: 14 [32000/50000] Loss: 0.576674 Acc: 0.7969\n",
            "Train Epoch: 14 [38400/50000] Loss: 0.731623 Acc: 0.8125\n",
            "Train Epoch: 14 [44800/50000] Loss: 0.800632 Acc: 0.7344\n",
            "Elapsed 260.83s, 17.39 s/epoch, 0.02 s/batch, ets 608.60s\n",
            "\n",
            "Test set: Average loss: 0.7221, Accuracy: 7485/10000 (75%)\n",
            "\n",
            "Accuracy improved, saving the model.\n",
            "\n",
            "Train Epoch: 15 [6400/50000] Loss: 0.660558 Acc: 0.8438\n",
            "Train Epoch: 15 [12800/50000] Loss: 0.812307 Acc: 0.7031\n",
            "Train Epoch: 15 [19200/50000] Loss: 0.938291 Acc: 0.7500\n",
            "Train Epoch: 15 [25600/50000] Loss: 0.648159 Acc: 0.7656\n",
            "Train Epoch: 15 [32000/50000] Loss: 0.630643 Acc: 0.7969\n",
            "Train Epoch: 15 [38400/50000] Loss: 0.987696 Acc: 0.6250\n",
            "Train Epoch: 15 [44800/50000] Loss: 0.679982 Acc: 0.7500\n",
            "Elapsed 278.61s, 17.41 s/epoch, 0.02 s/batch, ets 592.04s\n",
            "\n",
            "Test set: Average loss: 0.7423, Accuracy: 7408/10000 (74%)\n",
            "\n",
            "Train Epoch: 16 [6400/50000] Loss: 0.868296 Acc: 0.7500\n",
            "Train Epoch: 16 [12800/50000] Loss: 0.867887 Acc: 0.6250\n",
            "Train Epoch: 16 [19200/50000] Loss: 0.814716 Acc: 0.6719\n",
            "Train Epoch: 16 [25600/50000] Loss: 0.753714 Acc: 0.7969\n",
            "Train Epoch: 16 [32000/50000] Loss: 0.773195 Acc: 0.7188\n",
            "Train Epoch: 16 [38400/50000] Loss: 0.624786 Acc: 0.8281\n",
            "Train Epoch: 16 [44800/50000] Loss: 0.808429 Acc: 0.6719\n",
            "Elapsed 295.70s, 17.39 s/epoch, 0.02 s/batch, ets 574.00s\n",
            "\n",
            "Test set: Average loss: 0.8230, Accuracy: 7070/10000 (71%)\n",
            "\n",
            "Train Epoch: 17 [6400/50000] Loss: 0.708628 Acc: 0.7344\n",
            "Train Epoch: 17 [12800/50000] Loss: 0.665584 Acc: 0.7500\n",
            "Train Epoch: 17 [19200/50000] Loss: 0.864749 Acc: 0.6562\n",
            "Train Epoch: 17 [25600/50000] Loss: 0.770548 Acc: 0.7812\n",
            "Train Epoch: 17 [32000/50000] Loss: 0.876133 Acc: 0.6094\n",
            "Train Epoch: 17 [38400/50000] Loss: 0.467434 Acc: 0.8281\n",
            "Train Epoch: 17 [44800/50000] Loss: 0.598178 Acc: 0.7969\n",
            "Elapsed 312.85s, 17.38 s/epoch, 0.02 s/batch, ets 556.17s\n",
            "\n",
            "Test set: Average loss: 0.7612, Accuracy: 7334/10000 (73%)\n",
            "\n",
            "Train Epoch: 18 [6400/50000] Loss: 0.676707 Acc: 0.7344\n",
            "Train Epoch: 18 [12800/50000] Loss: 0.646980 Acc: 0.7969\n",
            "Train Epoch: 18 [19200/50000] Loss: 0.640474 Acc: 0.7812\n",
            "Train Epoch: 18 [25600/50000] Loss: 0.918576 Acc: 0.6875\n",
            "Train Epoch: 18 [32000/50000] Loss: 0.730912 Acc: 0.7656\n",
            "Train Epoch: 18 [38400/50000] Loss: 0.694650 Acc: 0.7344\n",
            "Train Epoch: 18 [44800/50000] Loss: 0.862915 Acc: 0.6875\n",
            "Elapsed 330.83s, 17.41 s/epoch, 0.02 s/batch, ets 539.77s\n",
            "\n",
            "Test set: Average loss: 0.8099, Accuracy: 7119/10000 (71%)\n",
            "\n",
            "Train Epoch: 19 [6400/50000] Loss: 0.744616 Acc: 0.6875\n",
            "Train Epoch: 19 [12800/50000] Loss: 0.529165 Acc: 0.8438\n",
            "Train Epoch: 19 [19200/50000] Loss: 0.747390 Acc: 0.7812\n",
            "Train Epoch: 19 [25600/50000] Loss: 0.706113 Acc: 0.7188\n",
            "Train Epoch: 19 [32000/50000] Loss: 0.582518 Acc: 0.7500\n",
            "Train Epoch: 19 [38400/50000] Loss: 0.781982 Acc: 0.7031\n",
            "Train Epoch: 19 [44800/50000] Loss: 0.716965 Acc: 0.7188\n",
            "Elapsed 347.95s, 17.40 s/epoch, 0.02 s/batch, ets 521.92s\n",
            "\n",
            "Test set: Average loss: 0.7620, Accuracy: 7358/10000 (74%)\n",
            "\n",
            "Train Epoch: 20 [6400/50000] Loss: 0.944267 Acc: 0.6719\n",
            "Train Epoch: 20 [12800/50000] Loss: 0.614326 Acc: 0.7656\n",
            "Train Epoch: 20 [19200/50000] Loss: 0.682021 Acc: 0.7031\n",
            "Train Epoch: 20 [25600/50000] Loss: 0.831908 Acc: 0.6875\n",
            "Train Epoch: 20 [32000/50000] Loss: 0.894708 Acc: 0.6719\n",
            "Train Epoch: 20 [38400/50000] Loss: 0.742764 Acc: 0.7188\n",
            "Train Epoch: 20 [44800/50000] Loss: 0.456716 Acc: 0.8750\n",
            "Elapsed 365.44s, 17.40 s/epoch, 0.02 s/batch, ets 504.65s\n",
            "\n",
            "Test set: Average loss: 0.6940, Accuracy: 7567/10000 (76%)\n",
            "\n",
            "Accuracy improved, saving the model.\n",
            "\n",
            "Train Epoch: 21 [6400/50000] Loss: 0.564751 Acc: 0.7969\n",
            "Train Epoch: 21 [12800/50000] Loss: 0.877166 Acc: 0.7188\n",
            "Train Epoch: 21 [19200/50000] Loss: 0.688785 Acc: 0.7656\n",
            "Train Epoch: 21 [25600/50000] Loss: 0.880335 Acc: 0.6250\n",
            "Train Epoch: 21 [32000/50000] Loss: 0.656151 Acc: 0.7656\n",
            "Train Epoch: 21 [38400/50000] Loss: 0.701854 Acc: 0.7656\n",
            "Train Epoch: 21 [44800/50000] Loss: 0.618134 Acc: 0.7812\n",
            "Elapsed 383.19s, 17.42 s/epoch, 0.02 s/batch, ets 487.70s\n",
            "\n",
            "Test set: Average loss: 0.6693, Accuracy: 7684/10000 (77%)\n",
            "\n",
            "Accuracy improved, saving the model.\n",
            "\n",
            "Train Epoch: 22 [6400/50000] Loss: 0.637358 Acc: 0.8125\n",
            "Train Epoch: 22 [12800/50000] Loss: 0.737696 Acc: 0.7031\n",
            "Train Epoch: 22 [19200/50000] Loss: 0.593541 Acc: 0.7812\n",
            "Train Epoch: 22 [25600/50000] Loss: 0.494942 Acc: 0.8281\n",
            "Train Epoch: 22 [32000/50000] Loss: 0.397773 Acc: 0.7969\n",
            "Train Epoch: 22 [38400/50000] Loss: 0.738816 Acc: 0.7656\n",
            "Train Epoch: 22 [44800/50000] Loss: 0.572758 Acc: 0.8125\n",
            "Elapsed 400.08s, 17.39 s/epoch, 0.02 s/batch, ets 469.66s\n",
            "\n",
            "Test set: Average loss: 0.6660, Accuracy: 7670/10000 (77%)\n",
            "\n",
            "Train Epoch: 23 [6400/50000] Loss: 0.854281 Acc: 0.6406\n",
            "Train Epoch: 23 [12800/50000] Loss: 0.495777 Acc: 0.8594\n",
            "Train Epoch: 23 [19200/50000] Loss: 0.702337 Acc: 0.7500\n",
            "Train Epoch: 23 [25600/50000] Loss: 0.775079 Acc: 0.7031\n",
            "Train Epoch: 23 [32000/50000] Loss: 0.895355 Acc: 0.6719\n",
            "Train Epoch: 23 [38400/50000] Loss: 0.484779 Acc: 0.8125\n",
            "Train Epoch: 23 [44800/50000] Loss: 0.786397 Acc: 0.7656\n",
            "Elapsed 417.58s, 17.40 s/epoch, 0.02 s/batch, ets 452.37s\n",
            "\n",
            "Test set: Average loss: 0.6653, Accuracy: 7680/10000 (77%)\n",
            "\n",
            "Train Epoch: 24 [6400/50000] Loss: 0.370832 Acc: 0.8906\n",
            "Train Epoch: 24 [12800/50000] Loss: 0.778540 Acc: 0.7656\n",
            "Train Epoch: 24 [19200/50000] Loss: 0.871948 Acc: 0.6875\n",
            "Train Epoch: 24 [25600/50000] Loss: 0.708038 Acc: 0.7344\n",
            "Train Epoch: 24 [32000/50000] Loss: 0.811387 Acc: 0.7031\n",
            "Train Epoch: 24 [38400/50000] Loss: 0.649569 Acc: 0.7656\n",
            "Train Epoch: 24 [44800/50000] Loss: 0.706162 Acc: 0.7812\n",
            "Elapsed 434.59s, 17.38 s/epoch, 0.02 s/batch, ets 434.59s\n",
            "\n",
            "Test set: Average loss: 0.7416, Accuracy: 7479/10000 (75%)\n",
            "\n",
            "Train Epoch: 25 [6400/50000] Loss: 0.807968 Acc: 0.7344\n",
            "Train Epoch: 25 [12800/50000] Loss: 0.685950 Acc: 0.7031\n",
            "Train Epoch: 25 [19200/50000] Loss: 0.684403 Acc: 0.7344\n",
            "Train Epoch: 25 [25600/50000] Loss: 0.836469 Acc: 0.7500\n",
            "Train Epoch: 25 [32000/50000] Loss: 0.731971 Acc: 0.7188\n",
            "Train Epoch: 25 [38400/50000] Loss: 0.832244 Acc: 0.6719\n",
            "Train Epoch: 25 [44800/50000] Loss: 0.675373 Acc: 0.7812\n",
            "Elapsed 451.48s, 17.36 s/epoch, 0.02 s/batch, ets 416.75s\n",
            "\n",
            "Test set: Average loss: 0.8334, Accuracy: 7180/10000 (72%)\n",
            "\n",
            "Train Epoch: 26 [6400/50000] Loss: 0.688315 Acc: 0.7500\n",
            "Train Epoch: 26 [12800/50000] Loss: 0.548900 Acc: 0.8125\n",
            "Train Epoch: 26 [19200/50000] Loss: 0.616096 Acc: 0.7812\n",
            "Train Epoch: 26 [25600/50000] Loss: 0.794204 Acc: 0.7656\n",
            "Train Epoch: 26 [32000/50000] Loss: 0.961066 Acc: 0.6094\n",
            "Train Epoch: 26 [38400/50000] Loss: 0.464820 Acc: 0.8281\n",
            "Train Epoch: 26 [44800/50000] Loss: 0.753351 Acc: 0.7344\n",
            "Elapsed 468.91s, 17.37 s/epoch, 0.02 s/batch, ets 399.44s\n",
            "\n",
            "Test set: Average loss: 0.7157, Accuracy: 7555/10000 (76%)\n",
            "\n",
            "Train Epoch: 27 [6400/50000] Loss: 0.690121 Acc: 0.7188\n",
            "Train Epoch: 27 [12800/50000] Loss: 0.433095 Acc: 0.8750\n",
            "Train Epoch: 27 [19200/50000] Loss: 0.547190 Acc: 0.8125\n",
            "Train Epoch: 27 [25600/50000] Loss: 0.704753 Acc: 0.7031\n",
            "Train Epoch: 27 [32000/50000] Loss: 0.594416 Acc: 0.7812\n",
            "Train Epoch: 27 [38400/50000] Loss: 0.591526 Acc: 0.7656\n",
            "Train Epoch: 27 [44800/50000] Loss: 0.624681 Acc: 0.7656\n",
            "Elapsed 486.12s, 17.36 s/epoch, 0.02 s/batch, ets 381.95s\n",
            "\n",
            "Test set: Average loss: 0.6375, Accuracy: 7772/10000 (78%)\n",
            "\n",
            "Accuracy improved, saving the model.\n",
            "\n",
            "Train Epoch: 28 [6400/50000] Loss: 0.471611 Acc: 0.8281\n",
            "Train Epoch: 28 [12800/50000] Loss: 0.486994 Acc: 0.8125\n",
            "Train Epoch: 28 [19200/50000] Loss: 0.470627 Acc: 0.8281\n",
            "Train Epoch: 28 [25600/50000] Loss: 0.775471 Acc: 0.7344\n",
            "Train Epoch: 28 [32000/50000] Loss: 0.595939 Acc: 0.8281\n",
            "Train Epoch: 28 [38400/50000] Loss: 0.729002 Acc: 0.8125\n",
            "Train Epoch: 28 [44800/50000] Loss: 0.688595 Acc: 0.7344\n",
            "Elapsed 502.94s, 17.34 s/epoch, 0.02 s/batch, ets 364.20s\n",
            "\n",
            "Test set: Average loss: 0.6292, Accuracy: 7822/10000 (78%)\n",
            "\n",
            "Accuracy improved, saving the model.\n",
            "\n",
            "Train Epoch: 29 [6400/50000] Loss: 0.848575 Acc: 0.7344\n",
            "Train Epoch: 29 [12800/50000] Loss: 0.445310 Acc: 0.8750\n",
            "Train Epoch: 29 [19200/50000] Loss: 0.690971 Acc: 0.7344\n",
            "Train Epoch: 29 [25600/50000] Loss: 0.734854 Acc: 0.7500\n",
            "Train Epoch: 29 [32000/50000] Loss: 0.538526 Acc: 0.7812\n",
            "Train Epoch: 29 [38400/50000] Loss: 0.877886 Acc: 0.6875\n",
            "Train Epoch: 29 [44800/50000] Loss: 0.510384 Acc: 0.8281\n",
            "Elapsed 520.30s, 17.34 s/epoch, 0.02 s/batch, ets 346.87s\n",
            "\n",
            "Test set: Average loss: 0.7068, Accuracy: 7604/10000 (76%)\n",
            "\n",
            "Train Epoch: 30 [6400/50000] Loss: 0.603873 Acc: 0.7812\n",
            "Train Epoch: 30 [12800/50000] Loss: 0.591032 Acc: 0.7969\n",
            "Train Epoch: 30 [19200/50000] Loss: 0.574368 Acc: 0.8281\n",
            "Train Epoch: 30 [25600/50000] Loss: 0.532910 Acc: 0.8438\n",
            "Train Epoch: 30 [32000/50000] Loss: 0.696120 Acc: 0.7500\n",
            "Train Epoch: 30 [38400/50000] Loss: 0.588570 Acc: 0.7656\n",
            "Train Epoch: 30 [44800/50000] Loss: 0.698704 Acc: 0.7031\n",
            "Elapsed 537.50s, 17.34 s/epoch, 0.02 s/batch, ets 329.43s\n",
            "\n",
            "Test set: Average loss: 0.6351, Accuracy: 7822/10000 (78%)\n",
            "\n",
            "Train Epoch: 31 [6400/50000] Loss: 0.743223 Acc: 0.7344\n",
            "Train Epoch: 31 [12800/50000] Loss: 0.889613 Acc: 0.6875\n",
            "Train Epoch: 31 [19200/50000] Loss: 0.718275 Acc: 0.7344\n",
            "Train Epoch: 31 [25600/50000] Loss: 0.575159 Acc: 0.7969\n",
            "Train Epoch: 31 [32000/50000] Loss: 0.635458 Acc: 0.7500\n",
            "Train Epoch: 31 [38400/50000] Loss: 0.633026 Acc: 0.7344\n",
            "Train Epoch: 31 [44800/50000] Loss: 0.300528 Acc: 0.9219\n",
            "Elapsed 554.18s, 17.32 s/epoch, 0.02 s/batch, ets 311.73s\n",
            "\n",
            "Test set: Average loss: 0.7797, Accuracy: 7284/10000 (73%)\n",
            "\n",
            "Train Epoch: 32 [6400/50000] Loss: 0.582242 Acc: 0.8281\n",
            "Train Epoch: 32 [12800/50000] Loss: 0.424329 Acc: 0.8750\n",
            "Train Epoch: 32 [19200/50000] Loss: 0.566727 Acc: 0.7656\n",
            "Train Epoch: 32 [25600/50000] Loss: 0.654237 Acc: 0.8125\n",
            "Train Epoch: 32 [32000/50000] Loss: 0.848772 Acc: 0.6562\n",
            "Train Epoch: 32 [38400/50000] Loss: 0.575005 Acc: 0.7500\n",
            "Train Epoch: 32 [44800/50000] Loss: 0.564499 Acc: 0.8594\n",
            "Elapsed 571.77s, 17.33 s/epoch, 0.02 s/batch, ets 294.55s\n",
            "\n",
            "Test set: Average loss: 0.7786, Accuracy: 7269/10000 (73%)\n",
            "\n",
            "Train Epoch: 33 [6400/50000] Loss: 0.454270 Acc: 0.8125\n",
            "Train Epoch: 33 [12800/50000] Loss: 0.659761 Acc: 0.7812\n",
            "Train Epoch: 33 [19200/50000] Loss: 0.618983 Acc: 0.7812\n",
            "Train Epoch: 33 [25600/50000] Loss: 0.665619 Acc: 0.7812\n",
            "Train Epoch: 33 [32000/50000] Loss: 0.754932 Acc: 0.6406\n",
            "Train Epoch: 33 [38400/50000] Loss: 0.589401 Acc: 0.7969\n",
            "Train Epoch: 33 [44800/50000] Loss: 0.602580 Acc: 0.8281\n",
            "Elapsed 588.85s, 17.32 s/epoch, 0.02 s/batch, ets 277.11s\n",
            "\n",
            "Test set: Average loss: 0.6871, Accuracy: 7592/10000 (76%)\n",
            "\n",
            "Train Epoch: 34 [6400/50000] Loss: 0.395512 Acc: 0.8906\n",
            "Train Epoch: 34 [12800/50000] Loss: 0.510843 Acc: 0.8750\n",
            "Train Epoch: 34 [19200/50000] Loss: 0.486102 Acc: 0.8594\n",
            "Train Epoch: 34 [25600/50000] Loss: 0.583368 Acc: 0.7500\n",
            "Train Epoch: 34 [32000/50000] Loss: 0.718856 Acc: 0.7969\n",
            "Train Epoch: 34 [38400/50000] Loss: 0.537957 Acc: 0.7812\n",
            "Train Epoch: 34 [44800/50000] Loss: 0.424058 Acc: 0.8750\n",
            "Elapsed 605.71s, 17.31 s/epoch, 0.02 s/batch, ets 259.59s\n",
            "\n",
            "Test set: Average loss: 0.6719, Accuracy: 7695/10000 (77%)\n",
            "\n",
            "Train Epoch: 35 [6400/50000] Loss: 0.744572 Acc: 0.7344\n",
            "Train Epoch: 35 [12800/50000] Loss: 0.502451 Acc: 0.8125\n",
            "Train Epoch: 35 [19200/50000] Loss: 0.456348 Acc: 0.8594\n",
            "Train Epoch: 35 [25600/50000] Loss: 0.410761 Acc: 0.8438\n",
            "Train Epoch: 35 [32000/50000] Loss: 0.490612 Acc: 0.8438\n",
            "Train Epoch: 35 [38400/50000] Loss: 0.615755 Acc: 0.7969\n",
            "Train Epoch: 35 [44800/50000] Loss: 0.622229 Acc: 0.7969\n",
            "Elapsed 623.64s, 17.32 s/epoch, 0.02 s/batch, ets 242.53s\n",
            "\n",
            "Test set: Average loss: 0.6655, Accuracy: 7755/10000 (78%)\n",
            "\n",
            "Train Epoch: 36 [6400/50000] Loss: 0.432478 Acc: 0.8438\n",
            "Train Epoch: 36 [12800/50000] Loss: 0.642348 Acc: 0.7656\n",
            "Train Epoch: 36 [19200/50000] Loss: 0.623711 Acc: 0.7969\n",
            "Train Epoch: 36 [25600/50000] Loss: 0.395179 Acc: 0.8750\n",
            "Train Epoch: 36 [32000/50000] Loss: 0.585872 Acc: 0.8438\n",
            "Train Epoch: 36 [38400/50000] Loss: 0.583511 Acc: 0.7656\n",
            "Train Epoch: 36 [44800/50000] Loss: 0.516582 Acc: 0.8438\n",
            "Elapsed 640.45s, 17.31 s/epoch, 0.02 s/batch, ets 225.02s\n",
            "\n",
            "Test set: Average loss: 0.6873, Accuracy: 7602/10000 (76%)\n",
            "\n",
            "Train Epoch: 37 [6400/50000] Loss: 0.602634 Acc: 0.7656\n",
            "Train Epoch: 37 [12800/50000] Loss: 0.664253 Acc: 0.7656\n",
            "Train Epoch: 37 [19200/50000] Loss: 0.525727 Acc: 0.8281\n",
            "Train Epoch: 37 [25600/50000] Loss: 0.360898 Acc: 0.9062\n",
            "Train Epoch: 37 [32000/50000] Loss: 0.384968 Acc: 0.8125\n",
            "Train Epoch: 37 [38400/50000] Loss: 0.379279 Acc: 0.8438\n",
            "Train Epoch: 37 [44800/50000] Loss: 0.593379 Acc: 0.7969\n",
            "Elapsed 657.43s, 17.30 s/epoch, 0.02 s/batch, ets 207.61s\n",
            "\n",
            "Test set: Average loss: 0.6087, Accuracy: 7908/10000 (79%)\n",
            "\n",
            "Accuracy improved, saving the model.\n",
            "\n",
            "Train Epoch: 38 [6400/50000] Loss: 0.640947 Acc: 0.7969\n",
            "Train Epoch: 38 [12800/50000] Loss: 0.736674 Acc: 0.7656\n",
            "Train Epoch: 38 [19200/50000] Loss: 0.646613 Acc: 0.7656\n",
            "Train Epoch: 38 [25600/50000] Loss: 0.746006 Acc: 0.7500\n",
            "Train Epoch: 38 [32000/50000] Loss: 0.462337 Acc: 0.7969\n",
            "Train Epoch: 38 [38400/50000] Loss: 0.672086 Acc: 0.7969\n",
            "Train Epoch: 38 [44800/50000] Loss: 0.724473 Acc: 0.8125\n",
            "Elapsed 675.29s, 17.32 s/epoch, 0.02 s/batch, ets 190.47s\n",
            "\n",
            "Test set: Average loss: 0.6325, Accuracy: 7797/10000 (78%)\n",
            "\n",
            "Train Epoch: 39 [6400/50000] Loss: 0.395335 Acc: 0.8906\n",
            "Train Epoch: 39 [12800/50000] Loss: 0.420300 Acc: 0.8438\n",
            "Train Epoch: 39 [19200/50000] Loss: 0.566958 Acc: 0.7812\n",
            "Train Epoch: 39 [25600/50000] Loss: 0.691345 Acc: 0.7656\n",
            "Train Epoch: 39 [32000/50000] Loss: 0.542655 Acc: 0.7656\n",
            "Train Epoch: 39 [38400/50000] Loss: 0.623823 Acc: 0.7500\n",
            "Train Epoch: 39 [44800/50000] Loss: 0.509190 Acc: 0.7969\n",
            "Elapsed 692.13s, 17.30 s/epoch, 0.02 s/batch, ets 173.03s\n",
            "\n",
            "Test set: Average loss: 0.5954, Accuracy: 7931/10000 (79%)\n",
            "\n",
            "Accuracy improved, saving the model.\n",
            "\n",
            "Train Epoch: 40 [6400/50000] Loss: 0.665126 Acc: 0.8125\n",
            "Train Epoch: 40 [12800/50000] Loss: 0.653756 Acc: 0.8125\n",
            "Train Epoch: 40 [19200/50000] Loss: 0.450441 Acc: 0.8125\n",
            "Train Epoch: 40 [25600/50000] Loss: 0.783287 Acc: 0.6875\n",
            "Train Epoch: 40 [32000/50000] Loss: 0.662821 Acc: 0.7812\n",
            "Train Epoch: 40 [38400/50000] Loss: 0.328641 Acc: 0.9062\n",
            "Train Epoch: 40 [44800/50000] Loss: 0.635067 Acc: 0.7656\n",
            "Elapsed 708.73s, 17.29 s/epoch, 0.02 s/batch, ets 155.58s\n",
            "\n",
            "Test set: Average loss: 0.6923, Accuracy: 7648/10000 (76%)\n",
            "\n",
            "Train Epoch: 41 [6400/50000] Loss: 0.269443 Acc: 0.8594\n",
            "Train Epoch: 41 [12800/50000] Loss: 0.640777 Acc: 0.7812\n",
            "Train Epoch: 41 [19200/50000] Loss: 0.425264 Acc: 0.8438\n",
            "Train Epoch: 41 [25600/50000] Loss: 0.522774 Acc: 0.8281\n",
            "Train Epoch: 41 [32000/50000] Loss: 0.487947 Acc: 0.8125\n",
            "Train Epoch: 41 [38400/50000] Loss: 0.498538 Acc: 0.8125\n",
            "Train Epoch: 41 [44800/50000] Loss: 0.612675 Acc: 0.7656\n",
            "Elapsed 726.48s, 17.30 s/epoch, 0.02 s/batch, ets 138.38s\n",
            "\n",
            "Test set: Average loss: 0.6254, Accuracy: 7873/10000 (79%)\n",
            "\n",
            "Train Epoch: 42 [6400/50000] Loss: 0.607592 Acc: 0.7969\n",
            "Train Epoch: 42 [12800/50000] Loss: 0.442856 Acc: 0.8281\n",
            "Train Epoch: 42 [19200/50000] Loss: 0.519550 Acc: 0.8125\n",
            "Train Epoch: 42 [25600/50000] Loss: 0.320773 Acc: 0.8906\n",
            "Train Epoch: 42 [32000/50000] Loss: 0.335261 Acc: 0.8438\n",
            "Train Epoch: 42 [38400/50000] Loss: 0.503913 Acc: 0.7969\n",
            "Train Epoch: 42 [44800/50000] Loss: 0.705508 Acc: 0.7500\n",
            "Elapsed 743.21s, 17.28 s/epoch, 0.02 s/batch, ets 120.99s\n",
            "\n",
            "Test set: Average loss: 0.7386, Accuracy: 7475/10000 (75%)\n",
            "\n",
            "Train Epoch: 43 [6400/50000] Loss: 0.658666 Acc: 0.7812\n",
            "Train Epoch: 43 [12800/50000] Loss: 0.573455 Acc: 0.7969\n",
            "Train Epoch: 43 [19200/50000] Loss: 0.365525 Acc: 0.8594\n",
            "Train Epoch: 43 [25600/50000] Loss: 0.736548 Acc: 0.7500\n",
            "Train Epoch: 43 [32000/50000] Loss: 0.538477 Acc: 0.8125\n",
            "Train Epoch: 43 [38400/50000] Loss: 0.478171 Acc: 0.8281\n",
            "Train Epoch: 43 [44800/50000] Loss: 0.530046 Acc: 0.7969\n",
            "Elapsed 759.99s, 17.27 s/epoch, 0.02 s/batch, ets 103.64s\n",
            "\n",
            "Test set: Average loss: 0.7467, Accuracy: 7566/10000 (76%)\n",
            "\n",
            "Train Epoch: 44 [6400/50000] Loss: 0.362648 Acc: 0.8906\n",
            "Train Epoch: 44 [12800/50000] Loss: 0.474409 Acc: 0.8125\n",
            "Train Epoch: 44 [19200/50000] Loss: 0.660960 Acc: 0.7656\n",
            "Train Epoch: 44 [25600/50000] Loss: 0.487141 Acc: 0.8438\n",
            "Train Epoch: 44 [32000/50000] Loss: 0.461898 Acc: 0.8125\n",
            "Train Epoch: 44 [38400/50000] Loss: 0.468087 Acc: 0.8281\n",
            "Train Epoch: 44 [44800/50000] Loss: 0.395861 Acc: 0.8281\n",
            "Elapsed 777.83s, 17.29 s/epoch, 0.02 s/batch, ets 86.43s\n",
            "\n",
            "Test set: Average loss: 0.7112, Accuracy: 7653/10000 (77%)\n",
            "\n",
            "Train Epoch: 45 [6400/50000] Loss: 0.433058 Acc: 0.8906\n",
            "Train Epoch: 45 [12800/50000] Loss: 0.687141 Acc: 0.7969\n",
            "Train Epoch: 45 [19200/50000] Loss: 0.660193 Acc: 0.7500\n",
            "Train Epoch: 45 [25600/50000] Loss: 0.432343 Acc: 0.7969\n",
            "Train Epoch: 45 [32000/50000] Loss: 0.678098 Acc: 0.8125\n",
            "Train Epoch: 45 [38400/50000] Loss: 0.588617 Acc: 0.8125\n",
            "Train Epoch: 45 [44800/50000] Loss: 0.398057 Acc: 0.8750\n",
            "Elapsed 794.69s, 17.28 s/epoch, 0.02 s/batch, ets 69.10s\n",
            "\n",
            "Test set: Average loss: 0.5734, Accuracy: 8017/10000 (80%)\n",
            "\n",
            "Accuracy improved, saving the model.\n",
            "\n",
            "Train Epoch: 46 [6400/50000] Loss: 0.564505 Acc: 0.8594\n",
            "Train Epoch: 46 [12800/50000] Loss: 0.466322 Acc: 0.8125\n",
            "Train Epoch: 46 [19200/50000] Loss: 0.458080 Acc: 0.8281\n",
            "Train Epoch: 46 [25600/50000] Loss: 0.633597 Acc: 0.7969\n",
            "Train Epoch: 46 [32000/50000] Loss: 0.378526 Acc: 0.8750\n",
            "Train Epoch: 46 [38400/50000] Loss: 0.515521 Acc: 0.8438\n",
            "Train Epoch: 46 [44800/50000] Loss: 0.638962 Acc: 0.7812\n",
            "Elapsed 811.64s, 17.27 s/epoch, 0.02 s/batch, ets 51.81s\n",
            "\n",
            "Test set: Average loss: 0.5821, Accuracy: 8048/10000 (80%)\n",
            "\n",
            "Accuracy improved, saving the model.\n",
            "\n",
            "Train Epoch: 47 [6400/50000] Loss: 0.654428 Acc: 0.8125\n",
            "Train Epoch: 47 [12800/50000] Loss: 0.376935 Acc: 0.9219\n",
            "Train Epoch: 47 [19200/50000] Loss: 0.320753 Acc: 0.8438\n",
            "Train Epoch: 47 [25600/50000] Loss: 0.598919 Acc: 0.8438\n",
            "Train Epoch: 47 [32000/50000] Loss: 0.434782 Acc: 0.8125\n",
            "Train Epoch: 47 [38400/50000] Loss: 0.466820 Acc: 0.8281\n",
            "Train Epoch: 47 [44800/50000] Loss: 0.543246 Acc: 0.7969\n",
            "Elapsed 829.39s, 17.28 s/epoch, 0.02 s/batch, ets 34.56s\n",
            "\n",
            "Test set: Average loss: 0.5760, Accuracy: 8034/10000 (80%)\n",
            "\n",
            "Train Epoch: 48 [6400/50000] Loss: 0.462936 Acc: 0.8594\n",
            "Train Epoch: 48 [12800/50000] Loss: 0.371165 Acc: 0.8906\n",
            "Train Epoch: 48 [19200/50000] Loss: 0.606273 Acc: 0.8281\n",
            "Train Epoch: 48 [25600/50000] Loss: 0.469268 Acc: 0.8125\n",
            "Train Epoch: 48 [32000/50000] Loss: 0.292528 Acc: 0.8906\n",
            "Train Epoch: 48 [38400/50000] Loss: 0.325458 Acc: 0.8594\n",
            "Train Epoch: 48 [44800/50000] Loss: 0.545242 Acc: 0.8281\n",
            "Elapsed 846.24s, 17.27 s/epoch, 0.02 s/batch, ets 17.27s\n",
            "\n",
            "Test set: Average loss: 0.6281, Accuracy: 7811/10000 (78%)\n",
            "\n",
            "Train Epoch: 49 [6400/50000] Loss: 0.553189 Acc: 0.7812\n",
            "Train Epoch: 49 [12800/50000] Loss: 0.542265 Acc: 0.8438\n",
            "Train Epoch: 49 [19200/50000] Loss: 0.285800 Acc: 0.9062\n",
            "Train Epoch: 49 [25600/50000] Loss: 0.513547 Acc: 0.8438\n",
            "Train Epoch: 49 [32000/50000] Loss: 0.459386 Acc: 0.8594\n",
            "Train Epoch: 49 [38400/50000] Loss: 0.761313 Acc: 0.6875\n",
            "Train Epoch: 49 [44800/50000] Loss: 0.452979 Acc: 0.8281\n",
            "Elapsed 863.13s, 17.26 s/epoch, 0.02 s/batch, ets 0.00s\n",
            "\n",
            "Test set: Average loss: 0.5521, Accuracy: 8102/10000 (81%)\n",
            "\n",
            "Accuracy improved, saving the model.\n",
            "\n",
            "Total time: 866.41, Best Loss: 0.552, Best Accuracy: 0.810\n"
          ]
        }
      ]
    },
    {
      "cell_type": "markdown",
      "metadata": {
        "id": "jAy0TSpHJGbi",
        "nbgrader": {
          "grade": false,
          "locked": true,
          "solution": false
        }
      },
      "source": [
        "# <font style=\"color:blue\">12. Plot Loss</font>"
      ]
    },
    {
      "cell_type": "code",
      "metadata": {
        "id": "usF5DnpSJGbi",
        "lines_to_next_cell": 2,
        "nbgrader": {
          "grade": false,
          "locked": true,
          "solution": false
        },
        "colab": {
          "base_uri": "https://localhost:8080/",
          "height": 564
        },
        "outputId": "11f100c2-65b6-4287-9298-f5aad45ead42"
      },
      "source": [
        "# Plot loss\n",
        "plt.rcParams[\"figure.figsize\"] = (10, 6)\n",
        "x = range(len(epoch_train_loss))\n",
        "\n",
        "\n",
        "plt.figure\n",
        "plt.plot(x, epoch_train_loss, color='r', label=\"train loss\")\n",
        "plt.plot(x, epoch_test_loss, color='b', label=\"validation loss\")\n",
        "plt.xlabel('epoch no.')\n",
        "plt.ylabel('loss')\n",
        "plt.legend(loc='upper right')\n",
        "plt.title('Training and Validation Loss')\n",
        "plt.show()"
      ],
      "execution_count": 48,
      "outputs": [
        {
          "output_type": "display_data",
          "data": {
            "text/plain": [
              "<Figure size 1000x600 with 1 Axes>"
            ],
            "image/png": "[encoded data removed]"
          },
          "metadata": {}
        }
      ]
    },
    {
      "cell_type": "markdown",
      "metadata": {
        "id": "my7EZy1MJGbl",
        "nbgrader": {
          "grade": false,
          "locked": true,
          "solution": false
        }
      },
      "source": [
        "# <font style=\"color:blue\">13. Plot Accuracy</font>"
      ]
    },
    {
      "cell_type": "code",
      "metadata": {
        "id": "N_LPC69oJGbm",
        "nbgrader": {
          "grade": false,
          "locked": true,
          "solution": false
        },
        "colab": {
          "base_uri": "https://localhost:8080/",
          "height": 564
        },
        "outputId": "f0f52630-4f60-419a-883a-1fce9050cb23"
      },
      "source": [
        "# Plot loss\n",
        "plt.rcParams[\"figure.figsize\"] = (10, 6)\n",
        "x = range(len(epoch_train_loss))\n",
        "\n",
        "\n",
        "plt.figure\n",
        "plt.plot(x, epoch_train_acc, color='r', label=\"train accuracy\")\n",
        "plt.plot(x, epoch_test_acc, color='b', label=\"validation accuracy\")\n",
        "plt.xlabel('epoch no.')\n",
        "plt.ylabel('accuracy')\n",
        "plt.legend(loc='center right')\n",
        "plt.title('Training and Validation Accuracy')\n",
        "plt.show()"
      ],
      "execution_count": 49,
      "outputs": [
        {
          "output_type": "display_data",
          "data": {
            "text/plain": [
              "<Figure size 1000x600 with 1 Axes>"
            ],
            "image/png": "[encoded data removed]"
          },
          "metadata": {}
        }
      ]
    },
    {
      "cell_type": "markdown",
      "metadata": {
        "id": "W_q1qekQJGbp",
        "nbgrader": {
          "grade": false,
          "locked": true,
          "solution": false
        }
      },
      "source": [
        "# <font style=\"color:blue\">14. Loading the Model </font>\n"
      ]
    },
    {
      "cell_type": "code",
      "metadata": {
        "id": "WM-icBgDJGbp",
        "nbgrader": {
          "grade": false,
          "locked": true,
          "solution": false
        },
        "colab": {
          "base_uri": "https://localhost:8080/"
        },
        "outputId": "8974718c-7f7a-49bb-be51-ed4e68c2166c"
      },
      "source": [
        "# initialize the model\n",
        "cnn_model = MyModel()\n",
        "\n",
        "models = 'models'\n",
        "\n",
        "model_file_name = 'cifar10_cnn_model.pt'\n",
        "\n",
        "model_path = os.path.join(models, model_file_name)\n",
        "\n",
        "# loading the model and getting model parameters by using load_state_dict\n",
        "cnn_model.load_state_dict(torch.load(model_path))"
      ],
      "execution_count": 50,
      "outputs": [
        {
          "output_type": "execute_result",
          "data": {
            "text/plain": [
              "<All keys matched successfully>"
            ]
          },
          "metadata": {},
          "execution_count": 50
        }
      ]
    },
    {
      "cell_type": "markdown",
      "metadata": {
        "id": "nF5uuusgJGbs",
        "nbgrader": {
          "grade": false,
          "locked": true,
          "solution": false
        }
      },
      "source": [
        "# <font style=\"color:blue\">15. Model Prediction</font>\n"
      ]
    },
    {
      "cell_type": "code",
      "metadata": {
        "id": "hyAmSgK2JGbs",
        "nbgrader": {
          "grade": false,
          "locked": true,
          "solution": false
        }
      },
      "source": [
        "def prediction(model, train_config, batch_input):\n",
        "\n",
        "    # send model to cpu/cuda according to your system configuration\n",
        "    model.to(train_config.device)\n",
        "\n",
        "    # it is important to do model.eval() before prediction\n",
        "    model.eval()\n",
        "\n",
        "    data = batch_input.to(train_config.device)\n",
        "\n",
        "    output = model(data)\n",
        "\n",
        "    # Score to probability using softmax\n",
        "    prob = F.softmax(output, dim=1)\n",
        "\n",
        "    # get the max probability\n",
        "    pred_prob = prob.data.max(dim=1)[0]\n",
        "\n",
        "    # get the index of the max probability\n",
        "    pred_index = prob.data.max(dim=1)[1]\n",
        "\n",
        "    return pred_index.cpu().numpy(), pred_prob.cpu().numpy()"
      ],
      "execution_count": 51,
      "outputs": []
    },
    {
      "cell_type": "markdown",
      "metadata": {
        "id": "iaGRXs4HJGbx",
        "nbgrader": {
          "grade": false,
          "locked": true,
          "solution": false
        }
      },
      "source": [
        "# <font style=\"color:blue\">16. Perform Inference on sample images </font>\n",
        "\n",
        "For prediction, we need to transform the data in the same way as we have done during training."
      ]
    },
    {
      "cell_type": "code",
      "metadata": {
        "id": "0L5ecPKtJGbx",
        "lines_to_next_cell": 2,
        "nbgrader": {
          "grade": false,
          "locked": true,
          "solution": false
        },
        "colab": {
          "base_uri": "https://localhost:8080/",
          "height": 1000
        },
        "outputId": "c4743ab0-74c0-4979-9d00-71624ef2c875"
      },
      "source": [
        "classes = ('plane', 'car', 'bird', 'cat', 'deer', 'dog', 'frog', 'horse', 'ship', 'truck')\n",
        "\n",
        "batch_size = 5\n",
        "train_config = TrainingConfiguration()\n",
        "\n",
        "if torch.cuda.is_available():\n",
        "    train_config.device = \"cuda\"\n",
        "else:\n",
        "    train_config.device = \"cpu\"\n",
        "\n",
        "\n",
        "\n",
        "# load test data without image transformation\n",
        "test = torch.utils.data.DataLoader(\n",
        "    datasets.CIFAR10(root=train_config.data_root, train=False, download=False,\n",
        "                   transform=transforms.functional.to_tensor),\n",
        "    batch_size=batch_size,\n",
        "    shuffle=False,\n",
        "    num_workers=1\n",
        "    )\n",
        "\n",
        "try:\n",
        "    mean, std = get_mean_std_train_data(data_root)\n",
        "    assert len(mean) == len(std) == 3\n",
        "except:\n",
        "    mean = (0.5, 0.5, 0.5)\n",
        "    std = (0.5, 0.5, 0.5)\n",
        "\n",
        "# load testdata with image transformation\n",
        "image_transforms = transforms.Compose([\n",
        "    transforms.ToTensor(),\n",
        "    transforms.Normalize(mean, std)\n",
        "    ])\n",
        "\n",
        "test_trans = torch.utils.data.DataLoader(\n",
        "    datasets.CIFAR10(root=train_config.data_root, train=False, download=False, transform=image_transforms),\n",
        "    batch_size=batch_size,\n",
        "    shuffle=False,\n",
        "    num_workers=1\n",
        "    )\n",
        "\n",
        "for data, _ in test_trans:\n",
        "    # pass the loaded model\n",
        "    pred, prob = prediction(cnn_model, train_config, data)\n",
        "    break\n",
        "\n",
        "\n",
        "plt.rcParams[\"figure.figsize\"] = (3, 3)\n",
        "for images, label in test:\n",
        "    for i, img in enumerate(images):\n",
        "        img = transforms.functional.to_pil_image(img)\n",
        "        plt.imshow(img)\n",
        "        plt.gca().set_title('Pred: {0}({1:0.2}), Label: {2}'.format(classes[pred[i]], prob[i], classes[label[i]]))\n",
        "        plt.show()\n",
        "    break"
      ],
      "execution_count": 53,
      "outputs": [
        {
          "output_type": "display_data",
          "data": {
            "text/plain": [
              "<Figure size 300x300 with 1 Axes>"
            ],
            "image/png": "[encoded data removed]"
          },
          "metadata": {}
        },
        {
          "output_type": "display_data",
          "data": {
            "text/plain": [
              "<Figure size 300x300 with 1 Axes>"
            ],
            "image/png": "[encoded data removed]"
          },
          "metadata": {}
        },
        {
          "output_type": "display_data",
          "data": {
            "text/plain": [
              "<Figure size 300x300 with 1 Axes>"
            ],
            "image/png": "[encoded data removed]"
          },
          "metadata": {}
        },
        {
          "output_type": "display_data",
          "data": {
            "text/plain": [
              "<Figure size 300x300 with 1 Axes>"
            ],
            "image/png": "[encoded data removed]"
          },
          "metadata": {}
        },
        {
          "output_type": "display_data",
          "data": {
            "text/plain": [
              "<Figure size 300x300 with 1 Axes>"
            ],
            "image/png": "[encoded data removed]"
          },
          "metadata": {}
        }
      ]
    },
    {
      "cell_type": "markdown",
      "metadata": {
        "id": "nvMswVmpJGb1"
      },
      "source": [
        "# <font style=\"color:blue\">17. Report your findings</font>\n",
        "-\n",
        "-"
      ]
    },
    {
      "cell_type": "markdown",
      "metadata": {
        "id": "yTVSVzjFJGb2",
        "nbgrader": {
          "grade": false,
          "locked": true,
          "solution": false
        }
      },
      "source": [
        "# <font style=\"color:blue\">References</font>\n",
        "\n",
        "1. https://pytorch.org/tutorials/beginner/data_loading_tutorial.html\n",
        "1. https://pytorch.org/tutorials/beginner/saving_loading_models.html"
      ]
    }
  ]
}