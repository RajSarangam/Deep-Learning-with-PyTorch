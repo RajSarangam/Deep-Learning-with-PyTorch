{
  "cells": [
    {
      "cell_type": "markdown",
      "id": "985dddca-ccd0-4d55-af94-bd4d74318d93",
      "metadata": {
        "id": "985dddca-ccd0-4d55-af94-bd4d74318d93"
      },
      "source": [
        "<h1 style=\"font-size:30px;\">Neural Network Optimizers</h1>\n",
        "\n",
        "Thus far in the course, we have used various optimizers to train models and reviewed the theory for four different types (SGD, SGD + Momentum, RMSProp, and Adam). `torch.optim` is a PyTorch module with various optimization algorithms. It would help if you visited the documentation pages <a href=\"https://pytorch.org/docs/stable/optim.html\" target=_blank>here</a> to learn more about the parameters available for each.\n",
        "\n",
        "In this notebook, we will compare four different optimizers using the LeNet5 model and the Fashion MNIST dataset. We will train the model four different times using different optimizers. In each case, we will use the same learning rate for each optimizer and plot the **training** loss as shown below to get a better feel for the convergence properties of each optimizer.\n",
        "\n",
        "<img src='https://opencv.org/wp-content/uploads/2023/05/c3_w4_optimizers_cover.png' align='center' width='900'>"
      ]
    },
    {
      "cell_type": "code",
      "execution_count": null,
      "id": "70d2683a-be86-42c9-a78d-272aa891fa79",
      "metadata": {
        "id": "70d2683a-be86-42c9-a78d-272aa891fa79"
      },
      "outputs": [],
      "source": [
        "import os\n",
        "import gc\n",
        "import random\n",
        "import warnings\n",
        "from dataclasses import dataclass\n",
        "from IPython.display import clear_output\n",
        "\n",
        "import numpy as np\n",
        "import matplotlib.pyplot as plt\n",
        "\n",
        "import torch\n",
        "import torch.nn as nn\n",
        "import torch.optim as optim\n",
        "import torch.nn.functional as F\n",
        "from torch.utils.data import DataLoader\n",
        "\n",
        "from torchvision import datasets, transforms\n",
        "\n",
        "from matplotlib.ticker import (MultipleLocator, FormatStrFormatter)\n",
        "\n",
        "%matplotlib inline\n",
        "warnings.filterwarnings(action='ignore', category=UserWarning)"
      ]
    },
    {
      "cell_type": "code",
      "execution_count": null,
      "id": "ae6339a0",
      "metadata": {
        "id": "ae6339a0"
      },
      "outputs": [],
      "source": [
        "def system_config(SEED_VALUE=42, package_list=None):\n",
        "    \"\"\"\n",
        "    Configures the system environment for PyTorch-based operations.\n",
        "\n",
        "    Args:\n",
        "        SEED_VALUE (int): Seed value for random number generation. Default is 42.\n",
        "        package_list (str): String containing a list of additional packages to install\n",
        "        for Google Colab or Kaggle. Default is None.\n",
        "\n",
        "    Returns:\n",
        "        tuple: A tuple containing the device name as a string and a boolean indicating GPU availability.\n",
        "    \"\"\"\n",
        "\n",
        "    random.seed(SEED_VALUE)\n",
        "    np.random.seed(SEED_VALUE)\n",
        "    torch.manual_seed(SEED_VALUE)\n",
        "\n",
        "    def is_running_in_colab():\n",
        "        return 'COLAB_GPU' in os.environ\n",
        "\n",
        "    def is_running_in_kaggle():\n",
        "        return 'KAGGLE_KERNEL_RUN_TYPE' in os.environ\n",
        "\n",
        "    #--------------------------------\n",
        "    # Check for the availability GPUs.\n",
        "    #--------------------------------\n",
        "    if torch.cuda.is_available():\n",
        "        print('Using CUDA GPU')\n",
        "\n",
        "        # This section for installing packages required by Colab.\n",
        "        if is_running_in_colab() or is_running_in_kaggle():\n",
        "            print('Installing required packages...')\n",
        "            !pip install {package_list}\n",
        "\n",
        "        # Set the device to the first CUDA device.\n",
        "        DEVICE = torch.device('cuda')\n",
        "        print(\"Device: \", DEVICE)\n",
        "        GPU_AVAILABLE = True\n",
        "\n",
        "        torch.cuda.manual_seed(SEED_VALUE)\n",
        "        torch.cuda.manual_seed_all(SEED_VALUE)\n",
        "\n",
        "        # Performance and deterministic behavior.\n",
        "        torch.backends.cudnn.enabled = True       # Provides highly optimized primitives for DL operations.\n",
        "        torch.backends.cudnn.deterministic = True # Insures deterministic even when above cudnn is enabled.\n",
        "        torch.backends.cudnn.benchmark = False    # Setting to True can cause non-deterministic behavior.\n",
        "\n",
        "    elif torch.backends.mps.is_available() and torch.backends.mps.is_built():\n",
        "        print('Using Apple Silicon GPU')\n",
        "\n",
        "        # Set the device to the Apple Silicon GPU Metal Performance Shader (MPS).\n",
        "        DEVICE = torch.device(\"mps\")\n",
        "        print(\"Device: \", DEVICE)\n",
        "        # Environment variable that allows PyTorch to fall back to CPU execution\n",
        "        # when encountering operations that are not currently supported by MPS.\n",
        "        os.environ['PYTORCH_ENABLE_MPS_FALLBACK'] = '1'\n",
        "        GPU_AVAILABLE = True\n",
        "\n",
        "        torch.mps.manual_seed(SEED_VALUE)\n",
        "        torch.use_deterministic_algorithms(True)\n",
        "\n",
        "    else:\n",
        "        print('Using CPU')\n",
        "        DEVICE = torch.device('cpu')\n",
        "        print(\"Device: \", DEVICE)\n",
        "        GPU_AVAILABLE = False\n",
        "\n",
        "        if is_running_in_colab() or is_running_in_kaggle():\n",
        "            print('Installing required packages...')\n",
        "            !pip install -q {package_list}\n",
        "            print('Note: Change runtime type to GPU for better performance.')\n",
        "\n",
        "        torch.use_deterministic_algorithms(True)\n",
        "\n",
        "    return str(DEVICE), GPU_AVAILABLE"
      ]
    },
    {
      "cell_type": "code",
      "execution_count": null,
      "id": "630c6a72",
      "metadata": {
        "id": "630c6a72"
      },
      "outputs": [],
      "source": [
        "# Additional packages required for Google Colab or Kaggle.\n",
        "package_list = \"torchmetrics livelossplot torchinfo tqdm\"\n",
        "\n",
        "DEVICE, GPU_AVAILABLE = system_config(package_list=package_list)"
      ]
    },
    {
      "cell_type": "code",
      "execution_count": null,
      "id": "1f1819c5",
      "metadata": {
        "id": "1f1819c5"
      },
      "outputs": [],
      "source": [
        "from tqdm import tqdm\n",
        "from torchinfo import summary\n",
        "from torchmetrics import MeanMetric\n",
        "from torchmetrics.classification import MulticlassAccuracy"
      ]
    },
    {
      "cell_type": "markdown",
      "id": "b2f59d9d-7cf6-418b-9d0a-fd6bb2946eff",
      "metadata": {
        "id": "b2f59d9d-7cf6-418b-9d0a-fd6bb2946eff"
      },
      "source": [
        "We are defining two small helper function for reproducibility and to get the acceleration hardware available."
      ]
    },
    {
      "cell_type": "markdown",
      "id": "c6517db1-662e-4db3-bf63-7e5848e893c4",
      "metadata": {
        "id": "c6517db1-662e-4db3-bf63-7e5848e893c4"
      },
      "source": [
        "## 1 Training and Dataset Configurations"
      ]
    },
    {
      "cell_type": "code",
      "execution_count": null,
      "id": "e5af28d1-95f3-434d-865d-6120f5b37619",
      "metadata": {
        "id": "e5af28d1-95f3-434d-865d-6120f5b37619"
      },
      "outputs": [],
      "source": [
        "@dataclass(frozen=True)\n",
        "class DatasetConfig:\n",
        "    HEIGHT:      int = 32\n",
        "    WIDTH:       int = 32\n",
        "    CHANNELS:    int = 1\n",
        "    NUM_CLASSES: int = 10\n",
        "    MEAN:      tuple = (0.2860,)\n",
        "    STD:       tuple = (0.3530,)\n",
        "    DATA_ROOT:   str = \"data\"\n",
        "\n",
        "\n",
        "@dataclass(frozen=True)\n",
        "class TrainingConfig:\n",
        "    BATCH_SIZE:      int = 128\n",
        "    NUM_EPOCHS:      int = 11\n",
        "    LEARNING_RATE: float = 0.001\n",
        "    NUM_WORKERS:     int = 0"
      ]
    },
    {
      "cell_type": "markdown",
      "id": "3e1693b8-5f19-4fd1-8dc1-02abf79f44f6",
      "metadata": {
        "id": "3e1693b8-5f19-4fd1-8dc1-02abf79f44f6"
      },
      "source": [
        "## 2 Fashion MNIST Dataset"
      ]
    },
    {
      "cell_type": "markdown",
      "id": "qi11W8usql1Z",
      "metadata": {
        "id": "qi11W8usql1Z"
      },
      "source": [
        "\n",
        "The Fashion MNIST dataset is very similar to MNIST handwritten digits dataset, consisting of a training set of 60,000 examples and a test set of 10,000 examples. Each example is a 28x28 grayscale image, associated with a label from 10 classes.\n",
        "\n",
        "<img src='https://opencv.org/wp-content/uploads/2023/05/c3-w4-fashion-MNIST.png' width=700 align='center'><br/>"
      ]
    },
    {
      "cell_type": "markdown",
      "id": "c6caf3b1-d388-4fd9-bf6b-ac1b6a0a9517",
      "metadata": {
        "id": "c6caf3b1-d388-4fd9-bf6b-ac1b6a0a9517"
      },
      "source": [
        "### 2.1 Create DataLoaders"
      ]
    },
    {
      "cell_type": "code",
      "execution_count": null,
      "id": "ec98e020-1f44-48fb-97bc-4e05be125770",
      "metadata": {
        "id": "ec98e020-1f44-48fb-97bc-4e05be125770"
      },
      "outputs": [],
      "source": [
        "def get_data(resize_to=(32, 32), batch_size=32, pin_memory=False, data_root=\"data\", num_workers=0):\n",
        "\n",
        "    # We will only apply pre-processing transformations to the train and valid dataset.\n",
        "    preprocessing_transforms = transforms.Compose(\n",
        "        [\n",
        "            # Resize image.\n",
        "            transforms.Resize(resize_to),\n",
        "\n",
        "            # Re-scale image tensor values between 0-1. image_tensor /= 255\n",
        "            transforms.ToTensor(),\n",
        "\n",
        "            # Normalize image by Subtracting mean (0.2860) and divide by variance (0.3530) of the training dataset.\n",
        "            transforms.Normalize(DatasetConfig.MEAN, DatasetConfig.STD),\n",
        "        ]\n",
        "    )\n",
        "\n",
        "    # Initialize train dataloader\n",
        "    train_loader = DataLoader(\n",
        "        datasets.FashionMNIST(root=data_root, train=True, download=True, transform=preprocessing_transforms),\n",
        "        batch_size=batch_size,\n",
        "        pin_memory=pin_memory,\n",
        "        shuffle=True,\n",
        "        num_workers=num_workers,\n",
        "    )\n",
        "\n",
        "    # Initialize valid dataloader\n",
        "    valid_loader = DataLoader(\n",
        "        datasets.FashionMNIST(root=data_root, train=False, download=True, transform=preprocessing_transforms),\n",
        "        batch_size=batch_size,\n",
        "        pin_memory=pin_memory,\n",
        "        shuffle=False,\n",
        "        num_workers=num_workers,\n",
        "    )\n",
        "    return train_loader, valid_loader"
      ]
    },
    {
      "cell_type": "markdown",
      "id": "6fcc27ff-f87b-47a6-aa92-82c261e6e3e6",
      "metadata": {
        "id": "6fcc27ff-f87b-47a6-aa92-82c261e6e3e6"
      },
      "source": [
        "### 2.2 Data Visualization"
      ]
    },
    {
      "cell_type": "code",
      "execution_count": null,
      "id": "6477e306-3a71-4202-bb4d-ead02e1b096e",
      "metadata": {
        "id": "6477e306-3a71-4202-bb4d-ead02e1b096e"
      },
      "outputs": [],
      "source": [
        "# This function is used for reversing the Normalization step performed during image preprocessing.\n",
        "# Note the mean and std values must match the ones used.\n",
        "\n",
        "def denormalize(tensors, *, mean, std):\n",
        "    \"\"\"Denormalizes image tensors using mean and std provided\n",
        "    and clip values between 0 and 1\"\"\"\n",
        "\n",
        "    for c in range(DatasetConfig.CHANNELS):\n",
        "        tensors[:, c, :, :].mul_(std[c]).add_(mean[c])\n",
        "\n",
        "    return torch.clamp(tensors, min=0.0, max=1.0)"
      ]
    },
    {
      "cell_type": "code",
      "execution_count": null,
      "id": "b7add85f-0330-4aaf-8a62-723b8238c377",
      "metadata": {
        "id": "b7add85f-0330-4aaf-8a62-723b8238c377"
      },
      "outputs": [],
      "source": [
        "def visualize_samples(loader):\n",
        "\n",
        "    plt.figure(figsize=(18, 8))\n",
        "\n",
        "    for X, y in loader:\n",
        "\n",
        "        images = denormalize(X, mean=DatasetConfig.MEAN, std=DatasetConfig.STD).squeeze().numpy()\n",
        "        target = y.numpy()\n",
        "\n",
        "\n",
        "        for i in range(8):\n",
        "            plt.subplot(2, 4, i + 1)\n",
        "            plt.xticks([])\n",
        "            plt.yticks([])\n",
        "            plt.grid(False)\n",
        "            plt.imshow(images[i], cmap='gray')\n",
        "            plt.xlabel(target[i], fontsize=20)\n",
        "\n",
        "        plt.suptitle('Dataset Samples', fontsize=18)\n",
        "        plt.subplots_adjust(wspace=0.2, hspace=0.2)\n",
        "        plt.show()\n",
        "        plt.close()\n",
        "\n",
        "        break\n",
        "\n",
        "    return"
      ]
    },
    {
      "cell_type": "code",
      "execution_count": null,
      "id": "3f8dd6e9-7585-4113-8dfd-09de2efeafbf",
      "metadata": {
        "colab": {
          "base_uri": "https://localhost:8080/",
          "height": 1000
        },
        "id": "3f8dd6e9-7585-4113-8dfd-09de2efeafbf",
        "outputId": "fe67c56b-7a5a-4b1b-9889-e4c442dc04bd"
      },
      "outputs": [
        {
          "name": "stdout",
          "output_type": "stream",
          "text": [
            "Downloading http://fashion-mnist.s3-website.eu-central-1.amazonaws.com/train-images-idx3-ubyte.gz\n",
            "Downloading http://fashion-mnist.s3-website.eu-central-1.amazonaws.com/train-images-idx3-ubyte.gz to data/FashionMNIST/raw/train-images-idx3-ubyte.gz\n"
          ]
        },
        {
          "name": "stderr",
          "output_type": "stream",
          "text": [
            "100%|█████████████████████████████████████████| 26421880/26421880 [00:12<00:00, 2079053.68it/s]\n"
          ]
        },
        {
          "name": "stdout",
          "output_type": "stream",
          "text": [
            "Extracting data/FashionMNIST/raw/train-images-idx3-ubyte.gz to data/FashionMNIST/raw\n",
            "\n",
            "Downloading http://fashion-mnist.s3-website.eu-central-1.amazonaws.com/train-labels-idx1-ubyte.gz\n",
            "Downloading http://fashion-mnist.s3-website.eu-central-1.amazonaws.com/train-labels-idx1-ubyte.gz to data/FashionMNIST/raw/train-labels-idx1-ubyte.gz\n"
          ]
        },
        {
          "name": "stderr",
          "output_type": "stream",
          "text": [
            "100%|████████████████████████████████████████████████| 29515/29515 [00:00<00:00, 185635.70it/s]\n"
          ]
        },
        {
          "name": "stdout",
          "output_type": "stream",
          "text": [
            "Extracting data/FashionMNIST/raw/train-labels-idx1-ubyte.gz to data/FashionMNIST/raw\n",
            "\n",
            "Downloading http://fashion-mnist.s3-website.eu-central-1.amazonaws.com/t10k-images-idx3-ubyte.gz\n",
            "Downloading http://fashion-mnist.s3-website.eu-central-1.amazonaws.com/t10k-images-idx3-ubyte.gz to data/FashionMNIST/raw/t10k-images-idx3-ubyte.gz\n"
          ]
        },
        {
          "name": "stderr",
          "output_type": "stream",
          "text": [
            "100%|███████████████████████████████████████████| 4422102/4422102 [00:03<00:00, 1271552.39it/s]\n"
          ]
        },
        {
          "name": "stdout",
          "output_type": "stream",
          "text": [
            "Extracting data/FashionMNIST/raw/t10k-images-idx3-ubyte.gz to data/FashionMNIST/raw\n",
            "\n",
            "Downloading http://fashion-mnist.s3-website.eu-central-1.amazonaws.com/t10k-labels-idx1-ubyte.gz\n",
            "Downloading http://fashion-mnist.s3-website.eu-central-1.amazonaws.com/t10k-labels-idx1-ubyte.gz to data/FashionMNIST/raw/t10k-labels-idx1-ubyte.gz\n"
          ]
        },
        {
          "name": "stderr",
          "output_type": "stream",
          "text": [
            "100%|████████████████████████████████████████████████| 5148/5148 [00:00<00:00, 10589640.51it/s]\n"
          ]
        },
        {
          "name": "stdout",
          "output_type": "stream",
          "text": [
            "Extracting data/FashionMNIST/raw/t10k-labels-idx1-ubyte.gz to data/FashionMNIST/raw\n",
            "\n"
          ]
        },
        {
          "data": {
            "image/png": "[encoded data removed]",
            "text/plain": [
              "<Figure size 1800x800 with 8 Axes>"
            ]
          },
          "metadata": {},
          "output_type": "display_data"
        }
      ],
      "source": [
        "train_loader, valid_loader = get_data(\n",
        "    resize_to=(DatasetConfig.HEIGHT, DatasetConfig.WIDTH),\n",
        "    batch_size=TrainingConfig.BATCH_SIZE,\n",
        "    data_root=DatasetConfig.DATA_ROOT,\n",
        ")\n",
        "\n",
        "visualize_samples(valid_loader)"
      ]
    },
    {
      "cell_type": "markdown",
      "id": "ba8c05fb-3a8d-4b29-97cd-2c382cf01410",
      "metadata": {
        "id": "ba8c05fb-3a8d-4b29-97cd-2c382cf01410"
      },
      "source": [
        "## 3 LeNet5 Model"
      ]
    },
    {
      "cell_type": "code",
      "execution_count": null,
      "id": "8517cec7-5deb-461c-ab8c-e5501f473304",
      "metadata": {
        "id": "8517cec7-5deb-461c-ab8c-e5501f473304"
      },
      "outputs": [],
      "source": [
        "class LeNet5(nn.Module):\n",
        "    def __init__(self, num_classes=10):\n",
        "        super().__init__()\n",
        "\n",
        "        # convolution layers\n",
        "        self._body = nn.Sequential(\n",
        "            nn.Conv2d(in_channels=DatasetConfig.CHANNELS, out_channels=6, kernel_size=5),\n",
        "            nn.ReLU(inplace=True),\n",
        "            nn.MaxPool2d(kernel_size=2),\n",
        "\n",
        "            nn.Conv2d(in_channels=6, out_channels=16, kernel_size=5),\n",
        "            nn.ReLU(inplace=True),\n",
        "            nn.MaxPool2d(kernel_size=2),\n",
        "        )\n",
        "\n",
        "        # Fully connected layers\n",
        "        self._head = nn.Sequential(\n",
        "            # flatten the output of conv layers\n",
        "            nn.Flatten(),\n",
        "\n",
        "            nn.Linear(in_features=16 * 5 * 5, out_features=120),\n",
        "            nn.ReLU(inplace=True),\n",
        "\n",
        "            nn.Linear(in_features=120, out_features=84),\n",
        "            nn.ReLU(inplace=True),\n",
        "\n",
        "            nn.Linear(in_features=84, out_features=num_classes)\n",
        "        )\n",
        "\n",
        "    def forward(self, x):\n",
        "        # apply feature extractor\n",
        "        x = self._body(x)\n",
        "\n",
        "        # apply classification head\n",
        "        x = self._head(x)\n",
        "        return x"
      ]
    },
    {
      "cell_type": "markdown",
      "id": "7d12505c-e5a3-46fa-9c38-bd03f117c6a0",
      "metadata": {
        "id": "7d12505c-e5a3-46fa-9c38-bd03f117c6a0"
      },
      "source": [
        "### 3.1 Print Model Summary"
      ]
    },
    {
      "cell_type": "code",
      "execution_count": null,
      "id": "69220411-a2e1-4c74-a81e-59995054b6d6",
      "metadata": {
        "colab": {
          "base_uri": "https://localhost:8080/"
        },
        "id": "69220411-a2e1-4c74-a81e-59995054b6d6",
        "outputId": "9007fccf-872e-4a53-f2cb-acfca6e85561"
      },
      "outputs": [
        {
          "data": {
            "text/plain": [
              "==========================================================================================\n",
              "Layer (type:depth-idx)                   Output Shape              Param #\n",
              "==========================================================================================\n",
              "LeNet5                                   [1, 10]                   --\n",
              "├─Sequential: 1-1                        [1, 16, 5, 5]             --\n",
              "│    └─Conv2d: 2-1                       [1, 6, 28, 28]            156\n",
              "│    └─ReLU: 2-2                         [1, 6, 28, 28]            --\n",
              "│    └─MaxPool2d: 2-3                    [1, 6, 14, 14]            --\n",
              "│    └─Conv2d: 2-4                       [1, 16, 10, 10]           2,416\n",
              "│    └─ReLU: 2-5                         [1, 16, 10, 10]           --\n",
              "│    └─MaxPool2d: 2-6                    [1, 16, 5, 5]             --\n",
              "├─Sequential: 1-2                        [1, 10]                   --\n",
              "│    └─Flatten: 2-7                      [1, 400]                  --\n",
              "│    └─Linear: 2-8                       [1, 120]                  48,120\n",
              "│    └─ReLU: 2-9                         [1, 120]                  --\n",
              "│    └─Linear: 2-10                      [1, 84]                   10,164\n",
              "│    └─ReLU: 2-11                        [1, 84]                   --\n",
              "│    └─Linear: 2-12                      [1, 10]                   850\n",
              "==========================================================================================\n",
              "Total params: 61,706\n",
              "Trainable params: 61,706\n",
              "Non-trainable params: 0\n",
              "Total mult-adds (M): 0.42\n",
              "==========================================================================================\n",
              "Input size (MB): 0.00\n",
              "Forward/backward pass size (MB): 0.05\n",
              "Params size (MB): 0.25\n",
              "Estimated Total Size (MB): 0.30\n",
              "=========================================================================================="
            ]
          },
          "execution_count": 15,
          "metadata": {},
          "output_type": "execute_result"
        }
      ],
      "source": [
        "lenet_model = LeNet5(num_classes=DatasetConfig.NUM_CLASSES)\n",
        "\n",
        "summary(lenet_model, input_size=(1, DatasetConfig.CHANNELS, DatasetConfig.HEIGHT, DatasetConfig.WIDTH))"
      ]
    },
    {
      "cell_type": "markdown",
      "id": "1251c6ce-f123-486c-a2b1-a4a430863e91",
      "metadata": {
        "id": "1251c6ce-f123-486c-a2b1-a4a430863e91",
        "tags": []
      },
      "source": [
        "## 4 Training and Validation Helper functions"
      ]
    },
    {
      "cell_type": "markdown",
      "id": "253c7e94-95db-4e10-ba9f-5d9273eda389",
      "metadata": {
        "id": "253c7e94-95db-4e10-ba9f-5d9273eda389"
      },
      "source": [
        "Next we are defining the `train_one_epoch` and `validate` function. The function definitions are basically the same as in the previous notebooks.\n",
        "\n",
        "1. `train_one_epoch(...)` - This function is used to perform 1 epoch of training where parameters of the model are updated.\n",
        "2. `validate(...)` - This function is used to evaluate how good the model performs on unseen images.\n",
        "\n",
        "Both the `train_one_epoch(...)` and `validate(...)` functions utilize the `tqdm` package to display a progress bar during training and evaluation stages, which visually represents the progress of the training and evaluation loops. The bar displays the running loss and accuracy of the model."
      ]
    },
    {
      "cell_type": "code",
      "execution_count": null,
      "id": "b2bb964c-da65-4489-b0c6-676f6b6a76b2",
      "metadata": {
        "id": "b2bb964c-da65-4489-b0c6-676f6b6a76b2"
      },
      "outputs": [],
      "source": [
        "def train_one_epoch(\n",
        "    model: torch.nn.Module,\n",
        "    optimizer: torch.optim.Optimizer,\n",
        "    train_loader: torch.utils.data.DataLoader,\n",
        "    device: torch.device,\n",
        "    num_classes: int,\n",
        "    epoch_idx: int,\n",
        "    total_epochs: int,\n",
        "):\n",
        "    # Set model to training mode.\n",
        "    model.train()\n",
        "\n",
        "    # Torchmetrics classes used to record and calulate loss and accuracy\n",
        "    loss_record = MeanMetric()\n",
        "    acc_record  = MulticlassAccuracy(num_classes=num_classes, average=\"micro\")\n",
        "\n",
        "    loader_len = len(train_loader)\n",
        "\n",
        "    with tqdm(total=loader_len, ncols=122, ascii=True) as tq:\n",
        "        tq.set_description(f\"Train :: Epoch: {epoch_idx}/{total_epochs}\")\n",
        "\n",
        "        for data, target in train_loader:\n",
        "            tq.update(1)\n",
        "\n",
        "            # Send data and target to GPU device if available.\n",
        "            data   = data.to(device)\n",
        "            target = target.to(device)\n",
        "\n",
        "            # Reset parameters gradient to zero.\n",
        "            optimizer.zero_grad()\n",
        "\n",
        "            # Perform forward pass through the model.\n",
        "            logits = model(data)\n",
        "\n",
        "            # Calculate Cross-entropy loss.\n",
        "            loss = F.cross_entropy(logits, target)\n",
        "\n",
        "            # Find gradients w.r.t training parameters.\n",
        "            loss.backward()\n",
        "\n",
        "            # Update parameters using gradients.\n",
        "            optimizer.step()\n",
        "\n",
        "            # Record loss.\n",
        "            loss_record.update(loss.detach().cpu(), weight=data.shape[0])\n",
        "\n",
        "            # Get the index of node with max score.\n",
        "            pred = torch.argmax(logits, dim=1)\n",
        "\n",
        "            # Calculate and record accuracy.\n",
        "            acc_record.update(pred.cpu(), target.cpu())\n",
        "\n",
        "            # Update progress bar description with running mean and accuracy values.\n",
        "            tq.set_postfix_str(s=f\"Loss: {loss_record.compute():.4f}, Acc: {acc_record.compute():.4f}\")\n",
        "\n",
        "    # Get final loss and accuracy.\n",
        "    # The values are the same as the one displayed for the final iteration.\n",
        "    epoch_loss = loss_record.compute()\n",
        "    epoch_acc  = acc_record.compute()\n",
        "\n",
        "    return epoch_loss.item(), epoch_acc.item()"
      ]
    },
    {
      "cell_type": "code",
      "execution_count": null,
      "id": "2c4d16d2-ac70-41ee-bdbd-5cc13e318835",
      "metadata": {
        "id": "2c4d16d2-ac70-41ee-bdbd-5cc13e318835"
      },
      "outputs": [],
      "source": [
        "def validate(\n",
        "    model: nn.Module,\n",
        "    valid_loader: torch.utils.data.DataLoader,\n",
        "    device: torch.device,\n",
        "    num_classes: int,\n",
        "    epoch_idx: int,\n",
        "    total_epochs: int\n",
        "):\n",
        "\n",
        "    # Set model in evaluation mode.\n",
        "    model.eval()\n",
        "\n",
        "    loss_record = MeanMetric()\n",
        "    acc_record = MulticlassAccuracy(num_classes=num_classes, average=\"micro\")\n",
        "\n",
        "    loader_len = len(valid_loader)\n",
        "\n",
        "    with tqdm(total=loader_len, ncols=122, ascii=True) as tq:\n",
        "        tq.set_description(f\"Valid :: Epoch: {epoch_idx}/{total_epochs}\")\n",
        "\n",
        "        for data, target in valid_loader:\n",
        "            tq.update(1)\n",
        "\n",
        "            # Send data and target to GPU device if available.\n",
        "            data     = data.to(device)\n",
        "            target = target.to(device)\n",
        "\n",
        "            with torch.no_grad():\n",
        "                # Perform forward pass through the model.\n",
        "                logits = model(data)\n",
        "\n",
        "            # Calculate Cross-entropy loss.\n",
        "            loss = F.cross_entropy(logits, target)\n",
        "\n",
        "            # Record loss.\n",
        "            loss_record.update(loss.cpu(), weight=data.shape[0])\n",
        "\n",
        "            # Get the index of node with max score.\n",
        "            pred = torch.argmax(logits, dim=1)\n",
        "\n",
        "            # Calculate and record accuracy\n",
        "            acc_record.update(pred.cpu(), target.cpu())\n",
        "\n",
        "        valid_epoch_loss = loss_record.compute()\n",
        "        valid_epoch_acc  = acc_record.compute()\n",
        "\n",
        "        # Update progress bar description to display epoch log.\n",
        "        tq.set_postfix_str(s=f\"Loss: {valid_epoch_loss:.4f}, Acc: {valid_epoch_acc:.4f}\")\n",
        "\n",
        "    return valid_epoch_loss.item(), valid_epoch_acc.item()"
      ]
    },
    {
      "cell_type": "markdown",
      "id": "9f9cc24d-bd64-4653-a055-92554072d80f",
      "metadata": {
        "id": "9f9cc24d-bd64-4653-a055-92554072d80f"
      },
      "source": [
        "## 5 Main function for Training"
      ]
    },
    {
      "cell_type": "markdown",
      "id": "94f7c608-06b9-4931-a21e-b8dba147461a",
      "metadata": {
        "id": "94f7c608-06b9-4931-a21e-b8dba147461a"
      },
      "source": [
        "Some of important actions and repetitive actions that will be performed inside the `main(...)` function are as follows:\n",
        "\n",
        "1. Load the data using dataloaders.\n",
        "2. Set up variables to track loss and accuracy during training.\n",
        "3. For each epoch, call train function and validate function"
      ]
    },
    {
      "cell_type": "code",
      "execution_count": null,
      "id": "afdb5ea8-ea57-4168-a904-e0297b9a8969",
      "metadata": {
        "id": "afdb5ea8-ea57-4168-a904-e0297b9a8969"
      },
      "outputs": [],
      "source": [
        "def main(model, optimizer, device, pin_memory=False):\n",
        "\n",
        "    # Intialize train and valid dataloaders.\n",
        "    train_loader, valid_loader = get_data(\n",
        "        resize_to   = (DatasetConfig.HEIGHT, DatasetConfig.WIDTH),\n",
        "        batch_size  = TrainingConfig.BATCH_SIZE,\n",
        "        pin_memory  = pin_memory,\n",
        "        data_root   = DatasetConfig.DATA_ROOT,\n",
        "        num_workers = TrainingConfig.NUM_WORKERS\n",
        "    )\n",
        "\n",
        "    # Accumulate train and valid per epoch metric.\n",
        "    epoch_train_acc = []\n",
        "    epoch_valid_acc = []\n",
        "    epoch_train_loss = []\n",
        "    epoch_valid_loss = []\n",
        "\n",
        "    total_epochs = TrainingConfig.NUM_EPOCHS\n",
        "\n",
        "    # # # Compile Model.\n",
        "    # # Uncomment this line if you are using PyTorch 2.0.\n",
        "    # # Sometimes compilation can also lead to error, do a test run with few epochs\n",
        "    # # to ensure the code runs without any error. If it doesn't turn off compilation.\n",
        "    # model = torch.compile(model)\n",
        "\n",
        "    for epoch in range(total_epochs):\n",
        "        # Clear display.\n",
        "        clear_output()\n",
        "\n",
        "        # Train for one epoch.\n",
        "        train_loss, train_acc = train_one_epoch(model, optimizer, train_loader, device, DatasetConfig.NUM_CLASSES, epoch+1, total_epochs)\n",
        "\n",
        "        # Perform validation run.\n",
        "        valid_loss, valid_acc = validate(model, valid_loader, device, DatasetConfig.NUM_CLASSES, epoch+1, total_epochs)\n",
        "\n",
        "        # Collect epoch loss and accuracy\n",
        "        epoch_train_loss.append(train_loss)\n",
        "        epoch_valid_loss.append(valid_loss)\n",
        "\n",
        "        epoch_train_acc.append(train_acc)\n",
        "        epoch_valid_acc.append(valid_acc)\n",
        "\n",
        "    del model\n",
        "    del optimizer\n",
        "    del train_loader\n",
        "    del valid_loader\n",
        "    gc.collect()\n",
        "    torch.cuda.empty_cache()\n",
        "\n",
        "    return epoch_train_acc, epoch_train_loss, epoch_valid_acc, epoch_valid_loss"
      ]
    },
    {
      "cell_type": "markdown",
      "id": "25e530a8-4383-4ed7-8deb-36c4da99eb7b",
      "metadata": {
        "id": "25e530a8-4383-4ed7-8deb-36c4da99eb7b"
      },
      "source": [
        "## 6 Training using SGD (Gradient Descent)"
      ]
    },
    {
      "cell_type": "markdown",
      "id": "39d8a213-5ec3-4618-a124-76f440bd2c6e",
      "metadata": {
        "id": "39d8a213-5ec3-4618-a124-76f440bd2c6e"
      },
      "source": [
        "**Gradient descent update rule:**\n",
        "\n",
        "$$\n",
        "\\normalsize{W_t = W_{t-1} -\\alpha g_{t-1}}\n",
        "$$\n",
        "\n",
        "where,\n",
        "\n",
        "$$\n",
        "W = \\begin{bmatrix}\n",
        "           w_{1} \\\\\n",
        "           w_{2} \\\\\n",
        "           \\vdots \\\\\n",
        "           w_{n}\n",
        "         \\end{bmatrix}\n",
        "$$\n",
        "\n",
        "and,\n",
        "\n",
        "\n",
        "$$\n",
        "g = \\begin{bmatrix}\n",
        "           \\frac{\\partial L}{\\partial w_1} \\\\\n",
        "           \\frac{\\partial L}{\\partial w_2}  \\\\\n",
        "           \\vdots \\\\\n",
        "           \\frac{\\partial L}{\\partial w_n}\n",
        "         \\end{bmatrix}\n",
        "$$\n",
        "\n",
        "\n",
        "---\n",
        "\n",
        "**For stochastic gradient descent update, we are using the `torch.optim.SGD` class available in PyTorch with the following arguments:**\n",
        "\n",
        "\n",
        "```python\n",
        "torch.optim.SGD(params,\n",
        "                lr=<required parameter>,\n",
        "                momentum=0,\n",
        "                dampening=0,\n",
        "                weight_decay=0,\n",
        "                nesterov=False\n",
        "               )\n",
        "```\n",
        "\n",
        "---\n",
        "\n",
        "***Parameters:***\n",
        "\n",
        "- **`params`** (iterable) – Iterable of parameters to optimize or dicts defining parameter groups. `model.parameters()` gives iterable model parameters. [Required]\n",
        "\n",
        "- **`lr`** (python:float) – Learning rate [Required]\n",
        "\n",
        "- `momentum` (python:float, optional) – Momentum factor (default: `0`)\n",
        "\n",
        "- `weight_decay` (python:float, optional) – Weight decay (L2 penalty) (default: `0`)\n",
        "\n",
        "- `dampening` (python:float, optional) – Dampening for momentum (default: `0`)\n",
        "\n",
        "- `nesterov` (bool, optional) – Enables Nesterov momentum (default: `False`)\n",
        "\n",
        "There are more parameters available in SGD class. You can find details <a href=\"https://pytorch.org/docs/stable/generated/torch.optim.SGD.html#torch.optim.SGD\" target=\"_blank\">over here</a>."
      ]
    },
    {
      "cell_type": "code",
      "execution_count": null,
      "id": "24bc1faf-3bef-48ce-b200-f525a8e2145c",
      "metadata": {
        "id": "24bc1faf-3bef-48ce-b200-f525a8e2145c",
        "outputId": "c4704a64-3490-4f89-a8ca-78c473fccf1a"
      },
      "outputs": [
        {
          "name": "stderr",
          "output_type": "stream",
          "text": [
            "Train :: Epoch: 11/11: 100%|#################################| 469/469 [00:06<00:00, 67.26it/s, Loss: 0.8593, Acc: 0.6798]\n",
            "Valid :: Epoch: 11/11: 100%|##################################| 79/79 [00:00<00:00, 100.37it/s, Loss: 0.8554, Acc: 0.6829]\n"
          ]
        }
      ],
      "source": [
        "# Initialize Model\n",
        "model = LeNet5(num_classes=DatasetConfig.NUM_CLASSES)\n",
        "model.to(DEVICE)\n",
        "\n",
        "# Intiaize Optimizer.\n",
        "optimizer = optim.SGD(\n",
        "    model.parameters(),\n",
        "    lr=TrainingConfig.LEARNING_RATE\n",
        ")\n",
        "\n",
        "train_acc_sgd, train_loss_sgd, valid_acc_sgd, valid_loss_sgd = main(model, optimizer, DEVICE, pin_memory=GPU_AVAILABLE)"
      ]
    },
    {
      "cell_type": "markdown",
      "id": "b39e0179-3006-4067-bb7e-e42d21e1ee1e",
      "metadata": {
        "id": "b39e0179-3006-4067-bb7e-e42d21e1ee1e"
      },
      "source": [
        "## 7 Training using SGD with Momentum"
      ]
    },
    {
      "cell_type": "markdown",
      "id": "952e3e25-6da2-4478-9514-c0b6d6a6e7cc",
      "metadata": {
        "id": "952e3e25-6da2-4478-9514-c0b6d6a6e7cc"
      },
      "source": [
        "**Gradient descent with momentun update rule:**\n",
        "\n",
        "$$\\normalsize{\n",
        "\\begin{align}\n",
        "v_t &= \\beta v_{t-1} + (1 - \\beta) g_{t-1} \\\\\n",
        "\\\\\n",
        "W_t &= W_{t-1} - \\alpha v_t \\\\\n",
        "\\end{align}}\n",
        "$$\n",
        "\n",
        "\n",
        "**In PyTorch, we use `torch.optim.SGD` with non-zero momentum ( $\\large{\\beta}$ ) value.**\n",
        "\n",
        "In the following training, we will use $\\beta = 0.9$."
      ]
    },
    {
      "cell_type": "code",
      "execution_count": null,
      "id": "dff58fbb-0674-4664-aeb6-8ad75164758e",
      "metadata": {
        "id": "dff58fbb-0674-4664-aeb6-8ad75164758e",
        "outputId": "2f27cb2b-107e-4d7d-a8d7-ea69042837f3"
      },
      "outputs": [
        {
          "name": "stderr",
          "output_type": "stream",
          "text": [
            "Train :: Epoch: 11/11: 100%|#################################| 469/469 [00:06<00:00, 67.14it/s, Loss: 0.4189, Acc: 0.8472]\n",
            "Valid :: Epoch: 11/11: 100%|###################################| 79/79 [00:00<00:00, 98.69it/s, Loss: 0.4477, Acc: 0.8371]\n"
          ]
        }
      ],
      "source": [
        "# Initialize Model\n",
        "model = LeNet5(num_classes=DatasetConfig.NUM_CLASSES)\n",
        "model.to(DEVICE)\n",
        "\n",
        "# Intiaize Optimizer.\n",
        "optimizer = optim.SGD(\n",
        "    model.parameters(),\n",
        "    lr=TrainingConfig.LEARNING_RATE,\n",
        "    momentum = 0.9  # Changing default value 0 to 0.9\n",
        ")\n",
        "\n",
        "train_acc_sgd_m, train_loss_sgd_m, valid_acc_sgd_m, valid_loss_sgd_m = main(model, optimizer, DEVICE, pin_memory=GPU_AVAILABLE)"
      ]
    },
    {
      "cell_type": "markdown",
      "id": "0766a8a9-673e-4390-9c97-65b6e2f47dcc",
      "metadata": {
        "id": "0766a8a9-673e-4390-9c97-65b6e2f47dcc"
      },
      "source": [
        "## 8 Training using RMSProp"
      ]
    },
    {
      "cell_type": "markdown",
      "id": "ff5ed304-b1bd-4e65-9438-8261a05b4330",
      "metadata": {
        "id": "ff5ed304-b1bd-4e65-9438-8261a05b4330"
      },
      "source": [
        "**RMSProp update rule:**\n",
        "\n",
        "\n",
        "$$\\normalsize{\n",
        "\\begin{align}\n",
        "s_t &= \\beta s_{t-1} + (1 - \\beta) g_{t-1}^2 \\\\\n",
        "\\\\\n",
        "W_t &= W_{t-1} - \\alpha \\frac {g_{t-1}}{\\sqrt s_t + \\epsilon} \\\\\n",
        "\\end{align}}\n",
        "$$\n",
        "\n",
        "---\n",
        "\n",
        "**For RMSProp optimization technique, we will use the torch.optim.RMSProp class available in PyTorch.**\n",
        "\n",
        "```python\n",
        "torch.optim.RMSprop(\n",
        "                    params,\n",
        "                    lr=0.01,\n",
        "                    alpha=0.99,\n",
        "                    eps=1e-08,\n",
        "                    weight_decay=0,\n",
        "                    momentum=0,\n",
        "                    centered=False\n",
        "                    )\n",
        "\n",
        "```\n",
        "\n",
        "---\n",
        "In the RMSProp class, there are two smoothing factors available.\n",
        "\n",
        "1. `alpha` (python:float, optional) – smoothing constant (default: `0.99`) - This parameter denotes the values of $\\beta$ term i.e., the smothing constant that we see above RMSProp update rule. It is used for calculating the weighted moving average: $s_{t}$ of the gradient.\n",
        "\n",
        "2. `momentum` (python:float, optional) – momentum factor (default: `0`) - This parameter is also used for smoothing but is used to smooth the gradient update term i.e  $\\large{\\frac {g_{t-1}}{\\sqrt s_t + \\epsilon}}$. We don't have to worry about this paramter as it generally not used.\n",
        "\n",
        "<br>\n",
        "\n",
        "---\n",
        "\n",
        "The other parameters of this class are as follows:\n",
        "\n",
        "* **`params`** (iterable) – Iterable of parameters to optimize or dicts defining parameter groups\n",
        "\n",
        "* `lr` (python:float, optional) – Learning rate (default: `1e-2`). $\\alpha$ is learning rate in the `RMSProp` update rule.\n",
        "\n",
        "* `eps` (python:float, optional) – Term added to the denominator to improve numerical stability (default: `1e-8`).\n",
        "\n",
        "* `centered` (bool, optional)  – If True, compute the centered RMSProp, the gradient is normalized by an estimation of its variance (default: `False`).\n",
        "\n",
        "* `weight_decay` (python:float, optional) – Weight decay (L2 penalty) (default: `0`)\n",
        "\n",
        "\n",
        "\n",
        "There are more parameters available in `RMSProp` class. You can find all available details <a href=\"https://pytorch.org/docs/stable/generated/torch.optim.RMSprop.html\" target=\"_blank\">over here</a>.\n",
        "\n",
        "\n"
      ]
    },
    {
      "cell_type": "code",
      "execution_count": null,
      "id": "ce212a7d-71e4-4197-a869-32932637dd98",
      "metadata": {
        "id": "ce212a7d-71e4-4197-a869-32932637dd98",
        "tags": [],
        "outputId": "478a1e2d-10f1-44fa-b301-a01ba8b05c5d"
      },
      "outputs": [
        {
          "name": "stderr",
          "output_type": "stream",
          "text": [
            "Train :: Epoch: 11/11: 100%|#################################| 469/469 [00:07<00:00, 64.94it/s, Loss: 0.1976, Acc: 0.9256]\n",
            "Valid :: Epoch: 11/11: 100%|###################################| 79/79 [00:00<00:00, 99.40it/s, Loss: 0.2812, Acc: 0.9038]\n"
          ]
        }
      ],
      "source": [
        "# Initialize Model\n",
        "model = LeNet5(num_classes=DatasetConfig.NUM_CLASSES)\n",
        "model.to(DEVICE)\n",
        "\n",
        "# Intiaize Optimizer.\n",
        "optimizer = optim.RMSprop(\n",
        "    model.parameters(),\n",
        "    lr=TrainingConfig.LEARNING_RATE,\n",
        ")\n",
        "\n",
        "train_acc_rprop, train_loss_rprop, valid_acc_rprop, valid_loss_rprop = main(model, optimizer, DEVICE, pin_memory=GPU_AVAILABLE)"
      ]
    },
    {
      "cell_type": "markdown",
      "id": "4c4e60a8-0985-44a4-95cc-950f320012d8",
      "metadata": {
        "id": "4c4e60a8-0985-44a4-95cc-950f320012d8"
      },
      "source": [
        "## 9 Training using Adam (Momentum + RMSProp)\n",
        "\n",
        "**Adam update rule:**\n",
        "$$\n",
        "\\normalsize{\n",
        "\\begin{align}\n",
        "v_t &= \\beta_1 v_{t-1} + (1 - \\beta_1) g_{t-1} \\\\\n",
        "\\\\\n",
        "s_t &= \\beta_2 s_{t-1} + (1 - \\beta_2) g_{t-1}^2 \\\\\n",
        "\\\\\n",
        "W_t &= W_{t-1} - \\alpha \\frac {v_{t}}{\\sqrt s_t + \\epsilon} \\\\\n",
        "\\end{align}}\n",
        "$$\n",
        "\n",
        "---\n",
        "\n",
        "**For Adam weight update, we use the following method in PyTorch:**\n",
        "\n",
        "```python\n",
        "torch.optim.Adam(params,\n",
        "                 lr=0.001,\n",
        "                 betas=(0.9, 0.999),\n",
        "                 eps=1e-08,\n",
        "                 weight_decay=0,\n",
        "                 amsgrad=False,\n",
        "                 fused=None\n",
        "                )\n",
        "\n",
        "```\n",
        "---\n",
        "\n",
        "\n",
        "***Parameters:***\n",
        "\n",
        "\n",
        "\n",
        "* **`params`** (iterable) – Iterable of parameters to optimize or dicts defining parameter groups\n",
        "\n",
        "* `lr` (python:float, optional) – Learning rate (default: `1e-3`). $\\alpha$ is learning rate in Adam update rule.\n",
        "\n",
        "* `betas` (Tuple[python:float, python:float], optional) – Coefficients used for computing running averages of gradient and its square (default: `(0.9, 0.999)`# Get available accelearation device. In Adam update rule, first value of tuple is $\\beta_1$ and second value is $\\beta_2$\n",
        "\n",
        "* `weight_decay` (python:float, optional) – Weight decay (L2 penalty) (default: `0`)\n",
        "\n",
        "* `amsgrad` (boolean, optional) (default: False) – Whether to use the AMSGrad variant of this algorithm from the paper <a href=\"https://openreview.net/forum?id=ryQu7f-RZ\" target=\"_blank\">On the Convergence of Adam and Beyond</a>\n",
        "\n",
        "* `fused` -  (bool, optional) default: `None` – Whether the fused implementation (CUDA only) is used.\n",
        "\n",
        "There are more parameters available in `Adam` class. You can find all available details <a href=\"https://pytorch.org/docs/stable/generated/torch.optim.Adam.html#torch.optim.Adam\" target=\"_blank\">over here</a>.\n"
      ]
    },
    {
      "cell_type": "code",
      "execution_count": null,
      "id": "82fd33a8-68b1-4b26-82de-ecd17e387a2b",
      "metadata": {
        "id": "82fd33a8-68b1-4b26-82de-ecd17e387a2b",
        "outputId": "7d8f3f3f-73fb-4bd8-d5be-edf3aa932b25"
      },
      "outputs": [
        {
          "name": "stderr",
          "output_type": "stream",
          "text": [
            "Train :: Epoch: 11/11: 100%|#################################| 469/469 [00:07<00:00, 59.53it/s, Loss: 0.2229, Acc: 0.9176]\n",
            "Valid :: Epoch: 11/11: 100%|###################################| 79/79 [00:00<00:00, 99.72it/s, Loss: 0.2894, Acc: 0.8960]\n"
          ]
        }
      ],
      "source": [
        "# Initialize Model\n",
        "model = LeNet5(num_classes=DatasetConfig.NUM_CLASSES)\n",
        "model.to(DEVICE)\n",
        "\n",
        "if DEVICE == 'cuda':\n",
        "    FUSED = True\n",
        "else:\n",
        "    FUSED = False\n",
        "\n",
        "# Intiaize Optimizer.\n",
        "optimizer = optim.Adam(\n",
        "    model.parameters(),\n",
        "    lr=TrainingConfig.LEARNING_RATE,\n",
        "    fused=FUSED,\n",
        ")\n",
        "\n",
        "train_acc_adam, train_loss_adam, valid_acc_adam, valid_loss_adam = main(model, optimizer, DEVICE, pin_memory=GPU_AVAILABLE)"
      ]
    },
    {
      "cell_type": "markdown",
      "id": "2d8dcd84-2c9b-4c32-9706-ebbea5a4de62",
      "metadata": {
        "id": "2d8dcd84-2c9b-4c32-9706-ebbea5a4de62"
      },
      "source": [
        "## 10 Plot Loss Curves For Comparison"
      ]
    },
    {
      "cell_type": "code",
      "execution_count": null,
      "id": "88e7e2c3-0cfc-44ed-8fc7-3acb21c9d83c",
      "metadata": {
        "id": "88e7e2c3-0cfc-44ed-8fc7-3acb21c9d83c"
      },
      "outputs": [],
      "source": [
        "def plot_results(metrics, ylabel=None, ylim=None, metric_name=None, color=None):\n",
        "    fig, ax = plt.subplots(figsize=(18, 5))\n",
        "    ax.set_facecolor(\"white\")\n",
        "\n",
        "    if not (isinstance(metric_name, list) or isinstance(metric_name, tuple)):\n",
        "        metrics = [metrics,]\n",
        "        metric_name = [metric_name,]\n",
        "\n",
        "    for idx, metric in enumerate(metrics):\n",
        "        ax.plot(metric, color=color[idx])\n",
        "\n",
        "    plt.xlabel(\"Epoch\")\n",
        "    plt.ylabel(ylabel)\n",
        "    plt.title(ylabel + \" per Epoch\")\n",
        "    plt.xlim([0, TrainingConfig.NUM_EPOCHS - 1])\n",
        "    plt.ylim(ylim)\n",
        "    # Tailor x-axis tick marks\n",
        "    ax.xaxis.set_major_locator(MultipleLocator(5))\n",
        "    ax.xaxis.set_major_formatter(FormatStrFormatter(\"%d\"))\n",
        "    ax.xaxis.set_minor_locator(MultipleLocator(1))\n",
        "    plt.grid(True)\n",
        "    plt.legend(metric_name)\n",
        "    plt.tight_layout()\n",
        "    plt.savefig(f\"{ylabel}.png\")\n",
        "    plt.show()\n",
        "    plt.close()"
      ]
    },
    {
      "cell_type": "markdown",
      "id": "4d9b3ca6-fdcb-48bb-8714-c8b81a817f46",
      "metadata": {
        "id": "4d9b3ca6-fdcb-48bb-8714-c8b81a817f46"
      },
      "source": [
        "### 10.1 Training Loss\n",
        "\n",
        "When evaluating optimizers, it's important to study the **training** loss to understand the convergence behavior on the training data. Remember that for a given model and dataset, the job of the optimizer is to perform well on the training data."
      ]
    },
    {
      "cell_type": "code",
      "execution_count": null,
      "id": "e6a0af6e-2097-4a87-b641-f8ba724ee220",
      "metadata": {
        "id": "e6a0af6e-2097-4a87-b641-f8ba724ee220",
        "outputId": "7ad971bd-fc7c-4e1a-96d4-bd220b137482"
      },
      "outputs": [
        {
          "data": {
            "image/png": "[encoded data removed]",
            "text/plain": [
              "<Figure size 1800x500 with 1 Axes>"
            ]
          },
          "metadata": {},
          "output_type": "display_data"
        }
      ],
      "source": [
        "plot_results(\n",
        "    [train_loss_sgd, train_loss_sgd_m, train_loss_rprop, train_loss_adam],\n",
        "    ylabel=\"Training Loss\",\n",
        "    ylim=[0.0, 2.5],\n",
        "    metric_name=[\"SGD\", \"SGD+Momentum\", \"RMSProp\", \"Adam\"],\n",
        "    color=[\"r\", \"b\", \"k\", \"g\"],\n",
        ")"
      ]
    },
    {
      "cell_type": "markdown",
      "id": "e956ed09-b33e-4ae0-92a2-30427564d030",
      "metadata": {
        "id": "e956ed09-b33e-4ae0-92a2-30427564d030"
      },
      "source": [
        "As shown in the plot above, SGD (red) has the highest loss of the four optimizers, while Adam (green) and RMSProp (black) eventually achieve the lowest loss. Also, notice that SGD+Momentum (blue) follows a very similar trend to Adam, though not quite as low. Initially, RMSProp (black) converges the fastest in the first 10-15 epochs, but at the end the curve is very similar to Adam. So for this model and dataset, Adam and RMSProp clearly perform better than SGD (+ momentum).\n",
        "\n",
        "But there are a couple of caveats. First, recall that in each case, we used the constant learning rate for each optimizer, which is a good thing to do initially. Once you have a baseline, you can adjust the learning rates for each optimizer to see how that affects the results. Another option is to adjust the learning rate during the training process programmatically by using a learning rate scheduler (we will cover this topic in a future notebook). There is often some experimentation required for selecting the \"best\" type of optimizer as well as tunning it. The main point here is that it's a good idea to try several optimizers initially. Although *Adam* generally performs very well under a wide range of conditions, it is not necessarily the best choice for all problems, and you should at least experiment initially to see which optimizer looks best. Once you select an optimizer, it is often required to experiment further to finetune the training of your model."
      ]
    },
    {
      "cell_type": "markdown",
      "id": "9ca146b7-e56b-40ea-b933-a8c68bd3486e",
      "metadata": {
        "id": "9ca146b7-e56b-40ea-b933-a8c68bd3486e"
      },
      "source": [
        "### 10.2 Validation Loss\n",
        "\n",
        "Although we often study validation loss when training models, this should not be the criteria by which an optimizer is selected, since the optimizer's job is to achieve fast and stable convergence on the training data. However, it is worth studying the validation loss in this case to make a few points."
      ]
    },
    {
      "cell_type": "code",
      "execution_count": null,
      "id": "58614cea-f650-4743-a134-a58d63d87c77",
      "metadata": {
        "id": "58614cea-f650-4743-a134-a58d63d87c77",
        "outputId": "f3311140-cc37-43ad-e59e-655d1ea54c10"
      },
      "outputs": [
        {
          "data": {
            "image/png": "[encoded data removed]",
            "text/plain": [
              "<Figure size 1800x500 with 1 Axes>"
            ]
          },
          "metadata": {},
          "output_type": "display_data"
        }
      ],
      "source": [
        "plot_results(\n",
        "    [valid_loss_sgd, valid_loss_sgd_m, valid_loss_rprop, valid_loss_adam],\n",
        "    ylabel=\"Valididation Loss\",\n",
        "    ylim=[0.0, 2.5],\n",
        "    metric_name=[\"SGD\", \"SGD+Momentum\", \"RMSProp\", \"Adam\"],\n",
        "    color=[\"r\", \"b\", \"k\", \"g\"],\n",
        ")"
      ]
    },
    {
      "cell_type": "markdown",
      "id": "b7ac6325-39e5-4d25-bfab-bd12a48b88ad",
      "metadata": {
        "id": "b7ac6325-39e5-4d25-bfab-bd12a48b88ad"
      },
      "source": [
        "In the plot above, we first notice that loss for Adam & RMSProp optimizers start diverging after about 10-15 epochs. The SGD and SGD + momentum optimizer takes longer to converge but flattens out and does not really appear to diverge. So it can be tempting to conclude that SGD and SGD + momentum might be a good choice. But again, we need to remember that while validation loss is important for fine-tuning model and hyperparameters for a given optimizer, this should not be the criteria by which an optimizer is selected.\n",
        "\n",
        "But if you compare these curves carefully, you will see that Adam, SGD+Momentum, and RMSProp all achieve about the same minimum (validation) loss which is lower than the SGD (red) optimizer, which takes much longer to reach its minimum value. So although we don't want to use validation loss as criteria for selecting the **type** of optimizer to use, the fact that the other three optimizers achieve a lower loss than SGD in just a few epochs is a good indication that they have better convergence properties than SGD."
      ]
    },
    {
      "cell_type": "markdown",
      "id": "e3e53447-3887-48a3-8a78-cf338d7f1557",
      "metadata": {
        "id": "e3e53447-3887-48a3-8a78-cf338d7f1557"
      },
      "source": [
        "## 11 Conclusion\n",
        "\n",
        "The main takeaway from this notebook is that it is worth studying the convergence properties of several optimizers to determine which one might be best suited for your problem. And the most important point to remember is that this comparison should be performed on the training dataset. Initially, it's recommended that the default learning rate for each optimizer be used to establish a baseline as opposed to the same learning rate for each optimizer because each optimizer works differently internally. After an initial assessment, as we have done here, you may decide to experiment further with the learning rates to help inform you which optimizer might be best."
      ]
    },
    {
      "cell_type": "code",
      "execution_count": null,
      "id": "b8bfa4f0",
      "metadata": {
        "id": "b8bfa4f0"
      },
      "outputs": [],
      "source": []
    }
  ],
  "metadata": {
    "accelerator": "GPU",
    "colab": {
      "gpuType": "T4",
      "provenance": []
    },
    "kernelspec": {
      "display_name": "py38-pt-metal",
      "language": "python",
      "name": "py38-pt-metal"
    },
    "language_info": {
      "codemirror_mode": {
        "name": "ipython",
        "version": 3
      },
      "file_extension": ".py",
      "mimetype": "text/x-python",
      "name": "python",
      "nbconvert_exporter": "python",
      "pygments_lexer": "ipython3",
      "version": "3.8.15"
    }
  },
  "nbformat": 4,
  "nbformat_minor": 5
}